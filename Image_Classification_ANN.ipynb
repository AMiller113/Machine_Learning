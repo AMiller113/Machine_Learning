{
  "nbformat": 4,
  "nbformat_minor": 0,
  "metadata": {
    "colab": {
      "name": "Image Classification ANN",
      "provenance": [],
      "collapsed_sections": [],
      "include_colab_link": true
    },
    "kernelspec": {
      "name": "python3",
      "display_name": "Python 3"
    },
    "accelerator": "TPU"
  },
  "cells": [
    {
      "cell_type": "markdown",
      "metadata": {
        "id": "view-in-github",
        "colab_type": "text"
      },
      "source": [
        "<a href=\"https://colab.research.google.com/github/AMiller113/Machine_Learning/blob/master/Image_Classification_ANN.ipynb\" target=\"_parent\"><img src=\"https://colab.research.google.com/assets/colab-badge.svg\" alt=\"Open In Colab\"/></a>"
      ]
    },
    {
      "cell_type": "code",
      "metadata": {
        "id": "51BuGjrftO6j",
        "colab_type": "code",
        "colab": {
          "base_uri": "https://localhost:8080/",
          "height": 168
        },
        "outputId": "bb09c6b0-80f0-4027-e0d0-d58ac0039ddd"
      },
      "source": [
        "!pip install -q tensorflow-gpu\n",
        "import tensorflow as tf\n",
        "tf.__version__"
      ],
      "execution_count": 1,
      "outputs": [
        {
          "output_type": "stream",
          "text": [
            "\u001b[K     |████████████████████████████████| 421.8MB 34kB/s \n",
            "\u001b[K     |████████████████████████████████| 450kB 44.2MB/s \n",
            "\u001b[K     |████████████████████████████████| 3.8MB 41.5MB/s \n",
            "\u001b[K     |████████████████████████████████| 81kB 9.8MB/s \n",
            "\u001b[31mERROR: tensorflow 1.15.0 has requirement tensorboard<1.16.0,>=1.15.0, but you'll have tensorboard 2.1.0 which is incompatible.\u001b[0m\n",
            "\u001b[31mERROR: tensorflow 1.15.0 has requirement tensorflow-estimator==1.15.1, but you'll have tensorflow-estimator 2.1.0 which is incompatible.\u001b[0m\n",
            "\u001b[31mERROR: tensorboard 2.1.0 has requirement grpcio>=1.24.3, but you'll have grpcio 1.15.0 which is incompatible.\u001b[0m\n",
            "\u001b[31mERROR: google-colab 1.0.0 has requirement google-auth~=1.4.0, but you'll have google-auth 1.10.1 which is incompatible.\u001b[0m\n",
            "\u001b[?25h"
          ],
          "name": "stdout"
        },
        {
          "output_type": "execute_result",
          "data": {
            "text/plain": [
              "'2.1.0'"
            ]
          },
          "metadata": {
            "tags": []
          },
          "execution_count": 1
        }
      ]
    },
    {
      "cell_type": "code",
      "metadata": {
        "id": "efUZ7f5k89xm",
        "colab_type": "code",
        "colab": {}
      },
      "source": [
        "import matplotlib.pyplot as plt"
      ],
      "execution_count": 0,
      "outputs": []
    },
    {
      "cell_type": "code",
      "metadata": {
        "id": "vq8ySc_72T6m",
        "colab_type": "code",
        "colab": {
          "base_uri": "https://localhost:8080/",
          "height": 50
        },
        "outputId": "a1821915-5c0d-4427-f608-8f07df6a22cd"
      },
      "source": [
        "(x_train, y_train), (x_test, y_test) = tf.keras.datasets.mnist.load_data()"
      ],
      "execution_count": 3,
      "outputs": [
        {
          "output_type": "stream",
          "text": [
            "Downloading data from https://storage.googleapis.com/tensorflow/tf-keras-datasets/mnist.npz\n",
            "11493376/11490434 [==============================] - 0s 0us/step\n"
          ],
          "name": "stdout"
        }
      ]
    },
    {
      "cell_type": "code",
      "metadata": {
        "id": "xmnHLIHH2qPY",
        "colab_type": "code",
        "colab": {}
      },
      "source": [
        "x_train = x_train/255.0\n",
        "x_test = x_test/255.0"
      ],
      "execution_count": 0,
      "outputs": []
    },
    {
      "cell_type": "code",
      "metadata": {
        "id": "2I-rExe83ELw",
        "colab_type": "code",
        "colab": {
          "base_uri": "https://localhost:8080/",
          "height": 706
        },
        "outputId": "26490e16-daba-4889-d9b5-91b47fa81386"
      },
      "source": [
        "model = tf.keras.models.Sequential()\n",
        "model.add(tf.keras.layers.Flatten(input_shape = (28,28)))\n",
        "model.add(tf.keras.layers.Dense(128, activation='relu'))\n",
        "model.add(tf.keras.layers.Dropout(.2))\n",
        "model.add(tf.keras.layers.Dense(10, activation='softmax'))\n",
        "model.compile(optimizer='adam', loss='sparse_categorical_crossentropy', metrics=['accuracy'])\n",
        "r = model.fit(x_train, y_train, validation_data=(x_test, y_test), epochs = 20)"
      ],
      "execution_count": 5,
      "outputs": [
        {
          "output_type": "stream",
          "text": [
            "Train on 60000 samples, validate on 10000 samples\n",
            "Epoch 1/20\n",
            "60000/60000 [==============================] - 6s 103us/sample - loss: 0.2963 - accuracy: 0.9126 - val_loss: 0.1343 - val_accuracy: 0.9602\n",
            "Epoch 2/20\n",
            "60000/60000 [==============================] - 6s 97us/sample - loss: 0.1436 - accuracy: 0.9566 - val_loss: 0.1043 - val_accuracy: 0.9677\n",
            "Epoch 3/20\n",
            "60000/60000 [==============================] - 6s 101us/sample - loss: 0.1076 - accuracy: 0.9675 - val_loss: 0.0870 - val_accuracy: 0.9745\n",
            "Epoch 4/20\n",
            "60000/60000 [==============================] - 6s 100us/sample - loss: 0.0883 - accuracy: 0.9724 - val_loss: 0.0828 - val_accuracy: 0.9750\n",
            "Epoch 5/20\n",
            "60000/60000 [==============================] - 6s 100us/sample - loss: 0.0752 - accuracy: 0.9763 - val_loss: 0.0786 - val_accuracy: 0.9767\n",
            "Epoch 6/20\n",
            "60000/60000 [==============================] - 6s 103us/sample - loss: 0.0667 - accuracy: 0.9786 - val_loss: 0.0771 - val_accuracy: 0.9768\n",
            "Epoch 7/20\n",
            "60000/60000 [==============================] - 6s 100us/sample - loss: 0.0578 - accuracy: 0.9815 - val_loss: 0.0670 - val_accuracy: 0.9783\n",
            "Epoch 8/20\n",
            "60000/60000 [==============================] - 6s 96us/sample - loss: 0.0530 - accuracy: 0.9822 - val_loss: 0.0736 - val_accuracy: 0.9774\n",
            "Epoch 9/20\n",
            "60000/60000 [==============================] - 6s 93us/sample - loss: 0.0500 - accuracy: 0.9836 - val_loss: 0.0730 - val_accuracy: 0.9785\n",
            "Epoch 10/20\n",
            "60000/60000 [==============================] - 6s 97us/sample - loss: 0.0437 - accuracy: 0.9851 - val_loss: 0.0721 - val_accuracy: 0.9784\n",
            "Epoch 11/20\n",
            "60000/60000 [==============================] - 6s 96us/sample - loss: 0.0413 - accuracy: 0.9860 - val_loss: 0.0759 - val_accuracy: 0.9790\n",
            "Epoch 12/20\n",
            "60000/60000 [==============================] - 6s 97us/sample - loss: 0.0373 - accuracy: 0.9868 - val_loss: 0.0738 - val_accuracy: 0.9801\n",
            "Epoch 13/20\n",
            "60000/60000 [==============================] - 6s 96us/sample - loss: 0.0356 - accuracy: 0.9880 - val_loss: 0.0717 - val_accuracy: 0.9804\n",
            "Epoch 14/20\n",
            "60000/60000 [==============================] - 6s 100us/sample - loss: 0.0345 - accuracy: 0.9880 - val_loss: 0.0797 - val_accuracy: 0.9796\n",
            "Epoch 15/20\n",
            "60000/60000 [==============================] - 6s 99us/sample - loss: 0.0320 - accuracy: 0.9888 - val_loss: 0.0763 - val_accuracy: 0.9803\n",
            "Epoch 16/20\n",
            "60000/60000 [==============================] - 6s 95us/sample - loss: 0.0316 - accuracy: 0.9892 - val_loss: 0.0755 - val_accuracy: 0.9793\n",
            "Epoch 17/20\n",
            "60000/60000 [==============================] - 6s 95us/sample - loss: 0.0296 - accuracy: 0.9896 - val_loss: 0.0853 - val_accuracy: 0.9786\n",
            "Epoch 18/20\n",
            "60000/60000 [==============================] - 6s 95us/sample - loss: 0.0265 - accuracy: 0.9909 - val_loss: 0.0801 - val_accuracy: 0.9796\n",
            "Epoch 19/20\n",
            "60000/60000 [==============================] - 6s 94us/sample - loss: 0.0262 - accuracy: 0.9909 - val_loss: 0.0865 - val_accuracy: 0.9793\n",
            "Epoch 20/20\n",
            "60000/60000 [==============================] - 6s 94us/sample - loss: 0.0283 - accuracy: 0.9904 - val_loss: 0.0727 - val_accuracy: 0.9805\n"
          ],
          "name": "stdout"
        }
      ]
    },
    {
      "cell_type": "code",
      "metadata": {
        "id": "lqJMiN9z9DUX",
        "colab_type": "code",
        "colab": {
          "base_uri": "https://localhost:8080/",
          "height": 84
        },
        "outputId": "f8760387-a991-43c0-b9a1-34dee239bcd4"
      },
      "source": [
        "print('Train Score:', model.evaluate(x_train, y_train))\n",
        "print('Test Score:', model.evaluate(x_test, y_test))"
      ],
      "execution_count": 6,
      "outputs": [
        {
          "output_type": "stream",
          "text": [
            "60000/60000 [==============================] - 3s 47us/sample - loss: 0.0078 - accuracy: 0.9979\n",
            "Train Score: [0.007784135120686066, 0.9979333]\n",
            "10000/10000 [==============================] - 0s 46us/sample - loss: 0.0727 - accuracy: 0.9805\n",
            "Test Score: [0.07266721318022319, 0.9805]\n"
          ],
          "name": "stdout"
        }
      ]
    },
    {
      "cell_type": "code",
      "metadata": {
        "id": "cOHf2vbe8k7q",
        "colab_type": "code",
        "colab": {
          "base_uri": "https://localhost:8080/",
          "height": 281
        },
        "outputId": "42623fec-c061-4bfe-b8ce-9f95d59e3215"
      },
      "source": [
        "plt.plot(r.history['loss'], label = 'Loss')\n",
        "plt.plot(r.history['val_loss'], label = 'Val_Loss')\n",
        "plt.legend()\n",
        "plt.title('Loss over epochs')\n",
        "plt.show()"
      ],
      "execution_count": 7,
      "outputs": [
        {
          "output_type": "display_data",
          "data": {
            "image/png": "[encoded data removed]",
            "text/plain": [
              "<Figure size 432x288 with 1 Axes>"
            ]
          },
          "metadata": {
            "tags": []
          }
        }
      ]
    },
    {
      "cell_type": "code",
      "metadata": {
        "id": "OI5e7mck-SAD",
        "colab_type": "code",
        "colab": {
          "base_uri": "https://localhost:8080/",
          "height": 281
        },
        "outputId": "f3f73184-72dc-4e11-bdf8-58381be20702"
      },
      "source": [
        "plt.plot(r.history['accuracy'], label = 'Accuracy')\n",
        "plt.plot(r.history['val_accuracy'], label = 'Val_Accuracy')\n",
        "plt.legend()\n",
        "plt.title('Accuracy over epochs')\n",
        "plt.show()"
      ],
      "execution_count": 8,
      "outputs": [
        {
          "output_type": "display_data",
          "data": {
            "image/png": "[encoded data removed]",
            "text/plain": [
              "<Figure size 432x288 with 1 Axes>"
            ]
          },
          "metadata": {
            "tags": []
          }
        }
      ]
    }
  ]
}