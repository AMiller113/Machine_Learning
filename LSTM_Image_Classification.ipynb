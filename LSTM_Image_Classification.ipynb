{
  "nbformat": 4,
  "nbformat_minor": 0,
  "metadata": {
    "colab": {
      "name": "LSTM Image Classification",
      "provenance": [],
      "collapsed_sections": [],
      "authorship_tag": "ABX9TyOvt4b0z2ChGzDBL9c275jB",
      "include_colab_link": true
    },
    "kernelspec": {
      "name": "python3",
      "display_name": "Python 3"
    },
    "accelerator": "GPU"
  },
  "cells": [
    {
      "cell_type": "markdown",
      "metadata": {
        "id": "view-in-github",
        "colab_type": "text"
      },
      "source": [
        "<a href=\"https://colab.research.google.com/github/AMiller113/Machine_Learning/blob/master/LSTM_Image_Classification.ipynb\" target=\"_parent\"><img src=\"https://colab.research.google.com/assets/colab-badge.svg\" alt=\"Open In Colab\"/></a>"
      ]
    },
    {
      "cell_type": "code",
      "metadata": {
        "id": "32ghbcJSaR8u",
        "colab_type": "code",
        "outputId": "2265b73e-9bd9-4a6f-811e-c535654cb159",
        "colab": {
          "base_uri": "https://localhost:8080/",
          "height": 168
        }
      },
      "source": [
        "!pip install -q tensorflow-gpu\n",
        "import tensorflow as tf\n",
        "tf.__version__"
      ],
      "execution_count": 1,
      "outputs": [
        {
          "output_type": "stream",
          "text": [
            "\u001b[K     |████████████████████████████████| 421.8MB 39kB/s \n",
            "\u001b[K     |████████████████████████████████| 450kB 49.3MB/s \n",
            "\u001b[K     |████████████████████████████████| 3.8MB 17.9MB/s \n",
            "\u001b[K     |████████████████████████████████| 81kB 12.0MB/s \n",
            "\u001b[31mERROR: tensorflow 1.15.0 has requirement tensorboard<1.16.0,>=1.15.0, but you'll have tensorboard 2.1.0 which is incompatible.\u001b[0m\n",
            "\u001b[31mERROR: tensorflow 1.15.0 has requirement tensorflow-estimator==1.15.1, but you'll have tensorflow-estimator 2.1.0 which is incompatible.\u001b[0m\n",
            "\u001b[31mERROR: tensorboard 2.1.0 has requirement grpcio>=1.24.3, but you'll have grpcio 1.15.0 which is incompatible.\u001b[0m\n",
            "\u001b[31mERROR: google-colab 1.0.0 has requirement google-auth~=1.4.0, but you'll have google-auth 1.10.1 which is incompatible.\u001b[0m\n",
            "\u001b[?25h"
          ],
          "name": "stdout"
        },
        {
          "output_type": "execute_result",
          "data": {
            "text/plain": [
              "'2.1.0'"
            ]
          },
          "metadata": {
            "tags": []
          },
          "execution_count": 1
        }
      ]
    },
    {
      "cell_type": "code",
      "metadata": {
        "id": "I3k4S6R-ag44",
        "colab_type": "code",
        "colab": {}
      },
      "source": [
        "from tensorflow.keras.layers import Input, LSTM, Dense, Flatten, GlobalMaxPooling1D\n",
        "from tensorflow.keras.models import Model\n",
        "from tensorflow.keras.optimizers import SGD, Adam\n",
        "\n",
        "import numpy as np\n",
        "import pandas as pd\n",
        "import matplotlib.pyplot as plt"
      ],
      "execution_count": 0,
      "outputs": []
    },
    {
      "cell_type": "code",
      "metadata": {
        "id": "kfoWvQFc79Rq",
        "colab_type": "code",
        "colab": {}
      },
      "source": [
        "# Load in the Mnist Datasets\n",
        "\n",
        "(x_train_m, y_train_m), (x_test_m, y_test_m) = tf.keras.datasets.mnist.load_data()\n",
        "(x_train_fashm, y_train_fashm), (x_test_fashm, y_test_fashm) = tf.keras.datasets.fashion_mnist.load_data()"
      ],
      "execution_count": 0,
      "outputs": []
    },
    {
      "cell_type": "code",
      "metadata": {
        "id": "tUyedEM59XZB",
        "colab_type": "code",
        "colab": {}
      },
      "source": [
        "# Standardize Data Sets\n",
        "\n",
        "def StandardizeImage(dataset):\n",
        "  dataset = dataset/255.0\n",
        "  return dataset\n",
        "\n",
        "x_train_m, x_train_fashm = StandardizeImage(x_train_m), StandardizeImage(x_train_fashm)\n",
        "x_test_m, x_test_fashm = StandardizeImage(x_test_m), StandardizeImage(x_test_fashm) "
      ],
      "execution_count": 0,
      "outputs": []
    },
    {
      "cell_type": "code",
      "metadata": {
        "id": "x8xr7CLm9Cf_",
        "colab_type": "code",
        "colab": {}
      },
      "source": [
        "# Create LSTM model\n",
        "\n",
        "i = Input(shape=(x_train_m.shape[1],x_train_m.shape[2]))\n",
        "x = LSTM(128, return_sequences=True)(i) # Note to Self: The Number of Hidden Neurons greatly effects the accuracy\n",
        "x = GlobalMaxPooling1D()(x)\n",
        "x = Dense(10, activation='softmax')(x)\n",
        "\n",
        "model = Model(i, x)\n",
        "model.compile(optimizer='adam', loss='sparse_categorical_crossentropy', metrics=['accuracy'])"
      ],
      "execution_count": 0,
      "outputs": []
    },
    {
      "cell_type": "code",
      "metadata": {
        "id": "nM8WQK5c_Ezi",
        "colab_type": "code",
        "outputId": "fc32f268-1ed1-43e6-99cc-54465ae1075f",
        "colab": {
          "base_uri": "https://localhost:8080/",
          "height": 706
        }
      },
      "source": [
        "# Train on Mnist\n",
        "r = model.fit(x_train_m, y_train_m,validation_data=(x_test_m, y_test_m), epochs=20, batch_size=64)"
      ],
      "execution_count": 6,
      "outputs": [
        {
          "output_type": "stream",
          "text": [
            "Train on 60000 samples, validate on 10000 samples\n",
            "Epoch 1/20\n",
            "60000/60000 [==============================] - 13s 216us/sample - loss: 0.4611 - accuracy: 0.8625 - val_loss: 0.1633 - val_accuracy: 0.9552\n",
            "Epoch 2/20\n",
            "60000/60000 [==============================] - 5s 92us/sample - loss: 0.1280 - accuracy: 0.9629 - val_loss: 0.1158 - val_accuracy: 0.9664\n",
            "Epoch 3/20\n",
            "60000/60000 [==============================] - 6s 93us/sample - loss: 0.0863 - accuracy: 0.9743 - val_loss: 0.0914 - val_accuracy: 0.9735\n",
            "Epoch 4/20\n",
            "60000/60000 [==============================] - 6s 98us/sample - loss: 0.0656 - accuracy: 0.9804 - val_loss: 0.0632 - val_accuracy: 0.9820\n",
            "Epoch 5/20\n",
            "60000/60000 [==============================] - 6s 94us/sample - loss: 0.0537 - accuracy: 0.9843 - val_loss: 0.0603 - val_accuracy: 0.9834\n",
            "Epoch 6/20\n",
            "60000/60000 [==============================] - 5s 90us/sample - loss: 0.0459 - accuracy: 0.9859 - val_loss: 0.0549 - val_accuracy: 0.9835\n",
            "Epoch 7/20\n",
            "60000/60000 [==============================] - 6s 92us/sample - loss: 0.0380 - accuracy: 0.9884 - val_loss: 0.0515 - val_accuracy: 0.9846\n",
            "Epoch 8/20\n",
            "60000/60000 [==============================] - 5s 91us/sample - loss: 0.0337 - accuracy: 0.9897 - val_loss: 0.0466 - val_accuracy: 0.9869\n",
            "Epoch 9/20\n",
            "60000/60000 [==============================] - 5s 91us/sample - loss: 0.0284 - accuracy: 0.9911 - val_loss: 0.0464 - val_accuracy: 0.9855\n",
            "Epoch 10/20\n",
            "60000/60000 [==============================] - 5s 90us/sample - loss: 0.0262 - accuracy: 0.9916 - val_loss: 0.0441 - val_accuracy: 0.9862\n",
            "Epoch 11/20\n",
            "60000/60000 [==============================] - 5s 90us/sample - loss: 0.0223 - accuracy: 0.9930 - val_loss: 0.0574 - val_accuracy: 0.9836\n",
            "Epoch 12/20\n",
            "60000/60000 [==============================] - 5s 91us/sample - loss: 0.0214 - accuracy: 0.9933 - val_loss: 0.0426 - val_accuracy: 0.9874\n",
            "Epoch 13/20\n",
            "60000/60000 [==============================] - 5s 91us/sample - loss: 0.0174 - accuracy: 0.9945 - val_loss: 0.0375 - val_accuracy: 0.9883\n",
            "Epoch 14/20\n",
            "60000/60000 [==============================] - 5s 90us/sample - loss: 0.0174 - accuracy: 0.9947 - val_loss: 0.0397 - val_accuracy: 0.9887\n",
            "Epoch 15/20\n",
            "60000/60000 [==============================] - 5s 90us/sample - loss: 0.0174 - accuracy: 0.9947 - val_loss: 0.0406 - val_accuracy: 0.9875\n",
            "Epoch 16/20\n",
            "60000/60000 [==============================] - 5s 91us/sample - loss: 0.0133 - accuracy: 0.9958 - val_loss: 0.0373 - val_accuracy: 0.9883\n",
            "Epoch 17/20\n",
            "60000/60000 [==============================] - 5s 91us/sample - loss: 0.0127 - accuracy: 0.9957 - val_loss: 0.0409 - val_accuracy: 0.9893\n",
            "Epoch 18/20\n",
            "60000/60000 [==============================] - 6s 92us/sample - loss: 0.0112 - accuracy: 0.9965 - val_loss: 0.0375 - val_accuracy: 0.9892\n",
            "Epoch 19/20\n",
            "60000/60000 [==============================] - 6s 92us/sample - loss: 0.0128 - accuracy: 0.9960 - val_loss: 0.0365 - val_accuracy: 0.9896\n",
            "Epoch 20/20\n",
            "60000/60000 [==============================] - 5s 91us/sample - loss: 0.0101 - accuracy: 0.9966 - val_loss: 0.0354 - val_accuracy: 0.9903\n"
          ],
          "name": "stdout"
        }
      ]
    },
    {
      "cell_type": "code",
      "metadata": {
        "id": "lqJMiN9z9DUX",
        "colab_type": "code",
        "outputId": "3d973063-303e-4166-d8b4-97f106774432",
        "colab": {
          "base_uri": "https://localhost:8080/",
          "height": 84
        }
      },
      "source": [
        "# Mnist Scores\n",
        "print('Train Score:', model.evaluate(x_train_m, y_train_m))\n",
        "print('Test Score:', model.evaluate(x_test_m, y_test_m))"
      ],
      "execution_count": 7,
      "outputs": [
        {
          "output_type": "stream",
          "text": [
            "60000/60000 [==============================] - 5s 91us/sample - loss: 0.0074 - accuracy: 0.9979\n",
            "Train Score: [0.007448966691447034, 0.9978833]\n",
            "10000/10000 [==============================] - 1s 89us/sample - loss: 0.0354 - accuracy: 0.9903\n",
            "Test Score: [0.03539378044863115, 0.9903]\n"
          ],
          "name": "stdout"
        }
      ]
    },
    {
      "cell_type": "code",
      "metadata": {
        "id": "cOHf2vbe8k7q",
        "colab_type": "code",
        "outputId": "5877b451-6a89-43d1-896a-df10cff928fd",
        "colab": {
          "base_uri": "https://localhost:8080/",
          "height": 281
        }
      },
      "source": [
        "# Mnist Loss Plot\n",
        "plt.plot(r.history['loss'], label = 'Loss')\n",
        "plt.plot(r.history['val_loss'], label = 'Val_Loss')\n",
        "plt.legend()\n",
        "plt.title('Loss over epochs')\n",
        "plt.show()"
      ],
      "execution_count": 8,
      "outputs": [
        {
          "output_type": "display_data",
          "data": {
            "image/png": "[encoded data removed]",
            "text/plain": [
              "<Figure size 432x288 with 1 Axes>"
            ]
          },
          "metadata": {
            "tags": []
          }
        }
      ]
    },
    {
      "cell_type": "code",
      "metadata": {
        "id": "OI5e7mck-SAD",
        "colab_type": "code",
        "outputId": "b44570f1-cecb-49f7-e429-9d63a113cbb9",
        "colab": {
          "base_uri": "https://localhost:8080/",
          "height": 281
        }
      },
      "source": [
        "# Mnist Accuracy Plot\n",
        "plt.plot(r.history['accuracy'], label = 'Accuracy')\n",
        "plt.plot(r.history['val_accuracy'], label = 'Val_Accuracy')\n",
        "plt.legend()\n",
        "plt.title('Accuracy over epochs')\n",
        "plt.show()"
      ],
      "execution_count": 9,
      "outputs": [
        {
          "output_type": "display_data",
          "data": {
            "image/png": "[encoded data removed]",
            "text/plain": [
              "<Figure size 432x288 with 1 Axes>"
            ]
          },
          "metadata": {
            "tags": []
          }
        }
      ]
    },
    {
      "cell_type": "code",
      "metadata": {
        "colab_type": "code",
        "outputId": "4e98b4f3-b5f9-434b-c581-dd9857d6708b",
        "id": "Q4P_vqv9AMBF",
        "colab": {
          "base_uri": "https://localhost:8080/",
          "height": 706
        }
      },
      "source": [
        "# Train on Fashion Mnist\n",
        "r = model.fit(x_train_fashm, y_train_fashm, validation_data=(x_test_fashm, y_test_fashm), epochs=20, batch_size=64)"
      ],
      "execution_count": 10,
      "outputs": [
        {
          "output_type": "stream",
          "text": [
            "Train on 60000 samples, validate on 10000 samples\n",
            "Epoch 1/20\n",
            "60000/60000 [==============================] - 6s 92us/sample - loss: 0.5149 - accuracy: 0.8226 - val_loss: 0.4007 - val_accuracy: 0.8522\n",
            "Epoch 2/20\n",
            "60000/60000 [==============================] - 6s 95us/sample - loss: 0.3495 - accuracy: 0.8715 - val_loss: 0.3478 - val_accuracy: 0.8731\n",
            "Epoch 3/20\n",
            "60000/60000 [==============================] - 5s 92us/sample - loss: 0.3131 - accuracy: 0.8849 - val_loss: 0.3432 - val_accuracy: 0.8769\n",
            "Epoch 4/20\n",
            "60000/60000 [==============================] - 5s 91us/sample - loss: 0.2926 - accuracy: 0.8920 - val_loss: 0.3275 - val_accuracy: 0.8826\n",
            "Epoch 5/20\n",
            "60000/60000 [==============================] - 5s 91us/sample - loss: 0.2761 - accuracy: 0.8976 - val_loss: 0.3194 - val_accuracy: 0.8832\n",
            "Epoch 6/20\n",
            "60000/60000 [==============================] - 5s 89us/sample - loss: 0.2658 - accuracy: 0.9013 - val_loss: 0.3145 - val_accuracy: 0.8876\n",
            "Epoch 7/20\n",
            "60000/60000 [==============================] - 5s 88us/sample - loss: 0.2527 - accuracy: 0.9064 - val_loss: 0.3238 - val_accuracy: 0.8851\n",
            "Epoch 8/20\n",
            "60000/60000 [==============================] - 5s 88us/sample - loss: 0.2441 - accuracy: 0.9095 - val_loss: 0.3073 - val_accuracy: 0.8877\n",
            "Epoch 9/20\n",
            "60000/60000 [==============================] - 5s 90us/sample - loss: 0.2340 - accuracy: 0.9139 - val_loss: 0.3014 - val_accuracy: 0.8885\n",
            "Epoch 10/20\n",
            "60000/60000 [==============================] - 5s 89us/sample - loss: 0.2254 - accuracy: 0.9163 - val_loss: 0.3001 - val_accuracy: 0.8920\n",
            "Epoch 11/20\n",
            "60000/60000 [==============================] - 5s 88us/sample - loss: 0.2192 - accuracy: 0.9180 - val_loss: 0.2913 - val_accuracy: 0.8953\n",
            "Epoch 12/20\n",
            "60000/60000 [==============================] - 5s 88us/sample - loss: 0.2112 - accuracy: 0.9218 - val_loss: 0.2944 - val_accuracy: 0.8982\n",
            "Epoch 13/20\n",
            "60000/60000 [==============================] - 5s 88us/sample - loss: 0.2015 - accuracy: 0.9248 - val_loss: 0.2899 - val_accuracy: 0.8969\n",
            "Epoch 14/20\n",
            "60000/60000 [==============================] - 5s 88us/sample - loss: 0.1989 - accuracy: 0.9264 - val_loss: 0.3062 - val_accuracy: 0.8945\n",
            "Epoch 15/20\n",
            "60000/60000 [==============================] - 5s 88us/sample - loss: 0.1918 - accuracy: 0.9276 - val_loss: 0.2954 - val_accuracy: 0.8986\n",
            "Epoch 16/20\n",
            "60000/60000 [==============================] - 5s 87us/sample - loss: 0.1858 - accuracy: 0.9313 - val_loss: 0.2855 - val_accuracy: 0.8987\n",
            "Epoch 17/20\n",
            "60000/60000 [==============================] - 5s 87us/sample - loss: 0.1773 - accuracy: 0.9341 - val_loss: 0.2968 - val_accuracy: 0.8956\n",
            "Epoch 18/20\n",
            "60000/60000 [==============================] - 5s 86us/sample - loss: 0.1767 - accuracy: 0.9342 - val_loss: 0.2911 - val_accuracy: 0.9007\n",
            "Epoch 19/20\n",
            "60000/60000 [==============================] - 5s 87us/sample - loss: 0.1684 - accuracy: 0.9379 - val_loss: 0.2867 - val_accuracy: 0.9032\n",
            "Epoch 20/20\n",
            "60000/60000 [==============================] - 5s 88us/sample - loss: 0.1636 - accuracy: 0.9396 - val_loss: 0.2928 - val_accuracy: 0.8994\n"
          ],
          "name": "stdout"
        }
      ]
    },
    {
      "cell_type": "code",
      "metadata": {
        "colab_type": "code",
        "id": "VV_cQ8P2AM7L",
        "outputId": "a427e3c3-c405-4f8e-adc2-8a4d908d2b6f",
        "colab": {
          "base_uri": "https://localhost:8080/",
          "height": 84
        }
      },
      "source": [
        "# Fashion Mnist Scores\n",
        "print('Train Score:', model.evaluate(x_train_fashm, y_train_fashm))\n",
        "print('Test Score:', model.evaluate(x_test_fashm, y_test_fashm))"
      ],
      "execution_count": 11,
      "outputs": [
        {
          "output_type": "stream",
          "text": [
            "60000/60000 [==============================] - 5s 85us/sample - loss: 0.1527 - accuracy: 0.9430\n",
            "Train Score: [0.15270016809205214, 0.94296664]\n",
            "10000/10000 [==============================] - 1s 88us/sample - loss: 0.2928 - accuracy: 0.8994\n",
            "Test Score: [0.29276305468082425, 0.8994]\n"
          ],
          "name": "stdout"
        }
      ]
    },
    {
      "cell_type": "code",
      "metadata": {
        "colab_type": "code",
        "id": "CrVpAXLmAN_Q",
        "outputId": "0db55f29-9647-4e25-e3f8-e83e7ffd18cb",
        "colab": {
          "base_uri": "https://localhost:8080/",
          "height": 281
        }
      },
      "source": [
        "# Fashion Mnist Loss Plot\n",
        "plt.plot(r.history['loss'], label = 'Loss')\n",
        "plt.plot(r.history['val_loss'], label = 'Val_Loss')\n",
        "plt.legend()\n",
        "plt.title('Loss over epochs')\n",
        "plt.show()"
      ],
      "execution_count": 12,
      "outputs": [
        {
          "output_type": "display_data",
          "data": {
            "image/png": "[encoded data removed]",
            "text/plain": [
              "<Figure size 432x288 with 1 Axes>"
            ]
          },
          "metadata": {
            "tags": []
          }
        }
      ]
    },
    {
      "cell_type": "code",
      "metadata": {
        "colab_type": "code",
        "outputId": "eea1d6ee-a882-4b25-85d8-d5d4a37a341f",
        "id": "t5w1XlwbHanY",
        "colab": {
          "base_uri": "https://localhost:8080/",
          "height": 281
        }
      },
      "source": [
        "# Mnist Accuracy Plot\n",
        "plt.plot(r.history['accuracy'], label = 'Accuracy')\n",
        "plt.plot(r.history['val_accuracy'], label = 'Val_Accuracy')\n",
        "plt.legend()\n",
        "plt.title('Accuracy over epochs')\n",
        "plt.show()"
      ],
      "execution_count": 13,
      "outputs": [
        {
          "output_type": "display_data",
          "data": {
            "image/png": "[encoded data removed]",
            "text/plain": [
              "<Figure size 432x288 with 1 Axes>"
            ]
          },
          "metadata": {
            "tags": []
          }
        }
      ]
    }
  ]
}