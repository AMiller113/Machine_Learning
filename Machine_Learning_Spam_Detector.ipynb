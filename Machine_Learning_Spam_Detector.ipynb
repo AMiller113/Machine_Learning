{
  "nbformat": 4,
  "nbformat_minor": 0,
  "metadata": {
    "colab": {
      "name": "Machine Learning - Spam Detector",
      "provenance": [],
      "collapsed_sections": [],
      "authorship_tag": "ABX9TyPP16KXWpPWwPE7H9aHFS4e",
      "include_colab_link": true
    },
    "kernelspec": {
      "name": "python3",
      "display_name": "Python 3"
    },
    "accelerator": "GPU"
  },
  "cells": [
    {
      "cell_type": "markdown",
      "metadata": {
        "id": "view-in-github",
        "colab_type": "text"
      },
      "source": [
        "<a href=\"https://colab.research.google.com/github/AMiller113/Machine_Learning/blob/master/Machine_Learning_Spam_Detector.ipynb\" target=\"_parent\"><img src=\"https://colab.research.google.com/assets/colab-badge.svg\" alt=\"Open In Colab\"/></a>"
      ]
    },
    {
      "cell_type": "code",
      "metadata": {
        "id": "32ghbcJSaR8u",
        "colab_type": "code",
        "outputId": "69264ea2-36ce-4493-cd32-3262dbfbb058",
        "colab": {
          "base_uri": "https://localhost:8080/",
          "height": 168
        }
      },
      "source": [
        "!pip install -q tensorflow-gpu\n",
        "import tensorflow as tf\n",
        "tf.__version__"
      ],
      "execution_count": 0,
      "outputs": [
        {
          "output_type": "stream",
          "text": [
            "\u001b[K     |████████████████████████████████| 421.8MB 38kB/s \n",
            "\u001b[K     |████████████████████████████████| 3.8MB 61.5MB/s \n",
            "\u001b[K     |████████████████████████████████| 450kB 43.0MB/s \n",
            "\u001b[K     |████████████████████████████████| 81kB 11.9MB/s \n",
            "\u001b[31mERROR: tensorflow 1.15.0 has requirement tensorboard<1.16.0,>=1.15.0, but you'll have tensorboard 2.1.0 which is incompatible.\u001b[0m\n",
            "\u001b[31mERROR: tensorflow 1.15.0 has requirement tensorflow-estimator==1.15.1, but you'll have tensorflow-estimator 2.1.0 which is incompatible.\u001b[0m\n",
            "\u001b[31mERROR: tensorboard 2.1.0 has requirement grpcio>=1.24.3, but you'll have grpcio 1.15.0 which is incompatible.\u001b[0m\n",
            "\u001b[31mERROR: google-colab 1.0.0 has requirement google-auth~=1.4.0, but you'll have google-auth 1.10.1 which is incompatible.\u001b[0m\n",
            "\u001b[?25h"
          ],
          "name": "stdout"
        },
        {
          "output_type": "execute_result",
          "data": {
            "text/plain": [
              "'2.1.0'"
            ]
          },
          "metadata": {
            "tags": []
          },
          "execution_count": 1
        }
      ]
    },
    {
      "cell_type": "code",
      "metadata": {
        "id": "I3k4S6R-ag44",
        "colab_type": "code",
        "colab": {}
      },
      "source": [
        "from tensorflow.keras.layers import Input, LSTM, Dense, GlobalMaxPooling1D, Embedding\n",
        "from tensorflow.keras.preprocessing.text import Tokenizer\n",
        "from tensorflow.keras.preprocessing.sequence import pad_sequences\n",
        "from tensorflow.keras.models import Model\n",
        "from tensorflow.keras.optimizers import SGD, Adam\n",
        "\n",
        "import numpy as np\n",
        "import pandas as pd\n",
        "import matplotlib.pyplot as plt\n",
        "from sklearn.model_selection import train_test_split"
      ],
      "execution_count": 0,
      "outputs": []
    },
    {
      "cell_type": "code",
      "metadata": {
        "id": "Z1p7KYL5VEgo",
        "colab_type": "code",
        "outputId": "3f1fab5d-fe13-4ae4-998b-91a3e2e8a460",
        "colab": {
          "base_uri": "https://localhost:8080/",
          "height": 202
        }
      },
      "source": [
        "# Text Data for spam detector\n",
        "!wget https://lazyprogrammer.me/course_files/spam.csv"
      ],
      "execution_count": 0,
      "outputs": [
        {
          "output_type": "stream",
          "text": [
            "--2020-01-15 20:48:53--  https://lazyprogrammer.me/course_files/spam.csv\n",
            "Resolving lazyprogrammer.me (lazyprogrammer.me)... 104.31.80.48, 104.31.81.48, 2606:4700:30::681f:5130, ...\n",
            "Connecting to lazyprogrammer.me (lazyprogrammer.me)|104.31.80.48|:443... connected.\n",
            "HTTP request sent, awaiting response... 200 OK\n",
            "Length: 503663 (492K) [text/csv]\n",
            "Saving to: ‘spam.csv’\n",
            "\n",
            "spam.csv            100%[===================>] 491.86K   590KB/s    in 0.8s    \n",
            "\n",
            "2020-01-15 20:48:55 (590 KB/s) - ‘spam.csv’ saved [503663/503663]\n",
            "\n"
          ],
          "name": "stdout"
        }
      ]
    },
    {
      "cell_type": "code",
      "metadata": {
        "id": "dYwISsBsV2eR",
        "colab_type": "code",
        "colab": {}
      },
      "source": [
        "df = pd.read_csv('spam.csv', encoding='ISO-8859-1')"
      ],
      "execution_count": 0,
      "outputs": []
    },
    {
      "cell_type": "code",
      "metadata": {
        "id": "v2c8QZiGWWhh",
        "colab_type": "code",
        "colab": {}
      },
      "source": [
        "df = df.drop(['Unnamed: 2', 'Unnamed: 3', 'Unnamed: 4'], axis=1)"
      ],
      "execution_count": 0,
      "outputs": []
    },
    {
      "cell_type": "code",
      "metadata": {
        "id": "iYJwBOKibYSY",
        "colab_type": "code",
        "colab": {}
      },
      "source": [
        "df.columns = ['Labels', 'Data']"
      ],
      "execution_count": 0,
      "outputs": []
    },
    {
      "cell_type": "code",
      "metadata": {
        "id": "dxr1d7FxbqbP",
        "colab_type": "code",
        "outputId": "4a199198-362d-4f0b-93f2-da95f0c9a1c9",
        "colab": {
          "base_uri": "https://localhost:8080/",
          "height": 195
        }
      },
      "source": [
        "df.head()"
      ],
      "execution_count": 0,
      "outputs": [
        {
          "output_type": "execute_result",
          "data": {
            "text/html": [
              "<div>\n",
              "<style scoped>\n",
              "    .dataframe tbody tr th:only-of-type {\n",
              "        vertical-align: middle;\n",
              "    }\n",
              "\n",
              "    .dataframe tbody tr th {\n",
              "        vertical-align: top;\n",
              "    }\n",
              "\n",
              "    .dataframe thead th {\n",
              "        text-align: right;\n",
              "    }\n",
              "</style>\n",
              "<table border=\"1\" class=\"dataframe\">\n",
              "  <thead>\n",
              "    <tr style=\"text-align: right;\">\n",
              "      <th></th>\n",
              "      <th>Labels</th>\n",
              "      <th>Data</th>\n",
              "    </tr>\n",
              "  </thead>\n",
              "  <tbody>\n",
              "    <tr>\n",
              "      <th>0</th>\n",
              "      <td>ham</td>\n",
              "      <td>Go until jurong point, crazy.. Available only ...</td>\n",
              "    </tr>\n",
              "    <tr>\n",
              "      <th>1</th>\n",
              "      <td>ham</td>\n",
              "      <td>Ok lar... Joking wif u oni...</td>\n",
              "    </tr>\n",
              "    <tr>\n",
              "      <th>2</th>\n",
              "      <td>spam</td>\n",
              "      <td>Free entry in 2 a wkly comp to win FA Cup fina...</td>\n",
              "    </tr>\n",
              "    <tr>\n",
              "      <th>3</th>\n",
              "      <td>ham</td>\n",
              "      <td>U dun say so early hor... U c already then say...</td>\n",
              "    </tr>\n",
              "    <tr>\n",
              "      <th>4</th>\n",
              "      <td>ham</td>\n",
              "      <td>Nah I don't think he goes to usf, he lives aro...</td>\n",
              "    </tr>\n",
              "  </tbody>\n",
              "</table>\n",
              "</div>"
            ],
            "text/plain": [
              "  Labels                                               Data\n",
              "0    ham  Go until jurong point, crazy.. Available only ...\n",
              "1    ham                      Ok lar... Joking wif u oni...\n",
              "2   spam  Free entry in 2 a wkly comp to win FA Cup fina...\n",
              "3    ham  U dun say so early hor... U c already then say...\n",
              "4    ham  Nah I don't think he goes to usf, he lives aro..."
            ]
          },
          "metadata": {
            "tags": []
          },
          "execution_count": 7
        }
      ]
    },
    {
      "cell_type": "code",
      "metadata": {
        "id": "PgeQJuzYbtD8",
        "colab_type": "code",
        "colab": {}
      },
      "source": [
        "df['B_Labels'] = df['Labels'].map({'ham': 0, 'spam': 1}) # Create the target labels, for use in the dense layer signoid function\n",
        "Y = df['B_Labels'].values # Create the target vector"
      ],
      "execution_count": 0,
      "outputs": []
    },
    {
      "cell_type": "code",
      "metadata": {
        "id": "q9TRYy7bdkOe",
        "colab_type": "code",
        "colab": {}
      },
      "source": [
        "# Split the data into test-validation sets\n",
        "df_train, df_test, Y_train, Y_test = train_test_split(df['Data'], Y, test_size = 0.33)"
      ],
      "execution_count": 0,
      "outputs": []
    },
    {
      "cell_type": "code",
      "metadata": {
        "colab_type": "code",
        "id": "uRiW57P3culS",
        "colab": {}
      },
      "source": [
        "# Tokenizing the inputs and targets\n",
        "MAX_VOCAB_SIZE = 20000\n",
        "tokenizer = Tokenizer(num_words=MAX_VOCAB_SIZE)\n",
        "tokenizer.fit_on_texts(df_train)\n",
        "sequence_train = tokenizer.texts_to_sequences(df_train)\n",
        "sequence_test = tokenizer.texts_to_sequences(df_test)"
      ],
      "execution_count": 0,
      "outputs": []
    },
    {
      "cell_type": "code",
      "metadata": {
        "id": "VRxFj4-afZcw",
        "colab_type": "code",
        "colab": {}
      },
      "source": [
        "# Padding Sequences\n",
        "X_train = pad_sequences(sequence_train)\n",
        "X_test = pad_sequences(sequence_test, maxlen=X_train.shape[1]) # The test set has a shorter sequence length than the train set and needs to be padded using maxlen "
      ],
      "execution_count": 0,
      "outputs": []
    },
    {
      "cell_type": "code",
      "metadata": {
        "id": "ZqgMUViWg5gt",
        "colab_type": "code",
        "outputId": "f2814cc5-eeee-4467-b3eb-5a5a0ef9d447",
        "colab": {
          "base_uri": "https://localhost:8080/",
          "height": 34
        }
      },
      "source": [
        "X_test.shape"
      ],
      "execution_count": 0,
      "outputs": [
        {
          "output_type": "execute_result",
          "data": {
            "text/plain": [
              "(1839, 98)"
            ]
          },
          "metadata": {
            "tags": []
          },
          "execution_count": 12
        }
      ]
    },
    {
      "cell_type": "code",
      "metadata": {
        "id": "BQkwhHWRZH2l",
        "colab_type": "code",
        "colab": {}
      },
      "source": [
        "# Creating the LSTM\n",
        "i = Input(shape=(X_train.shape[1],)) # X_train.shape[1] is the sequence length T\n",
        "x = Embedding(len(tokenizer.word_index)+1, 20)(i) # The first index is 1 not 0, so the embedding size has to be the tokenizer index length plus 1\n",
        "x = LSTM(15, return_sequences=True)(x)\n",
        "x = GlobalMaxPooling1D()(x)\n",
        "x = Dense(1, activation='sigmoid')(x)\n",
        "model = Model(i, x)\n",
        "model.compile(optimizer='adam', loss= 'binary_crossentropy', metrics = ['accuracy'])"
      ],
      "execution_count": 0,
      "outputs": []
    },
    {
      "cell_type": "code",
      "metadata": {
        "id": "5WiZ1zO1e_2m",
        "colab_type": "code",
        "outputId": "08dca2a7-26f7-4daf-c238-048dff36766b",
        "colab": {
          "base_uri": "https://localhost:8080/",
          "height": 706
        }
      },
      "source": [
        "r = model.fit(X_train, Y_train, epochs=20, batch_size=32, validation_data=(X_test, Y_test))"
      ],
      "execution_count": 0,
      "outputs": [
        {
          "output_type": "stream",
          "text": [
            "Train on 3733 samples, validate on 1839 samples\n",
            "Epoch 1/20\n",
            "3733/3733 [==============================] - 9s 2ms/sample - loss: 0.4858 - accuracy: 0.8537 - val_loss: 0.4032 - val_accuracy: 0.8559\n",
            "Epoch 2/20\n",
            "3733/3733 [==============================] - 1s 387us/sample - loss: 0.3278 - accuracy: 0.8709 - val_loss: 0.2818 - val_accuracy: 0.8559\n",
            "Epoch 3/20\n",
            "3733/3733 [==============================] - 1s 390us/sample - loss: 0.2336 - accuracy: 0.8709 - val_loss: 0.2262 - val_accuracy: 0.8559\n",
            "Epoch 4/20\n",
            "3733/3733 [==============================] - 1s 362us/sample - loss: 0.1817 - accuracy: 0.8744 - val_loss: 0.1751 - val_accuracy: 0.9418\n",
            "Epoch 5/20\n",
            "3733/3733 [==============================] - 1s 375us/sample - loss: 0.1300 - accuracy: 0.9861 - val_loss: 0.1282 - val_accuracy: 0.9897\n",
            "Epoch 6/20\n",
            "3733/3733 [==============================] - 1s 371us/sample - loss: 0.0938 - accuracy: 0.9962 - val_loss: 0.1010 - val_accuracy: 0.9913\n",
            "Epoch 7/20\n",
            "3733/3733 [==============================] - 1s 379us/sample - loss: 0.0736 - accuracy: 0.9976 - val_loss: 0.0854 - val_accuracy: 0.9913\n",
            "Epoch 8/20\n",
            "3733/3733 [==============================] - 1s 378us/sample - loss: 0.0602 - accuracy: 0.9984 - val_loss: 0.0791 - val_accuracy: 0.9891\n",
            "Epoch 9/20\n",
            "3733/3733 [==============================] - 1s 382us/sample - loss: 0.0511 - accuracy: 0.9984 - val_loss: 0.0680 - val_accuracy: 0.9929\n",
            "Epoch 10/20\n",
            "3733/3733 [==============================] - 1s 386us/sample - loss: 0.0442 - accuracy: 0.9989 - val_loss: 0.0644 - val_accuracy: 0.9908\n",
            "Epoch 11/20\n",
            "3733/3733 [==============================] - 1s 391us/sample - loss: 0.0388 - accuracy: 0.9989 - val_loss: 0.0590 - val_accuracy: 0.9929\n",
            "Epoch 12/20\n",
            "3733/3733 [==============================] - 1s 373us/sample - loss: 0.0344 - accuracy: 0.9989 - val_loss: 0.0558 - val_accuracy: 0.9924\n",
            "Epoch 13/20\n",
            "3733/3733 [==============================] - 1s 388us/sample - loss: 0.0310 - accuracy: 0.9989 - val_loss: 0.0531 - val_accuracy: 0.9918\n",
            "Epoch 14/20\n",
            "3733/3733 [==============================] - 1s 375us/sample - loss: 0.0278 - accuracy: 0.9989 - val_loss: 0.0504 - val_accuracy: 0.9924\n",
            "Epoch 15/20\n",
            "3733/3733 [==============================] - 1s 380us/sample - loss: 0.0250 - accuracy: 0.9989 - val_loss: 0.0493 - val_accuracy: 0.9918\n",
            "Epoch 16/20\n",
            "3733/3733 [==============================] - 1s 401us/sample - loss: 0.0228 - accuracy: 0.9989 - val_loss: 0.0482 - val_accuracy: 0.9918\n",
            "Epoch 17/20\n",
            "3733/3733 [==============================] - 1s 379us/sample - loss: 0.0212 - accuracy: 0.9989 - val_loss: 0.0461 - val_accuracy: 0.9913\n",
            "Epoch 18/20\n",
            "3733/3733 [==============================] - 1s 376us/sample - loss: 0.0194 - accuracy: 0.9989 - val_loss: 0.0442 - val_accuracy: 0.9913\n",
            "Epoch 19/20\n",
            "3733/3733 [==============================] - 1s 368us/sample - loss: 0.0180 - accuracy: 0.9989 - val_loss: 0.0455 - val_accuracy: 0.9913\n",
            "Epoch 20/20\n",
            "3733/3733 [==============================] - 1s 376us/sample - loss: 0.0158 - accuracy: 0.9989 - val_loss: 0.0862 - val_accuracy: 0.9641\n"
          ],
          "name": "stdout"
        }
      ]
    },
    {
      "cell_type": "code",
      "metadata": {
        "id": "Xis140zhqN_J",
        "colab_type": "code",
        "outputId": "a914ab68-4418-4432-9f86-6de5151cf356",
        "colab": {
          "base_uri": "https://localhost:8080/",
          "height": 281
        }
      },
      "source": [
        "# Loss plot\n",
        "plt.plot(r.history['loss'], Label= 'Loss')\n",
        "plt.plot(r.history['val_loss'], Label= 'Val_Loss')\n",
        "plt.legend()\n",
        "plt.title('Loss per Epoch')\n",
        "plt.show()"
      ],
      "execution_count": 0,
      "outputs": [
        {
          "output_type": "display_data",
          "data": {
            "image/png": "[encoded data removed]",
            "text/plain": [
              "<Figure size 432x288 with 1 Axes>"
            ]
          },
          "metadata": {
            "tags": []
          }
        }
      ]
    },
    {
      "cell_type": "code",
      "metadata": {
        "id": "8GBL6zkPjFS3",
        "colab_type": "code",
        "outputId": "a2360f89-e66d-4f70-9f37-efa6098fde86",
        "colab": {
          "base_uri": "https://localhost:8080/",
          "height": 265
        }
      },
      "source": [
        "# Accuracy Plot\n",
        "plt.plot(r.history['accuracy'], Label = 'Accuracy')\n",
        "plt.plot(r.history['val_accuracy'], Label = 'Val_Accuracy')\n",
        "plt.legend()\n",
        "plt.show()"
      ],
      "execution_count": 0,
      "outputs": [
        {
          "output_type": "display_data",
          "data": {
            "image/png": "[encoded data removed]",
            "text/plain": [
              "<Figure size 432x288 with 1 Axes>"
            ]
          },
          "metadata": {
            "tags": []
          }
        }
      ]
    }
  ]
}