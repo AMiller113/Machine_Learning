{
  "nbformat": 4,
  "nbformat_minor": 0,
  "metadata": {
    "colab": {
      "name": "LSTM Stock Return Predictions",
      "provenance": [],
      "collapsed_sections": [],
      "authorship_tag": "ABX9TyMJUGiUz8aHOQgY6OTVyOKg",
      "include_colab_link": true
    },
    "kernelspec": {
      "name": "python3",
      "display_name": "Python 3"
    },
    "accelerator": "GPU"
  },
  "cells": [
    {
      "cell_type": "markdown",
      "metadata": {
        "id": "view-in-github",
        "colab_type": "text"
      },
      "source": [
        "<a href=\"https://colab.research.google.com/github/AMiller113/Machine_Learning/blob/master/LSTM_Stock_Return_Predictions.ipynb\" target=\"_parent\"><img src=\"https://colab.research.google.com/assets/colab-badge.svg\" alt=\"Open In Colab\"/></a>"
      ]
    },
    {
      "cell_type": "code",
      "metadata": {
        "id": "32ghbcJSaR8u",
        "colab_type": "code",
        "outputId": "92f604dd-2bf5-444d-ccd5-57ab5b6dd371",
        "colab": {
          "base_uri": "https://localhost:8080/",
          "height": 168
        }
      },
      "source": [
        "!pip install -q tensorflow-gpu\n",
        "import tensorflow as tf\n",
        "tf.__version__"
      ],
      "execution_count": 1,
      "outputs": [
        {
          "output_type": "stream",
          "text": [
            "\u001b[K     |████████████████████████████████| 421.8MB 38kB/s \n",
            "\u001b[K     |████████████████████████████████| 3.8MB 49.8MB/s \n",
            "\u001b[K     |████████████████████████████████| 450kB 55.9MB/s \n",
            "\u001b[K     |████████████████████████████████| 81kB 13.0MB/s \n",
            "\u001b[31mERROR: tensorflow 1.15.0 has requirement tensorboard<1.16.0,>=1.15.0, but you'll have tensorboard 2.1.0 which is incompatible.\u001b[0m\n",
            "\u001b[31mERROR: tensorflow 1.15.0 has requirement tensorflow-estimator==1.15.1, but you'll have tensorflow-estimator 2.1.0 which is incompatible.\u001b[0m\n",
            "\u001b[31mERROR: tensorboard 2.1.0 has requirement grpcio>=1.24.3, but you'll have grpcio 1.15.0 which is incompatible.\u001b[0m\n",
            "\u001b[31mERROR: google-colab 1.0.0 has requirement google-auth~=1.4.0, but you'll have google-auth 1.10.1 which is incompatible.\u001b[0m\n",
            "\u001b[?25h"
          ],
          "name": "stdout"
        },
        {
          "output_type": "execute_result",
          "data": {
            "text/plain": [
              "'2.1.0'"
            ]
          },
          "metadata": {
            "tags": []
          },
          "execution_count": 1
        }
      ]
    },
    {
      "cell_type": "code",
      "metadata": {
        "id": "I3k4S6R-ag44",
        "colab_type": "code",
        "colab": {}
      },
      "source": [
        "from tensorflow.keras.layers import Input, LSTM, Dense, Flatten, GlobalMaxPooling1D\n",
        "from tensorflow.keras.models import Model\n",
        "from tensorflow.keras.optimizers import SGD, Adam\n",
        "\n",
        "import numpy as np\n",
        "import pandas as pd\n",
        "import matplotlib.pyplot as plt\n",
        "from sklearn.preprocessing import StandardScaler"
      ],
      "execution_count": 0,
      "outputs": []
    },
    {
      "cell_type": "code",
      "metadata": {
        "id": "ZS2UslZdm7Pd",
        "colab_type": "code",
        "colab": {}
      },
      "source": [
        "# Pandas can take URLs as an argument\n",
        "df = pd.read_csv('https://raw.githubusercontent.com/lazyprogrammer/machine_learning_examples/master/tf2.0/sbux.csv')"
      ],
      "execution_count": 0,
      "outputs": []
    },
    {
      "cell_type": "code",
      "metadata": {
        "id": "X4grzfxDo7bL",
        "colab_type": "code",
        "outputId": "cfabad64-72cc-4e73-f0e8-dbd9e90b2990",
        "colab": {
          "base_uri": "https://localhost:8080/",
          "height": 195
        }
      },
      "source": [
        "df.head()"
      ],
      "execution_count": 4,
      "outputs": [
        {
          "output_type": "execute_result",
          "data": {
            "text/html": [
              "<div>\n",
              "<style scoped>\n",
              "    .dataframe tbody tr th:only-of-type {\n",
              "        vertical-align: middle;\n",
              "    }\n",
              "\n",
              "    .dataframe tbody tr th {\n",
              "        vertical-align: top;\n",
              "    }\n",
              "\n",
              "    .dataframe thead th {\n",
              "        text-align: right;\n",
              "    }\n",
              "</style>\n",
              "<table border=\"1\" class=\"dataframe\">\n",
              "  <thead>\n",
              "    <tr style=\"text-align: right;\">\n",
              "      <th></th>\n",
              "      <th>date</th>\n",
              "      <th>open</th>\n",
              "      <th>high</th>\n",
              "      <th>low</th>\n",
              "      <th>close</th>\n",
              "      <th>volume</th>\n",
              "      <th>Name</th>\n",
              "    </tr>\n",
              "  </thead>\n",
              "  <tbody>\n",
              "    <tr>\n",
              "      <th>0</th>\n",
              "      <td>2013-02-08</td>\n",
              "      <td>27.920</td>\n",
              "      <td>28.325</td>\n",
              "      <td>27.920</td>\n",
              "      <td>28.185</td>\n",
              "      <td>7146296</td>\n",
              "      <td>SBUX</td>\n",
              "    </tr>\n",
              "    <tr>\n",
              "      <th>1</th>\n",
              "      <td>2013-02-11</td>\n",
              "      <td>28.260</td>\n",
              "      <td>28.260</td>\n",
              "      <td>27.930</td>\n",
              "      <td>28.070</td>\n",
              "      <td>5457354</td>\n",
              "      <td>SBUX</td>\n",
              "    </tr>\n",
              "    <tr>\n",
              "      <th>2</th>\n",
              "      <td>2013-02-12</td>\n",
              "      <td>28.000</td>\n",
              "      <td>28.275</td>\n",
              "      <td>27.975</td>\n",
              "      <td>28.130</td>\n",
              "      <td>8665592</td>\n",
              "      <td>SBUX</td>\n",
              "    </tr>\n",
              "    <tr>\n",
              "      <th>3</th>\n",
              "      <td>2013-02-13</td>\n",
              "      <td>28.230</td>\n",
              "      <td>28.230</td>\n",
              "      <td>27.750</td>\n",
              "      <td>27.915</td>\n",
              "      <td>7022056</td>\n",
              "      <td>SBUX</td>\n",
              "    </tr>\n",
              "    <tr>\n",
              "      <th>4</th>\n",
              "      <td>2013-02-14</td>\n",
              "      <td>27.765</td>\n",
              "      <td>27.905</td>\n",
              "      <td>27.675</td>\n",
              "      <td>27.775</td>\n",
              "      <td>8899188</td>\n",
              "      <td>SBUX</td>\n",
              "    </tr>\n",
              "  </tbody>\n",
              "</table>\n",
              "</div>"
            ],
            "text/plain": [
              "         date    open    high     low   close   volume  Name\n",
              "0  2013-02-08  27.920  28.325  27.920  28.185  7146296  SBUX\n",
              "1  2013-02-11  28.260  28.260  27.930  28.070  5457354  SBUX\n",
              "2  2013-02-12  28.000  28.275  27.975  28.130  8665592  SBUX\n",
              "3  2013-02-13  28.230  28.230  27.750  27.915  7022056  SBUX\n",
              "4  2013-02-14  27.765  27.905  27.675  27.775  8899188  SBUX"
            ]
          },
          "metadata": {
            "tags": []
          },
          "execution_count": 4
        }
      ]
    },
    {
      "cell_type": "code",
      "metadata": {
        "id": "B3uV7XTaqDlS",
        "colab_type": "code",
        "outputId": "48d30ff5-6b59-44d2-be69-c8cd3ca4295c",
        "colab": {
          "base_uri": "https://localhost:8080/",
          "height": 195
        }
      },
      "source": [
        "df.tail()"
      ],
      "execution_count": 5,
      "outputs": [
        {
          "output_type": "execute_result",
          "data": {
            "text/html": [
              "<div>\n",
              "<style scoped>\n",
              "    .dataframe tbody tr th:only-of-type {\n",
              "        vertical-align: middle;\n",
              "    }\n",
              "\n",
              "    .dataframe tbody tr th {\n",
              "        vertical-align: top;\n",
              "    }\n",
              "\n",
              "    .dataframe thead th {\n",
              "        text-align: right;\n",
              "    }\n",
              "</style>\n",
              "<table border=\"1\" class=\"dataframe\">\n",
              "  <thead>\n",
              "    <tr style=\"text-align: right;\">\n",
              "      <th></th>\n",
              "      <th>date</th>\n",
              "      <th>open</th>\n",
              "      <th>high</th>\n",
              "      <th>low</th>\n",
              "      <th>close</th>\n",
              "      <th>volume</th>\n",
              "      <th>Name</th>\n",
              "    </tr>\n",
              "  </thead>\n",
              "  <tbody>\n",
              "    <tr>\n",
              "      <th>1254</th>\n",
              "      <td>2018-02-01</td>\n",
              "      <td>56.280</td>\n",
              "      <td>56.42</td>\n",
              "      <td>55.89</td>\n",
              "      <td>56.00</td>\n",
              "      <td>14690146</td>\n",
              "      <td>SBUX</td>\n",
              "    </tr>\n",
              "    <tr>\n",
              "      <th>1255</th>\n",
              "      <td>2018-02-02</td>\n",
              "      <td>55.900</td>\n",
              "      <td>56.32</td>\n",
              "      <td>55.70</td>\n",
              "      <td>55.77</td>\n",
              "      <td>15358909</td>\n",
              "      <td>SBUX</td>\n",
              "    </tr>\n",
              "    <tr>\n",
              "      <th>1256</th>\n",
              "      <td>2018-02-05</td>\n",
              "      <td>55.530</td>\n",
              "      <td>56.26</td>\n",
              "      <td>54.57</td>\n",
              "      <td>54.69</td>\n",
              "      <td>16059955</td>\n",
              "      <td>SBUX</td>\n",
              "    </tr>\n",
              "    <tr>\n",
              "      <th>1257</th>\n",
              "      <td>2018-02-06</td>\n",
              "      <td>53.685</td>\n",
              "      <td>56.06</td>\n",
              "      <td>53.56</td>\n",
              "      <td>55.61</td>\n",
              "      <td>17415065</td>\n",
              "      <td>SBUX</td>\n",
              "    </tr>\n",
              "    <tr>\n",
              "      <th>1258</th>\n",
              "      <td>2018-02-07</td>\n",
              "      <td>55.080</td>\n",
              "      <td>55.43</td>\n",
              "      <td>54.44</td>\n",
              "      <td>54.46</td>\n",
              "      <td>13927022</td>\n",
              "      <td>SBUX</td>\n",
              "    </tr>\n",
              "  </tbody>\n",
              "</table>\n",
              "</div>"
            ],
            "text/plain": [
              "            date    open   high    low  close    volume  Name\n",
              "1254  2018-02-01  56.280  56.42  55.89  56.00  14690146  SBUX\n",
              "1255  2018-02-02  55.900  56.32  55.70  55.77  15358909  SBUX\n",
              "1256  2018-02-05  55.530  56.26  54.57  54.69  16059955  SBUX\n",
              "1257  2018-02-06  53.685  56.06  53.56  55.61  17415065  SBUX\n",
              "1258  2018-02-07  55.080  55.43  54.44  54.46  13927022  SBUX"
            ]
          },
          "metadata": {
            "tags": []
          },
          "execution_count": 5
        }
      ]
    },
    {
      "cell_type": "code",
      "metadata": {
        "id": "I6WUb9Z3qH9B",
        "colab_type": "code",
        "colab": {}
      },
      "source": [
        "# Note: Incorrect method of trying to predict the price itself\n",
        "series = df['close'].values.reshape(-1,1) # Takes the close column and reshapes to a N X 1 matrix for the standard scaler, .Values transforms the data frame to a numpy array"
      ],
      "execution_count": 0,
      "outputs": []
    },
    {
      "cell_type": "code",
      "metadata": {
        "id": "iLtK0nH7qhUq",
        "colab_type": "code",
        "colab": {}
      },
      "source": [
        "# Standardize the data as the values can vary widely\n",
        "scaler = StandardScaler()\n",
        "scaler.fit(series[:len(series)//2])\n",
        "series = scaler.transform(series).flatten() # For the time series input and targets creation"
      ],
      "execution_count": 0,
      "outputs": []
    },
    {
      "cell_type": "code",
      "metadata": {
        "id": "vOzvUP8cbiBZ",
        "colab_type": "code",
        "outputId": "b750be60-b01d-44c5-c247-fc0a01098bd4",
        "colab": {
          "base_uri": "https://localhost:8080/",
          "height": 34
        }
      },
      "source": [
        "# Setting up the data for time series prediction\n",
        "T = 10 # Amount of values used to predict the next value\n",
        "D = 1\n",
        "X = [] # Holds the inputs\n",
        "Y = [] # Holds the targets\n",
        "for t in range((len(series))- T): # The length of N is equal to the total length of the data set minus the length of the time sequence\n",
        "  x = series[t:t+T] # Holds a set of T values\n",
        "  X.append(x) # Appends the set of T values to list X\n",
        "  y = series[t+T] # Holds the target of the set of T values\n",
        "  Y.append(y) # appends the target to list Y\n",
        "\n",
        "X = np.array(X).reshape(-1, T, 1) # Makes list X an array and sets the size to (N X T x D) for the RNN\n",
        "Y = np.array(Y) # Makes Y an array, no reshaping necessary as the lenth of Y is already equal to X\n",
        "N = len(X) # Sets N to the length of array X\n",
        "print('X.shape =', X.shape, ', Y.shape =',Y.shape)"
      ],
      "execution_count": 8,
      "outputs": [
        {
          "output_type": "stream",
          "text": [
            "X.shape = (1249, 10, 1) , Y.shape = (1249,)\n"
          ],
          "name": "stdout"
        }
      ]
    },
    {
      "cell_type": "code",
      "metadata": {
        "id": "rxSYFWF2d_0I",
        "colab_type": "code",
        "outputId": "f4bf7a11-c544-484f-dafd-dc53586ad188",
        "colab": {
          "base_uri": "https://localhost:8080/",
          "height": 1000
        }
      },
      "source": [
        "# LSTM model\n",
        "i = Input(shape=(T,1))\n",
        "x = LSTM(5)(i)\n",
        "x = Dense(1)(x)\n",
        "\n",
        "model = Model(i, x)\n",
        "model.compile(loss='mse', optimizer=Adam(lr=0.1))\n",
        "\n",
        "r = model.fit(X[:-N//2], Y[:-N//2], epochs=80, validation_data=(X[-N//2:], Y[-N//2:]))"
      ],
      "execution_count": 9,
      "outputs": [
        {
          "output_type": "stream",
          "text": [
            "Train on 624 samples, validate on 625 samples\n",
            "Epoch 1/80\n",
            "624/624 [==============================] - 8s 12ms/sample - loss: 0.2287 - val_loss: 0.0556\n",
            "Epoch 2/80\n",
            "624/624 [==============================] - 0s 233us/sample - loss: 0.0163 - val_loss: 0.0210\n",
            "Epoch 3/80\n",
            "624/624 [==============================] - 0s 235us/sample - loss: 0.0070 - val_loss: 0.0196\n",
            "Epoch 4/80\n",
            "624/624 [==============================] - 0s 212us/sample - loss: 0.0059 - val_loss: 0.0367\n",
            "Epoch 5/80\n",
            "624/624 [==============================] - 0s 228us/sample - loss: 0.0060 - val_loss: 0.0214\n",
            "Epoch 6/80\n",
            "624/624 [==============================] - 0s 211us/sample - loss: 0.0078 - val_loss: 0.0171\n",
            "Epoch 7/80\n",
            "624/624 [==============================] - 0s 237us/sample - loss: 0.0062 - val_loss: 0.0278\n",
            "Epoch 8/80\n",
            "624/624 [==============================] - 0s 222us/sample - loss: 0.0062 - val_loss: 0.0196\n",
            "Epoch 9/80\n",
            "624/624 [==============================] - 0s 225us/sample - loss: 0.0057 - val_loss: 0.0205\n",
            "Epoch 10/80\n",
            "624/624 [==============================] - 0s 212us/sample - loss: 0.0055 - val_loss: 0.0244\n",
            "Epoch 11/80\n",
            "624/624 [==============================] - 0s 223us/sample - loss: 0.0064 - val_loss: 0.0192\n",
            "Epoch 12/80\n",
            "624/624 [==============================] - 0s 232us/sample - loss: 0.0051 - val_loss: 0.0187\n",
            "Epoch 13/80\n",
            "624/624 [==============================] - 0s 230us/sample - loss: 0.0052 - val_loss: 0.0215\n",
            "Epoch 14/80\n",
            "624/624 [==============================] - 0s 247us/sample - loss: 0.0071 - val_loss: 0.0217\n",
            "Epoch 15/80\n",
            "624/624 [==============================] - 0s 222us/sample - loss: 0.0067 - val_loss: 0.0201\n",
            "Epoch 16/80\n",
            "624/624 [==============================] - 0s 218us/sample - loss: 0.0065 - val_loss: 0.0216\n",
            "Epoch 17/80\n",
            "624/624 [==============================] - 0s 213us/sample - loss: 0.0063 - val_loss: 0.0256\n",
            "Epoch 18/80\n",
            "624/624 [==============================] - 0s 213us/sample - loss: 0.0072 - val_loss: 0.0525\n",
            "Epoch 19/80\n",
            "624/624 [==============================] - 0s 211us/sample - loss: 0.0076 - val_loss: 0.0863\n",
            "Epoch 20/80\n",
            "624/624 [==============================] - 0s 215us/sample - loss: 0.0077 - val_loss: 0.0306\n",
            "Epoch 21/80\n",
            "624/624 [==============================] - 0s 271us/sample - loss: 0.0054 - val_loss: 0.0318\n",
            "Epoch 22/80\n",
            "624/624 [==============================] - 0s 220us/sample - loss: 0.0057 - val_loss: 0.0233\n",
            "Epoch 23/80\n",
            "624/624 [==============================] - 0s 205us/sample - loss: 0.0065 - val_loss: 0.0264\n",
            "Epoch 24/80\n",
            "624/624 [==============================] - 0s 216us/sample - loss: 0.0066 - val_loss: 0.0482\n",
            "Epoch 25/80\n",
            "624/624 [==============================] - 0s 217us/sample - loss: 0.0063 - val_loss: 0.0668\n",
            "Epoch 26/80\n",
            "624/624 [==============================] - 0s 234us/sample - loss: 0.0116 - val_loss: 0.0516\n",
            "Epoch 27/80\n",
            "624/624 [==============================] - 0s 222us/sample - loss: 0.0090 - val_loss: 0.0992\n",
            "Epoch 28/80\n",
            "624/624 [==============================] - 0s 247us/sample - loss: 0.0072 - val_loss: 0.0341\n",
            "Epoch 29/80\n",
            "624/624 [==============================] - 0s 221us/sample - loss: 0.0057 - val_loss: 0.0386\n",
            "Epoch 30/80\n",
            "624/624 [==============================] - 0s 243us/sample - loss: 0.0060 - val_loss: 0.0408\n",
            "Epoch 31/80\n",
            "624/624 [==============================] - 0s 222us/sample - loss: 0.0058 - val_loss: 0.0277\n",
            "Epoch 32/80\n",
            "624/624 [==============================] - 0s 225us/sample - loss: 0.0051 - val_loss: 0.0351\n",
            "Epoch 33/80\n",
            "624/624 [==============================] - 0s 229us/sample - loss: 0.0052 - val_loss: 0.0254\n",
            "Epoch 34/80\n",
            "624/624 [==============================] - 0s 220us/sample - loss: 0.0055 - val_loss: 0.0298\n",
            "Epoch 35/80\n",
            "624/624 [==============================] - 0s 235us/sample - loss: 0.0051 - val_loss: 0.0316\n",
            "Epoch 36/80\n",
            "624/624 [==============================] - 0s 225us/sample - loss: 0.0057 - val_loss: 0.0260\n",
            "Epoch 37/80\n",
            "624/624 [==============================] - 0s 223us/sample - loss: 0.0051 - val_loss: 0.0233\n",
            "Epoch 38/80\n",
            "624/624 [==============================] - 0s 215us/sample - loss: 0.0054 - val_loss: 0.0240\n",
            "Epoch 39/80\n",
            "624/624 [==============================] - 0s 219us/sample - loss: 0.0057 - val_loss: 0.0224\n",
            "Epoch 40/80\n",
            "624/624 [==============================] - 0s 223us/sample - loss: 0.0071 - val_loss: 0.0435\n",
            "Epoch 41/80\n",
            "624/624 [==============================] - 0s 232us/sample - loss: 0.0064 - val_loss: 0.0282\n",
            "Epoch 42/80\n",
            "624/624 [==============================] - 0s 219us/sample - loss: 0.0051 - val_loss: 0.0222\n",
            "Epoch 43/80\n",
            "624/624 [==============================] - 0s 230us/sample - loss: 0.0069 - val_loss: 0.0449\n",
            "Epoch 44/80\n",
            "624/624 [==============================] - 0s 214us/sample - loss: 0.0065 - val_loss: 0.0246\n",
            "Epoch 45/80\n",
            "624/624 [==============================] - 0s 233us/sample - loss: 0.0059 - val_loss: 0.0245\n",
            "Epoch 46/80\n",
            "624/624 [==============================] - 0s 229us/sample - loss: 0.0059 - val_loss: 0.0228\n",
            "Epoch 47/80\n",
            "624/624 [==============================] - 0s 231us/sample - loss: 0.0060 - val_loss: 0.0230\n",
            "Epoch 48/80\n",
            "624/624 [==============================] - 0s 219us/sample - loss: 0.0062 - val_loss: 0.0213\n",
            "Epoch 49/80\n",
            "624/624 [==============================] - 0s 215us/sample - loss: 0.0056 - val_loss: 0.0208\n",
            "Epoch 50/80\n",
            "624/624 [==============================] - 0s 225us/sample - loss: 0.0060 - val_loss: 0.0687\n",
            "Epoch 51/80\n",
            "624/624 [==============================] - 0s 222us/sample - loss: 0.0055 - val_loss: 0.0346\n",
            "Epoch 52/80\n",
            "624/624 [==============================] - 0s 226us/sample - loss: 0.0058 - val_loss: 0.0290\n",
            "Epoch 53/80\n",
            "624/624 [==============================] - 0s 221us/sample - loss: 0.0058 - val_loss: 0.0389\n",
            "Epoch 54/80\n",
            "624/624 [==============================] - 0s 220us/sample - loss: 0.0055 - val_loss: 0.0208\n",
            "Epoch 55/80\n",
            "624/624 [==============================] - 0s 231us/sample - loss: 0.0053 - val_loss: 0.0348\n",
            "Epoch 56/80\n",
            "624/624 [==============================] - 0s 233us/sample - loss: 0.0059 - val_loss: 0.0240\n",
            "Epoch 57/80\n",
            "624/624 [==============================] - 0s 236us/sample - loss: 0.0049 - val_loss: 0.0175\n",
            "Epoch 58/80\n",
            "624/624 [==============================] - 0s 206us/sample - loss: 0.0050 - val_loss: 0.0204\n",
            "Epoch 59/80\n",
            "624/624 [==============================] - 0s 209us/sample - loss: 0.0070 - val_loss: 0.0678\n",
            "Epoch 60/80\n",
            "624/624 [==============================] - 0s 217us/sample - loss: 0.0092 - val_loss: 0.0274\n",
            "Epoch 61/80\n",
            "624/624 [==============================] - 0s 231us/sample - loss: 0.0073 - val_loss: 0.0245\n",
            "Epoch 62/80\n",
            "624/624 [==============================] - 0s 228us/sample - loss: 0.0084 - val_loss: 0.0216\n",
            "Epoch 63/80\n",
            "624/624 [==============================] - 0s 218us/sample - loss: 0.0074 - val_loss: 0.0289\n",
            "Epoch 64/80\n",
            "624/624 [==============================] - 0s 239us/sample - loss: 0.0053 - val_loss: 0.0367\n",
            "Epoch 65/80\n",
            "624/624 [==============================] - 0s 222us/sample - loss: 0.0051 - val_loss: 0.0201\n",
            "Epoch 66/80\n",
            "624/624 [==============================] - 0s 222us/sample - loss: 0.0053 - val_loss: 0.0192\n",
            "Epoch 67/80\n",
            "624/624 [==============================] - 0s 221us/sample - loss: 0.0053 - val_loss: 0.0182\n",
            "Epoch 68/80\n",
            "624/624 [==============================] - 0s 221us/sample - loss: 0.0065 - val_loss: 0.0256\n",
            "Epoch 69/80\n",
            "624/624 [==============================] - 0s 228us/sample - loss: 0.0054 - val_loss: 0.0287\n",
            "Epoch 70/80\n",
            "624/624 [==============================] - 0s 214us/sample - loss: 0.0051 - val_loss: 0.0226\n",
            "Epoch 71/80\n",
            "624/624 [==============================] - 0s 236us/sample - loss: 0.0056 - val_loss: 0.0259\n",
            "Epoch 72/80\n",
            "624/624 [==============================] - 0s 240us/sample - loss: 0.0062 - val_loss: 0.0173\n",
            "Epoch 73/80\n",
            "624/624 [==============================] - 0s 218us/sample - loss: 0.0062 - val_loss: 0.0235\n",
            "Epoch 74/80\n",
            "624/624 [==============================] - 0s 229us/sample - loss: 0.0064 - val_loss: 0.0385\n",
            "Epoch 75/80\n",
            "624/624 [==============================] - 0s 218us/sample - loss: 0.0063 - val_loss: 0.0400\n",
            "Epoch 76/80\n",
            "624/624 [==============================] - 0s 227us/sample - loss: 0.0062 - val_loss: 0.0232\n",
            "Epoch 77/80\n",
            "624/624 [==============================] - 0s 226us/sample - loss: 0.0052 - val_loss: 0.0171\n",
            "Epoch 78/80\n",
            "624/624 [==============================] - 0s 223us/sample - loss: 0.0053 - val_loss: 0.0199\n",
            "Epoch 79/80\n",
            "624/624 [==============================] - 0s 237us/sample - loss: 0.0055 - val_loss: 0.0269\n",
            "Epoch 80/80\n",
            "624/624 [==============================] - 0s 206us/sample - loss: 0.0058 - val_loss: 0.0351\n"
          ],
          "name": "stdout"
        }
      ]
    },
    {
      "cell_type": "code",
      "metadata": {
        "id": "Xis140zhqN_J",
        "colab_type": "code",
        "outputId": "332d29f5-d725-4a75-8541-b279101f5afe",
        "colab": {
          "base_uri": "https://localhost:8080/",
          "height": 281
        }
      },
      "source": [
        "plt.plot(r.history['loss'], Label= 'Loss')\n",
        "plt.plot(r.history['val_loss'], Label= 'Val_Loss')\n",
        "plt.legend()\n",
        "plt.title('Loss per Epoch')\n",
        "plt.show()"
      ],
      "execution_count": 10,
      "outputs": [
        {
          "output_type": "display_data",
          "data": {
            "image/png": "[encoded data removed]",
            "text/plain": [
              "<Figure size 432x288 with 1 Axes>"
            ]
          },
          "metadata": {
            "tags": []
          }
        }
      ]
    },
    {
      "cell_type": "code",
      "metadata": {
        "colab_type": "code",
        "outputId": "b241f32f-86bb-42b1-daa8-87ced46ae65d",
        "id": "qD5PHLa5iJqH",
        "colab": {
          "base_uri": "https://localhost:8080/",
          "height": 298
        }
      },
      "source": [
        "# One-Step forecast using true targets(LSTM)\n",
        "outputs = model.predict(X)\n",
        "print(outputs.shape)\n",
        "predictions = outputs[:,0]\n",
        "\n",
        "plt.plot(Y, label='targets')\n",
        "plt.plot(predictions, label='predictions')\n",
        "plt.title('Linear Regression Predictions')\n",
        "plt.legend()\n",
        "plt.show()"
      ],
      "execution_count": 11,
      "outputs": [
        {
          "output_type": "stream",
          "text": [
            "(1249, 1)\n"
          ],
          "name": "stdout"
        },
        {
          "output_type": "display_data",
          "data": {
            "image/png": "[encoded data removed]",
            "text/plain": [
              "<Figure size 432x288 with 1 Axes>"
            ]
          },
          "metadata": {
            "tags": []
          }
        }
      ]
    },
    {
      "cell_type": "code",
      "metadata": {
        "colab_type": "code",
        "id": "c1jmS2MdimpL",
        "colab": {}
      },
      "source": [
        "# Forecast future values using only self predictions for making future predictions,(Not using the true targets)\n",
        "validation_targets = Y[-N//2:]\n",
        "validation_predictions = []\n",
        "\n",
        "# Last Training input, begins where the validation set starts\n",
        "last_x = X[-N//2]\n",
        "\n",
        "while len(validation_predictions) < len(validation_targets):\n",
        "  p = model.predict(last_x.reshape(1,T,1))[0,0] # Model.predct returns N=Samples by K=Output Nodes output in this case it returns a matrix [1,1] so the first position [0,0] must be indexed to get the value\n",
        "\n",
        "# Update Predictions List\n",
        "  validation_predictions.append(p)\n",
        "\n",
        "# Make the New Input\n",
        "  last_x = np.roll(last_x, -1) # np.roll shifts the array. Negative values shift to the left, positive values shift to the right\n",
        "  last_x[-1] = p"
      ],
      "execution_count": 0,
      "outputs": []
    },
    {
      "cell_type": "code",
      "metadata": {
        "colab_type": "code",
        "outputId": "30390815-8792-4c07-be4e-9cc0db81096d",
        "id": "kUVwJecjifAW",
        "colab": {
          "base_uri": "https://localhost:8080/",
          "height": 265
        }
      },
      "source": [
        "plt.plot(validation_targets, label ='Forecast Target')\n",
        "plt.plot(validation_predictions, label='Forecast Prediction')\n",
        "plt.legend()\n",
        "plt.show()"
      ],
      "execution_count": 13,
      "outputs": [
        {
          "output_type": "display_data",
          "data": {
            "image/png": "[encoded data removed]",
            "text/plain": [
              "<Figure size 432x288 with 1 Axes>"
            ]
          },
          "metadata": {
            "tags": []
          }
        }
      ]
    },
    {
      "cell_type": "code",
      "metadata": {
        "id": "s_XTLh0Mxcit",
        "colab_type": "code",
        "colab": {}
      },
      "source": [
        "# Calculate returns by shifting the data\n",
        "df['PrevClose'] = df['close'].shift(1) # Move the column down by 1, making yesterdays closing price aligned with todays closing price"
      ],
      "execution_count": 0,
      "outputs": []
    },
    {
      "cell_type": "code",
      "metadata": {
        "id": "oOocQW1L0vK7",
        "colab_type": "code",
        "colab": {}
      },
      "source": [
        "# Calculate Stock returns\n",
        "df['return'] = (df['close'] - df['PrevClose'])/ df['PrevClose']"
      ],
      "execution_count": 0,
      "outputs": []
    },
    {
      "cell_type": "code",
      "metadata": {
        "id": "zvsSA6x21gQQ",
        "colab_type": "code",
        "outputId": "22d2ad94-47a9-4421-d67c-42b0907d1569",
        "colab": {
          "base_uri": "https://localhost:8080/",
          "height": 195
        }
      },
      "source": [
        "df.head()"
      ],
      "execution_count": 16,
      "outputs": [
        {
          "output_type": "execute_result",
          "data": {
            "text/html": [
              "<div>\n",
              "<style scoped>\n",
              "    .dataframe tbody tr th:only-of-type {\n",
              "        vertical-align: middle;\n",
              "    }\n",
              "\n",
              "    .dataframe tbody tr th {\n",
              "        vertical-align: top;\n",
              "    }\n",
              "\n",
              "    .dataframe thead th {\n",
              "        text-align: right;\n",
              "    }\n",
              "</style>\n",
              "<table border=\"1\" class=\"dataframe\">\n",
              "  <thead>\n",
              "    <tr style=\"text-align: right;\">\n",
              "      <th></th>\n",
              "      <th>date</th>\n",
              "      <th>open</th>\n",
              "      <th>high</th>\n",
              "      <th>low</th>\n",
              "      <th>close</th>\n",
              "      <th>volume</th>\n",
              "      <th>Name</th>\n",
              "      <th>PrevClose</th>\n",
              "      <th>return</th>\n",
              "    </tr>\n",
              "  </thead>\n",
              "  <tbody>\n",
              "    <tr>\n",
              "      <th>0</th>\n",
              "      <td>2013-02-08</td>\n",
              "      <td>27.920</td>\n",
              "      <td>28.325</td>\n",
              "      <td>27.920</td>\n",
              "      <td>28.185</td>\n",
              "      <td>7146296</td>\n",
              "      <td>SBUX</td>\n",
              "      <td>NaN</td>\n",
              "      <td>NaN</td>\n",
              "    </tr>\n",
              "    <tr>\n",
              "      <th>1</th>\n",
              "      <td>2013-02-11</td>\n",
              "      <td>28.260</td>\n",
              "      <td>28.260</td>\n",
              "      <td>27.930</td>\n",
              "      <td>28.070</td>\n",
              "      <td>5457354</td>\n",
              "      <td>SBUX</td>\n",
              "      <td>28.185</td>\n",
              "      <td>-0.004080</td>\n",
              "    </tr>\n",
              "    <tr>\n",
              "      <th>2</th>\n",
              "      <td>2013-02-12</td>\n",
              "      <td>28.000</td>\n",
              "      <td>28.275</td>\n",
              "      <td>27.975</td>\n",
              "      <td>28.130</td>\n",
              "      <td>8665592</td>\n",
              "      <td>SBUX</td>\n",
              "      <td>28.070</td>\n",
              "      <td>0.002138</td>\n",
              "    </tr>\n",
              "    <tr>\n",
              "      <th>3</th>\n",
              "      <td>2013-02-13</td>\n",
              "      <td>28.230</td>\n",
              "      <td>28.230</td>\n",
              "      <td>27.750</td>\n",
              "      <td>27.915</td>\n",
              "      <td>7022056</td>\n",
              "      <td>SBUX</td>\n",
              "      <td>28.130</td>\n",
              "      <td>-0.007643</td>\n",
              "    </tr>\n",
              "    <tr>\n",
              "      <th>4</th>\n",
              "      <td>2013-02-14</td>\n",
              "      <td>27.765</td>\n",
              "      <td>27.905</td>\n",
              "      <td>27.675</td>\n",
              "      <td>27.775</td>\n",
              "      <td>8899188</td>\n",
              "      <td>SBUX</td>\n",
              "      <td>27.915</td>\n",
              "      <td>-0.005015</td>\n",
              "    </tr>\n",
              "  </tbody>\n",
              "</table>\n",
              "</div>"
            ],
            "text/plain": [
              "         date    open    high     low  ...   volume  Name PrevClose    return\n",
              "0  2013-02-08  27.920  28.325  27.920  ...  7146296  SBUX       NaN       NaN\n",
              "1  2013-02-11  28.260  28.260  27.930  ...  5457354  SBUX    28.185 -0.004080\n",
              "2  2013-02-12  28.000  28.275  27.975  ...  8665592  SBUX    28.070  0.002138\n",
              "3  2013-02-13  28.230  28.230  27.750  ...  7022056  SBUX    28.130 -0.007643\n",
              "4  2013-02-14  27.765  27.905  27.675  ...  8899188  SBUX    27.915 -0.005015\n",
              "\n",
              "[5 rows x 9 columns]"
            ]
          },
          "metadata": {
            "tags": []
          },
          "execution_count": 16
        }
      ]
    },
    {
      "cell_type": "code",
      "metadata": {
        "id": "wt2jiYqw1jCY",
        "colab_type": "code",
        "outputId": "6d7cadf4-f082-4a79-cf60-8bbc68b626d8",
        "colab": {
          "base_uri": "https://localhost:8080/",
          "height": 282
        }
      },
      "source": [
        "df['return'].hist()"
      ],
      "execution_count": 17,
      "outputs": [
        {
          "output_type": "execute_result",
          "data": {
            "text/plain": [
              "<matplotlib.axes._subplots.AxesSubplot at 0x7ff8f4d7dcf8>"
            ]
          },
          "metadata": {
            "tags": []
          },
          "execution_count": 17
        },
        {
          "output_type": "display_data",
          "data": {
            "image/png": "[encoded data removed]",
            "text/plain": [
              "<Figure size 432x288 with 1 Axes>"
            ]
          },
          "metadata": {
            "tags": []
          }
        }
      ]
    },
    {
      "cell_type": "code",
      "metadata": {
        "colab_type": "code",
        "id": "BZZP2VVr11Ks",
        "colab": {}
      },
      "source": [
        "# Takes the close column and reshapes to a N X 1 matrix for the standard scaler.\n",
        "# Values transforms the data frame to a numpy array.\n",
        "# [1:] slice ignores NaN first value in return\n",
        "\n",
        "series = df['return'].values[1:].reshape(-1, 1) \n",
        "\n",
        "# Standardize the data\n",
        "scaler = StandardScaler()\n",
        "scaler.fit(series[:len(series)//2])\n",
        "series = scaler.transform(series).flatten() # For the time series input and targets creation"
      ],
      "execution_count": 0,
      "outputs": []
    },
    {
      "cell_type": "code",
      "metadata": {
        "colab_type": "code",
        "outputId": "ff733665-828b-487a-d9b9-96b7715c5d80",
        "id": "x918wvPG3T4X",
        "colab": {
          "base_uri": "https://localhost:8080/",
          "height": 34
        }
      },
      "source": [
        "# Setting up the data for time series prediction\n",
        "T = 10 # Amount of values used to predict the next value\n",
        "D = 1\n",
        "X = [] # Holds the inputs\n",
        "Y = [] # Holds the targets\n",
        "for t in range((len(series))- T): # The length of N is equal to the total length of the data set minus the length of the time sequence\n",
        "  x = series[t:t+T] # Holds a set of T values\n",
        "  X.append(x) # Appends the set of T values to list X\n",
        "  y = series[t+T] # Holds the target of the set of T values\n",
        "  Y.append(y) # appends the target to list Y\n",
        "\n",
        "X = np.array(X).reshape(-1, T, 1) # Makes list X an array and sets the size to (N X T x D) for the RNN\n",
        "Y = np.array(Y) # Makes Y an array, no reshaping necessary as the lenth of Y is already equal to X\n",
        "N = len(X) # Sets N to the length of array X\n",
        "print('X.shape =', X.shape, ', Y.shape =',Y.shape)"
      ],
      "execution_count": 19,
      "outputs": [
        {
          "output_type": "stream",
          "text": [
            "X.shape = (1248, 10, 1) , Y.shape = (1248,)\n"
          ],
          "name": "stdout"
        }
      ]
    },
    {
      "cell_type": "code",
      "metadata": {
        "colab_type": "code",
        "outputId": "14ce3212-cbe1-45c0-dabb-470ab3a5da98",
        "id": "XA19rIls3b0n",
        "colab": {
          "base_uri": "https://localhost:8080/",
          "height": 1000
        }
      },
      "source": [
        "# LSTM model\n",
        "i = Input(shape=(T,1))\n",
        "x = LSTM(5)(i)\n",
        "x = Dense(1)(x)\n",
        "\n",
        "model = Model(i, x)\n",
        "model.compile(loss='mse', optimizer=Adam(lr=0.1))\n",
        "\n",
        "r = model.fit(X[:-N//2], Y[:-N//2], epochs=80, validation_data=(X[-N//2:], Y[-N//2:]))"
      ],
      "execution_count": 20,
      "outputs": [
        {
          "output_type": "stream",
          "text": [
            "Train on 624 samples, validate on 624 samples\n",
            "Epoch 1/80\n",
            "624/624 [==============================] - 1s 2ms/sample - loss: 0.9994 - val_loss: 1.2744\n",
            "Epoch 2/80\n",
            "624/624 [==============================] - 0s 250us/sample - loss: 1.0116 - val_loss: 1.1556\n",
            "Epoch 3/80\n",
            "624/624 [==============================] - 0s 227us/sample - loss: 0.9961 - val_loss: 1.1443\n",
            "Epoch 4/80\n",
            "624/624 [==============================] - 0s 221us/sample - loss: 0.9862 - val_loss: 1.1529\n",
            "Epoch 5/80\n",
            "624/624 [==============================] - 0s 219us/sample - loss: 0.9894 - val_loss: 1.1789\n",
            "Epoch 6/80\n",
            "624/624 [==============================] - 0s 217us/sample - loss: 0.9826 - val_loss: 1.2161\n",
            "Epoch 7/80\n",
            "624/624 [==============================] - 0s 230us/sample - loss: 1.0034 - val_loss: 1.1986\n",
            "Epoch 8/80\n",
            "624/624 [==============================] - 0s 225us/sample - loss: 0.9888 - val_loss: 1.1511\n",
            "Epoch 9/80\n",
            "624/624 [==============================] - 0s 225us/sample - loss: 0.9958 - val_loss: 1.1525\n",
            "Epoch 10/80\n",
            "624/624 [==============================] - 0s 227us/sample - loss: 0.9946 - val_loss: 1.1430\n",
            "Epoch 11/80\n",
            "624/624 [==============================] - 0s 223us/sample - loss: 0.9799 - val_loss: 1.2434\n",
            "Epoch 12/80\n",
            "624/624 [==============================] - 0s 229us/sample - loss: 0.9662 - val_loss: 1.2103\n",
            "Epoch 13/80\n",
            "624/624 [==============================] - 0s 241us/sample - loss: 0.9644 - val_loss: 1.2675\n",
            "Epoch 14/80\n",
            "624/624 [==============================] - 0s 224us/sample - loss: 0.9665 - val_loss: 1.2491\n",
            "Epoch 15/80\n",
            "624/624 [==============================] - 0s 214us/sample - loss: 0.9556 - val_loss: 1.2304\n",
            "Epoch 16/80\n",
            "624/624 [==============================] - 0s 224us/sample - loss: 0.9528 - val_loss: 1.2173\n",
            "Epoch 17/80\n",
            "624/624 [==============================] - 0s 227us/sample - loss: 0.9451 - val_loss: 1.3213\n",
            "Epoch 18/80\n",
            "624/624 [==============================] - 0s 231us/sample - loss: 0.9785 - val_loss: 1.2280\n",
            "Epoch 19/80\n",
            "624/624 [==============================] - 0s 235us/sample - loss: 0.9464 - val_loss: 1.2214\n",
            "Epoch 20/80\n",
            "624/624 [==============================] - 0s 235us/sample - loss: 0.9335 - val_loss: 1.2196\n",
            "Epoch 21/80\n",
            "624/624 [==============================] - 0s 220us/sample - loss: 0.9260 - val_loss: 1.2367\n",
            "Epoch 22/80\n",
            "624/624 [==============================] - 0s 223us/sample - loss: 0.9449 - val_loss: 1.2089\n",
            "Epoch 23/80\n",
            "624/624 [==============================] - 0s 223us/sample - loss: 0.9239 - val_loss: 1.2760\n",
            "Epoch 24/80\n",
            "624/624 [==============================] - 0s 214us/sample - loss: 0.9175 - val_loss: 1.2389\n",
            "Epoch 25/80\n",
            "624/624 [==============================] - 0s 215us/sample - loss: 0.9353 - val_loss: 1.2715\n",
            "Epoch 26/80\n",
            "624/624 [==============================] - 0s 230us/sample - loss: 0.9261 - val_loss: 1.3640\n",
            "Epoch 27/80\n",
            "624/624 [==============================] - 0s 226us/sample - loss: 0.9140 - val_loss: 1.2958\n",
            "Epoch 28/80\n",
            "624/624 [==============================] - 0s 238us/sample - loss: 0.8935 - val_loss: 1.2506\n",
            "Epoch 29/80\n",
            "624/624 [==============================] - 0s 224us/sample - loss: 0.8897 - val_loss: 1.3367\n",
            "Epoch 30/80\n",
            "624/624 [==============================] - 0s 225us/sample - loss: 0.8925 - val_loss: 1.2529\n",
            "Epoch 31/80\n",
            "624/624 [==============================] - 0s 231us/sample - loss: 0.9082 - val_loss: 1.3385\n",
            "Epoch 32/80\n",
            "624/624 [==============================] - 0s 218us/sample - loss: 0.9177 - val_loss: 1.1895\n",
            "Epoch 33/80\n",
            "624/624 [==============================] - 0s 231us/sample - loss: 0.9582 - val_loss: 1.2348\n",
            "Epoch 34/80\n",
            "624/624 [==============================] - 0s 212us/sample - loss: 0.9408 - val_loss: 1.2249\n",
            "Epoch 35/80\n",
            "624/624 [==============================] - 0s 237us/sample - loss: 0.9022 - val_loss: 1.2859\n",
            "Epoch 36/80\n",
            "624/624 [==============================] - 0s 222us/sample - loss: 0.8817 - val_loss: 1.3071\n",
            "Epoch 37/80\n",
            "624/624 [==============================] - 0s 226us/sample - loss: 0.9008 - val_loss: 1.2386\n",
            "Epoch 38/80\n",
            "624/624 [==============================] - 0s 217us/sample - loss: 0.8957 - val_loss: 1.2442\n",
            "Epoch 39/80\n",
            "624/624 [==============================] - 0s 217us/sample - loss: 0.8898 - val_loss: 1.2727\n",
            "Epoch 40/80\n",
            "624/624 [==============================] - 0s 221us/sample - loss: 0.8801 - val_loss: 1.2280\n",
            "Epoch 41/80\n",
            "624/624 [==============================] - 0s 219us/sample - loss: 0.8823 - val_loss: 1.2854\n",
            "Epoch 42/80\n",
            "624/624 [==============================] - 0s 235us/sample - loss: 0.9127 - val_loss: 1.2653\n",
            "Epoch 43/80\n",
            "624/624 [==============================] - 0s 229us/sample - loss: 0.9449 - val_loss: 1.2500\n",
            "Epoch 44/80\n",
            "624/624 [==============================] - 0s 216us/sample - loss: 0.9302 - val_loss: 1.2019\n",
            "Epoch 45/80\n",
            "624/624 [==============================] - 0s 215us/sample - loss: 0.9265 - val_loss: 1.2090\n",
            "Epoch 46/80\n",
            "624/624 [==============================] - 0s 219us/sample - loss: 0.9954 - val_loss: 1.1913\n",
            "Epoch 47/80\n",
            "624/624 [==============================] - 0s 227us/sample - loss: 0.9584 - val_loss: 1.2206\n",
            "Epoch 48/80\n",
            "624/624 [==============================] - 0s 236us/sample - loss: 0.9583 - val_loss: 1.2712\n",
            "Epoch 49/80\n",
            "624/624 [==============================] - 0s 236us/sample - loss: 0.9258 - val_loss: 1.2720\n",
            "Epoch 50/80\n",
            "624/624 [==============================] - 0s 222us/sample - loss: 0.9145 - val_loss: 1.2863\n",
            "Epoch 51/80\n",
            "624/624 [==============================] - 0s 228us/sample - loss: 0.9084 - val_loss: 1.3170\n",
            "Epoch 52/80\n",
            "624/624 [==============================] - 0s 248us/sample - loss: 0.8944 - val_loss: 1.2708\n",
            "Epoch 53/80\n",
            "624/624 [==============================] - 0s 230us/sample - loss: 0.9163 - val_loss: 1.3970\n",
            "Epoch 54/80\n",
            "624/624 [==============================] - 0s 236us/sample - loss: 0.9497 - val_loss: 1.2691\n",
            "Epoch 55/80\n",
            "624/624 [==============================] - 0s 230us/sample - loss: 0.9456 - val_loss: 1.2524\n",
            "Epoch 56/80\n",
            "624/624 [==============================] - 0s 257us/sample - loss: 0.9562 - val_loss: 1.2438\n",
            "Epoch 57/80\n",
            "624/624 [==============================] - 0s 228us/sample - loss: 0.9184 - val_loss: 1.3130\n",
            "Epoch 58/80\n",
            "624/624 [==============================] - 0s 234us/sample - loss: 0.9353 - val_loss: 1.4132\n",
            "Epoch 59/80\n",
            "624/624 [==============================] - 0s 223us/sample - loss: 0.9213 - val_loss: 1.2888\n",
            "Epoch 60/80\n",
            "624/624 [==============================] - 0s 235us/sample - loss: 0.9023 - val_loss: 1.4019\n",
            "Epoch 61/80\n",
            "624/624 [==============================] - 0s 237us/sample - loss: 0.9293 - val_loss: 1.2124\n",
            "Epoch 62/80\n",
            "624/624 [==============================] - 0s 254us/sample - loss: 0.9051 - val_loss: 1.2835\n",
            "Epoch 63/80\n",
            "624/624 [==============================] - 0s 246us/sample - loss: 0.8837 - val_loss: 1.3992\n",
            "Epoch 64/80\n",
            "624/624 [==============================] - 0s 225us/sample - loss: 0.9092 - val_loss: 1.4801\n",
            "Epoch 65/80\n",
            "624/624 [==============================] - 0s 223us/sample - loss: 0.9674 - val_loss: 1.2729\n",
            "Epoch 66/80\n",
            "624/624 [==============================] - 0s 223us/sample - loss: 0.9429 - val_loss: 1.3128\n",
            "Epoch 67/80\n",
            "624/624 [==============================] - 0s 227us/sample - loss: 0.9537 - val_loss: 1.3419\n",
            "Epoch 68/80\n",
            "624/624 [==============================] - 0s 220us/sample - loss: 0.9283 - val_loss: 1.3584\n",
            "Epoch 69/80\n",
            "624/624 [==============================] - 0s 236us/sample - loss: 0.9394 - val_loss: 1.3296\n",
            "Epoch 70/80\n",
            "624/624 [==============================] - 0s 245us/sample - loss: 0.9161 - val_loss: 1.3658\n",
            "Epoch 71/80\n",
            "624/624 [==============================] - 0s 237us/sample - loss: 0.9257 - val_loss: 1.2031\n",
            "Epoch 72/80\n",
            "624/624 [==============================] - 0s 226us/sample - loss: 0.9318 - val_loss: 1.3188\n",
            "Epoch 73/80\n",
            "624/624 [==============================] - 0s 233us/sample - loss: 0.9768 - val_loss: 1.1825\n",
            "Epoch 74/80\n",
            "624/624 [==============================] - 0s 213us/sample - loss: 0.9869 - val_loss: 1.2100\n",
            "Epoch 75/80\n",
            "624/624 [==============================] - 0s 226us/sample - loss: 0.9622 - val_loss: 1.1686\n",
            "Epoch 76/80\n",
            "624/624 [==============================] - 0s 226us/sample - loss: 0.9640 - val_loss: 1.2505\n",
            "Epoch 77/80\n",
            "624/624 [==============================] - 0s 239us/sample - loss: 0.9408 - val_loss: 1.2127\n",
            "Epoch 78/80\n",
            "624/624 [==============================] - 0s 228us/sample - loss: 0.9394 - val_loss: 1.2337\n",
            "Epoch 79/80\n",
            "624/624 [==============================] - 0s 215us/sample - loss: 0.9402 - val_loss: 1.2361\n",
            "Epoch 80/80\n",
            "624/624 [==============================] - 0s 233us/sample - loss: 0.9215 - val_loss: 1.2408\n"
          ],
          "name": "stdout"
        }
      ]
    },
    {
      "cell_type": "code",
      "metadata": {
        "colab_type": "code",
        "outputId": "f1c0eb3a-e13a-4baa-d619-c512b8de9539",
        "id": "M9b9Iv-L3lSp",
        "colab": {
          "base_uri": "https://localhost:8080/",
          "height": 281
        }
      },
      "source": [
        "plt.plot(r.history['loss'], Label= 'Loss')\n",
        "plt.plot(r.history['val_loss'], Label= 'Val_Loss')\n",
        "plt.legend()\n",
        "plt.title('Loss per Epoch')\n",
        "plt.show()"
      ],
      "execution_count": 21,
      "outputs": [
        {
          "output_type": "display_data",
          "data": {
            "image/png": "[encoded data removed]",
            "text/plain": [
              "<Figure size 432x288 with 1 Axes>"
            ]
          },
          "metadata": {
            "tags": []
          }
        }
      ]
    },
    {
      "cell_type": "code",
      "metadata": {
        "colab_type": "code",
        "outputId": "9033748b-a7f5-423a-9619-d11c4588e779",
        "id": "Zy9-CaFE3r8o",
        "colab": {
          "base_uri": "https://localhost:8080/",
          "height": 298
        }
      },
      "source": [
        "# One-Step forecast using true targets(LSTM)\n",
        "outputs = model.predict(X)\n",
        "print(outputs.shape)\n",
        "predictions = outputs[:,0]\n",
        "\n",
        "plt.plot(Y, label='targets')\n",
        "plt.plot(predictions, label='predictions')\n",
        "plt.title('Linear Regression Predictions')\n",
        "plt.legend()\n",
        "plt.show()"
      ],
      "execution_count": 22,
      "outputs": [
        {
          "output_type": "stream",
          "text": [
            "(1248, 1)\n"
          ],
          "name": "stdout"
        },
        {
          "output_type": "display_data",
          "data": {
            "image/png": "[encoded data removed]",
            "text/plain": [
              "<Figure size 432x288 with 1 Axes>"
            ]
          },
          "metadata": {
            "tags": []
          }
        }
      ]
    },
    {
      "cell_type": "code",
      "metadata": {
        "colab_type": "code",
        "id": "hY0tzUtu30ZX",
        "colab": {}
      },
      "source": [
        "# Forecast future values using only self predictions for making future predictions,(Not using the true targets)\n",
        "validation_targets = Y[-N//2:]\n",
        "validation_predictions = []\n",
        "\n",
        "# Last Training input, begins where the validation set starts\n",
        "last_x = X[-N//2] # The index will contain a time series of length T\n",
        "\n",
        "while len(validation_predictions) < len(validation_targets):\n",
        "  p = model.predict(last_x.reshape(1,T,1))[0,0] # Model.predct returns N=Samples by K=Output Nodes output in this case it returns a matrix [1,1] so the first position [0,0] must be indexed to get the value\n",
        "\n",
        "# Update Predictions List\n",
        "  validation_predictions.append(p)\n",
        "\n",
        "# Make the New Input\n",
        "  last_x = np.roll(last_x, -1) # np.roll shifts the array. Negative values shift to the left, positive values shift to the right\n",
        "  last_x[-1] = p"
      ],
      "execution_count": 0,
      "outputs": []
    },
    {
      "cell_type": "code",
      "metadata": {
        "colab_type": "code",
        "outputId": "b49119a9-5101-4314-bd1f-f19ca919ebc4",
        "id": "I2DvzoYk34J5",
        "colab": {
          "base_uri": "https://localhost:8080/",
          "height": 265
        }
      },
      "source": [
        "plt.plot(validation_targets, label ='Forecast Target')\n",
        "plt.plot(validation_predictions, label='Forecast Prediction')\n",
        "plt.legend()\n",
        "plt.show()"
      ],
      "execution_count": 24,
      "outputs": [
        {
          "output_type": "display_data",
          "data": {
            "image/png": "[encoded data removed]",
            "text/plain": [
              "<Figure size 432x288 with 1 Axes>"
            ]
          },
          "metadata": {
            "tags": []
          }
        }
      ]
    },
    {
      "cell_type": "code",
      "metadata": {
        "id": "M0tcQ4ut2ufA",
        "colab_type": "code",
        "colab": {}
      },
      "source": [
        "# Turn full data into numpy arrays\n",
        "input_data = df[['open', 'high', 'low', 'close', 'volume']].values\n",
        "targets = df['return'].values"
      ],
      "execution_count": 0,
      "outputs": []
    },
    {
      "cell_type": "code",
      "metadata": {
        "id": "e9Z64k7Q9Hdy",
        "colab_type": "code",
        "colab": {}
      },
      "source": [
        "T = 10 # The amount of data points to be used for each prediction\n",
        "D = input_data.shape[1] # The amount of features in the input data\n",
        "N = len(input_data) - T # This excludes the initial data points needed to make the first prediciton (so the sample size must be T less the all the data points)"
      ],
      "execution_count": 0,
      "outputs": []
    },
    {
      "cell_type": "code",
      "metadata": {
        "id": "XtZ74p2v9rPO",
        "colab_type": "code",
        "colab": {}
      },
      "source": [
        "# Normalize the inputs\n",
        "N_train = len(input_data) * 2 // 3 # Makes the first 2/3rds of the data the training set\n",
        "scaler = StandardScaler()\n",
        "scaler.fit(input_data[:N_train+T])\n",
        "input_data = scaler.transform(input_data)"
      ],
      "execution_count": 0,
      "outputs": []
    },
    {
      "cell_type": "code",
      "metadata": {
        "id": "1jvKmyYT_cDQ",
        "colab_type": "code",
        "colab": {}
      },
      "source": [
        "# Setup X_train and Y_train\n",
        "X_train = np.zeros((N_train, T, D))\n",
        "Y_train = np.zeros(N_train)\n",
        "\n",
        "for t in range(N_train):\n",
        "  X_train[t, :, :] = input_data[t:t+T] # Gets the T x D data at entry t of the input data\n",
        "  Y_train[t] = (targets[t+T] > 0) # Whether or not the return went up or down"
      ],
      "execution_count": 0,
      "outputs": []
    },
    {
      "cell_type": "code",
      "metadata": {
        "id": "CzCKjrIACTwP",
        "colab_type": "code",
        "colab": {}
      },
      "source": [
        "# Setup X_test and Y_test\n",
        "X_test = np.zeros((N - N_train, T, D))\n",
        "Y_test = np.zeros(N - N_train)\n",
        "\n",
        "for u in range(N_train - N):\n",
        "  t = N_train + u # Goes through the indexes of the validation set of the input data and targets\n",
        "  X_test[u, :, :] = input_data[t:t+T] # Gets the T x D data at entry t of the input data\n",
        "  Y_test[u] = (targets[t+T] > 0) # Whether or not the return went up or down"
      ],
      "execution_count": 0,
      "outputs": []
    },
    {
      "cell_type": "code",
      "metadata": {
        "id": "GB-bUen8ETYH",
        "colab_type": "code",
        "colab": {}
      },
      "source": [
        "# Make the new LSTM for binary classifaction\n",
        "i = Input(shape=(T, D))\n",
        "x = LSTM(50)(i)\n",
        "x = Dense(1, activation='sigmoid')(x)\n",
        "model = Model(i,x)\n",
        "model.compile(loss='binary_crossentropy', optimizer=Adam(lr=0.001), metrics=['accuracy'])"
      ],
      "execution_count": 0,
      "outputs": []
    },
    {
      "cell_type": "code",
      "metadata": {
        "id": "qPhUa_M9E5kO",
        "colab_type": "code",
        "outputId": "7a54c5a5-0d57-4c8d-de59-88029620a8b2",
        "colab": {
          "base_uri": "https://localhost:8080/",
          "height": 1000
        }
      },
      "source": [
        "# Train model\n",
        "r = model.fit(X_train, Y_train, epochs = 300, batch_size=32,validation_data=(X_test, Y_test))"
      ],
      "execution_count": 31,
      "outputs": [
        {
          "output_type": "stream",
          "text": [
            "Train on 839 samples, validate on 410 samples\n",
            "Epoch 1/300\n",
            "839/839 [==============================] - 2s 2ms/sample - loss: 0.6952 - accuracy: 0.5125 - val_loss: 0.7059 - val_accuracy: 0.0000e+00\n",
            "Epoch 2/300\n",
            "839/839 [==============================] - 0s 203us/sample - loss: 0.6938 - accuracy: 0.5232 - val_loss: 0.7182 - val_accuracy: 0.0000e+00\n",
            "Epoch 3/300\n",
            "839/839 [==============================] - 0s 207us/sample - loss: 0.6909 - accuracy: 0.5268 - val_loss: 0.7235 - val_accuracy: 0.0000e+00\n",
            "Epoch 4/300\n",
            "839/839 [==============================] - 0s 210us/sample - loss: 0.6906 - accuracy: 0.5221 - val_loss: 0.7343 - val_accuracy: 0.0000e+00\n",
            "Epoch 5/300\n",
            "839/839 [==============================] - 0s 224us/sample - loss: 0.6884 - accuracy: 0.5340 - val_loss: 0.7293 - val_accuracy: 0.0000e+00\n",
            "Epoch 6/300\n",
            "839/839 [==============================] - 0s 208us/sample - loss: 0.6890 - accuracy: 0.5352 - val_loss: 0.7385 - val_accuracy: 0.0000e+00\n",
            "Epoch 7/300\n",
            "839/839 [==============================] - 0s 217us/sample - loss: 0.6886 - accuracy: 0.5280 - val_loss: 0.7515 - val_accuracy: 0.0000e+00\n",
            "Epoch 8/300\n",
            "839/839 [==============================] - 0s 208us/sample - loss: 0.6901 - accuracy: 0.5316 - val_loss: 0.7550 - val_accuracy: 0.0000e+00\n",
            "Epoch 9/300\n",
            "839/839 [==============================] - 0s 217us/sample - loss: 0.6892 - accuracy: 0.5292 - val_loss: 0.7537 - val_accuracy: 0.0000e+00\n",
            "Epoch 10/300\n",
            "839/839 [==============================] - 0s 203us/sample - loss: 0.6881 - accuracy: 0.5304 - val_loss: 0.7556 - val_accuracy: 0.0000e+00\n",
            "Epoch 11/300\n",
            "839/839 [==============================] - 0s 211us/sample - loss: 0.6872 - accuracy: 0.5447 - val_loss: 0.7562 - val_accuracy: 0.0000e+00\n",
            "Epoch 12/300\n",
            "839/839 [==============================] - 0s 233us/sample - loss: 0.6885 - accuracy: 0.5411 - val_loss: 0.7524 - val_accuracy: 0.0000e+00\n",
            "Epoch 13/300\n",
            "839/839 [==============================] - 0s 216us/sample - loss: 0.6871 - accuracy: 0.5280 - val_loss: 0.7562 - val_accuracy: 0.0000e+00\n",
            "Epoch 14/300\n",
            "839/839 [==============================] - 0s 225us/sample - loss: 0.6870 - accuracy: 0.5662 - val_loss: 0.7599 - val_accuracy: 0.0000e+00\n",
            "Epoch 15/300\n",
            "839/839 [==============================] - 0s 207us/sample - loss: 0.6865 - accuracy: 0.5483 - val_loss: 0.7602 - val_accuracy: 0.0000e+00\n",
            "Epoch 16/300\n",
            "839/839 [==============================] - 0s 214us/sample - loss: 0.6858 - accuracy: 0.5518 - val_loss: 0.7572 - val_accuracy: 0.0000e+00\n",
            "Epoch 17/300\n",
            "839/839 [==============================] - 0s 215us/sample - loss: 0.6856 - accuracy: 0.5471 - val_loss: 0.7633 - val_accuracy: 0.0000e+00\n",
            "Epoch 18/300\n",
            "839/839 [==============================] - 0s 221us/sample - loss: 0.6844 - accuracy: 0.5685 - val_loss: 0.7670 - val_accuracy: 0.0000e+00\n",
            "Epoch 19/300\n",
            "839/839 [==============================] - 0s 210us/sample - loss: 0.6851 - accuracy: 0.5602 - val_loss: 0.7695 - val_accuracy: 0.0000e+00\n",
            "Epoch 20/300\n",
            "839/839 [==============================] - 0s 214us/sample - loss: 0.6861 - accuracy: 0.5483 - val_loss: 0.7710 - val_accuracy: 0.0000e+00\n",
            "Epoch 21/300\n",
            "839/839 [==============================] - 0s 215us/sample - loss: 0.6872 - accuracy: 0.5518 - val_loss: 0.7738 - val_accuracy: 0.0000e+00\n",
            "Epoch 22/300\n",
            "839/839 [==============================] - 0s 210us/sample - loss: 0.6868 - accuracy: 0.5495 - val_loss: 0.7773 - val_accuracy: 0.0000e+00\n",
            "Epoch 23/300\n",
            "839/839 [==============================] - 0s 217us/sample - loss: 0.6852 - accuracy: 0.5530 - val_loss: 0.7672 - val_accuracy: 0.0000e+00\n",
            "Epoch 24/300\n",
            "839/839 [==============================] - 0s 230us/sample - loss: 0.6844 - accuracy: 0.5697 - val_loss: 0.7754 - val_accuracy: 0.0000e+00\n",
            "Epoch 25/300\n",
            "839/839 [==============================] - 0s 215us/sample - loss: 0.6841 - accuracy: 0.5650 - val_loss: 0.7746 - val_accuracy: 0.0000e+00\n",
            "Epoch 26/300\n",
            "839/839 [==============================] - 0s 219us/sample - loss: 0.6832 - accuracy: 0.5816 - val_loss: 0.7712 - val_accuracy: 0.0000e+00\n",
            "Epoch 27/300\n",
            "839/839 [==============================] - 0s 230us/sample - loss: 0.6843 - accuracy: 0.5280 - val_loss: 0.7663 - val_accuracy: 0.0000e+00\n",
            "Epoch 28/300\n",
            "839/839 [==============================] - 0s 225us/sample - loss: 0.6842 - accuracy: 0.5530 - val_loss: 0.7583 - val_accuracy: 0.0000e+00\n",
            "Epoch 29/300\n",
            "839/839 [==============================] - 0s 225us/sample - loss: 0.6808 - accuracy: 0.5876 - val_loss: 0.7600 - val_accuracy: 0.0000e+00\n",
            "Epoch 30/300\n",
            "839/839 [==============================] - 0s 223us/sample - loss: 0.6826 - accuracy: 0.5673 - val_loss: 0.7614 - val_accuracy: 0.0000e+00\n",
            "Epoch 31/300\n",
            "839/839 [==============================] - 0s 213us/sample - loss: 0.6810 - accuracy: 0.5805 - val_loss: 0.7739 - val_accuracy: 0.0000e+00\n",
            "Epoch 32/300\n",
            "839/839 [==============================] - 0s 212us/sample - loss: 0.6819 - accuracy: 0.5590 - val_loss: 0.7657 - val_accuracy: 0.0000e+00\n",
            "Epoch 33/300\n",
            "839/839 [==============================] - 0s 209us/sample - loss: 0.6803 - accuracy: 0.5578 - val_loss: 0.7697 - val_accuracy: 0.0000e+00\n",
            "Epoch 34/300\n",
            "839/839 [==============================] - 0s 214us/sample - loss: 0.6819 - accuracy: 0.5709 - val_loss: 0.7718 - val_accuracy: 0.0000e+00\n",
            "Epoch 35/300\n",
            "839/839 [==============================] - 0s 223us/sample - loss: 0.6791 - accuracy: 0.5721 - val_loss: 0.7554 - val_accuracy: 0.0000e+00\n",
            "Epoch 36/300\n",
            "839/839 [==============================] - 0s 212us/sample - loss: 0.6797 - accuracy: 0.5733 - val_loss: 0.7564 - val_accuracy: 0.0000e+00\n",
            "Epoch 37/300\n",
            "839/839 [==============================] - 0s 211us/sample - loss: 0.6775 - accuracy: 0.5685 - val_loss: 0.7487 - val_accuracy: 0.0000e+00\n",
            "Epoch 38/300\n",
            "839/839 [==============================] - 0s 217us/sample - loss: 0.6785 - accuracy: 0.5662 - val_loss: 0.7555 - val_accuracy: 0.0000e+00\n",
            "Epoch 39/300\n",
            "839/839 [==============================] - 0s 215us/sample - loss: 0.6762 - accuracy: 0.5721 - val_loss: 0.7588 - val_accuracy: 0.0000e+00\n",
            "Epoch 40/300\n",
            "839/839 [==============================] - 0s 225us/sample - loss: 0.6770 - accuracy: 0.5650 - val_loss: 0.7579 - val_accuracy: 0.0000e+00\n",
            "Epoch 41/300\n",
            "839/839 [==============================] - 0s 206us/sample - loss: 0.6778 - accuracy: 0.5697 - val_loss: 0.7571 - val_accuracy: 0.0000e+00\n",
            "Epoch 42/300\n",
            "839/839 [==============================] - 0s 209us/sample - loss: 0.6755 - accuracy: 0.5626 - val_loss: 0.7579 - val_accuracy: 0.0000e+00\n",
            "Epoch 43/300\n",
            "839/839 [==============================] - 0s 218us/sample - loss: 0.6749 - accuracy: 0.5697 - val_loss: 0.7592 - val_accuracy: 0.0000e+00\n",
            "Epoch 44/300\n",
            "839/839 [==============================] - 0s 208us/sample - loss: 0.6770 - accuracy: 0.5650 - val_loss: 0.7606 - val_accuracy: 0.0000e+00\n",
            "Epoch 45/300\n",
            "839/839 [==============================] - 0s 215us/sample - loss: 0.6747 - accuracy: 0.5590 - val_loss: 0.7663 - val_accuracy: 0.0000e+00\n",
            "Epoch 46/300\n",
            "839/839 [==============================] - 0s 235us/sample - loss: 0.6755 - accuracy: 0.5673 - val_loss: 0.7586 - val_accuracy: 0.0000e+00\n",
            "Epoch 47/300\n",
            "839/839 [==============================] - 0s 220us/sample - loss: 0.6747 - accuracy: 0.5685 - val_loss: 0.7669 - val_accuracy: 0.0000e+00\n",
            "Epoch 48/300\n",
            "839/839 [==============================] - 0s 212us/sample - loss: 0.6762 - accuracy: 0.5650 - val_loss: 0.7568 - val_accuracy: 0.0000e+00\n",
            "Epoch 49/300\n",
            "839/839 [==============================] - 0s 218us/sample - loss: 0.6730 - accuracy: 0.5757 - val_loss: 0.7600 - val_accuracy: 0.0000e+00\n",
            "Epoch 50/300\n",
            "839/839 [==============================] - 0s 237us/sample - loss: 0.6714 - accuracy: 0.5673 - val_loss: 0.7637 - val_accuracy: 0.0000e+00\n",
            "Epoch 51/300\n",
            "839/839 [==============================] - 0s 236us/sample - loss: 0.6704 - accuracy: 0.5900 - val_loss: 0.7636 - val_accuracy: 0.0000e+00\n",
            "Epoch 52/300\n",
            "839/839 [==============================] - 0s 231us/sample - loss: 0.6711 - accuracy: 0.5733 - val_loss: 0.7654 - val_accuracy: 0.0000e+00\n",
            "Epoch 53/300\n",
            "839/839 [==============================] - 0s 227us/sample - loss: 0.6707 - accuracy: 0.5805 - val_loss: 0.7693 - val_accuracy: 0.0000e+00\n",
            "Epoch 54/300\n",
            "839/839 [==============================] - 0s 223us/sample - loss: 0.6728 - accuracy: 0.5900 - val_loss: 0.7694 - val_accuracy: 0.0000e+00\n",
            "Epoch 55/300\n",
            "839/839 [==============================] - 0s 217us/sample - loss: 0.6689 - accuracy: 0.5662 - val_loss: 0.7610 - val_accuracy: 0.0000e+00\n",
            "Epoch 56/300\n",
            "839/839 [==============================] - 0s 206us/sample - loss: 0.6684 - accuracy: 0.5793 - val_loss: 0.7733 - val_accuracy: 0.0000e+00\n",
            "Epoch 57/300\n",
            "839/839 [==============================] - 0s 233us/sample - loss: 0.6663 - accuracy: 0.5745 - val_loss: 0.7719 - val_accuracy: 0.0000e+00\n",
            "Epoch 58/300\n",
            "839/839 [==============================] - 0s 211us/sample - loss: 0.6644 - accuracy: 0.5936 - val_loss: 0.7737 - val_accuracy: 0.0000e+00\n",
            "Epoch 59/300\n",
            "839/839 [==============================] - 0s 208us/sample - loss: 0.6648 - accuracy: 0.5864 - val_loss: 0.7833 - val_accuracy: 0.0000e+00\n",
            "Epoch 60/300\n",
            "839/839 [==============================] - 0s 213us/sample - loss: 0.6632 - accuracy: 0.5900 - val_loss: 0.7837 - val_accuracy: 0.0000e+00\n",
            "Epoch 61/300\n",
            "839/839 [==============================] - 0s 209us/sample - loss: 0.6621 - accuracy: 0.5912 - val_loss: 0.7730 - val_accuracy: 0.0000e+00\n",
            "Epoch 62/300\n",
            "839/839 [==============================] - 0s 218us/sample - loss: 0.6612 - accuracy: 0.5900 - val_loss: 0.7720 - val_accuracy: 0.0000e+00\n",
            "Epoch 63/300\n",
            "839/839 [==============================] - 0s 201us/sample - loss: 0.6620 - accuracy: 0.5936 - val_loss: 0.7778 - val_accuracy: 0.0000e+00\n",
            "Epoch 64/300\n",
            "839/839 [==============================] - 0s 208us/sample - loss: 0.6612 - accuracy: 0.5888 - val_loss: 0.7958 - val_accuracy: 0.0000e+00\n",
            "Epoch 65/300\n",
            "839/839 [==============================] - 0s 195us/sample - loss: 0.6582 - accuracy: 0.5971 - val_loss: 0.7537 - val_accuracy: 0.0000e+00\n",
            "Epoch 66/300\n",
            "839/839 [==============================] - 0s 195us/sample - loss: 0.6573 - accuracy: 0.5888 - val_loss: 0.7707 - val_accuracy: 0.0000e+00\n",
            "Epoch 67/300\n",
            "839/839 [==============================] - 0s 204us/sample - loss: 0.6593 - accuracy: 0.5971 - val_loss: 0.7823 - val_accuracy: 0.0000e+00\n",
            "Epoch 68/300\n",
            "839/839 [==============================] - 0s 219us/sample - loss: 0.6571 - accuracy: 0.5948 - val_loss: 0.7892 - val_accuracy: 0.0000e+00\n",
            "Epoch 69/300\n",
            "839/839 [==============================] - 0s 236us/sample - loss: 0.6515 - accuracy: 0.6007 - val_loss: 0.7954 - val_accuracy: 0.0000e+00\n",
            "Epoch 70/300\n",
            "839/839 [==============================] - 0s 196us/sample - loss: 0.6543 - accuracy: 0.5936 - val_loss: 0.7910 - val_accuracy: 0.0000e+00\n",
            "Epoch 71/300\n",
            "839/839 [==============================] - 0s 195us/sample - loss: 0.6523 - accuracy: 0.6007 - val_loss: 0.8230 - val_accuracy: 0.0000e+00\n",
            "Epoch 72/300\n",
            "839/839 [==============================] - 0s 196us/sample - loss: 0.6543 - accuracy: 0.5948 - val_loss: 0.7883 - val_accuracy: 0.0000e+00\n",
            "Epoch 73/300\n",
            "839/839 [==============================] - 0s 201us/sample - loss: 0.6483 - accuracy: 0.6043 - val_loss: 0.7830 - val_accuracy: 0.0000e+00\n",
            "Epoch 74/300\n",
            "839/839 [==============================] - 0s 214us/sample - loss: 0.6486 - accuracy: 0.6126 - val_loss: 0.7968 - val_accuracy: 0.0000e+00\n",
            "Epoch 75/300\n",
            "839/839 [==============================] - 0s 205us/sample - loss: 0.6450 - accuracy: 0.6126 - val_loss: 0.7988 - val_accuracy: 0.0000e+00\n",
            "Epoch 76/300\n",
            "839/839 [==============================] - 0s 202us/sample - loss: 0.6450 - accuracy: 0.6186 - val_loss: 0.7919 - val_accuracy: 0.0000e+00\n",
            "Epoch 77/300\n",
            "839/839 [==============================] - 0s 191us/sample - loss: 0.6403 - accuracy: 0.6162 - val_loss: 0.7911 - val_accuracy: 0.0000e+00\n",
            "Epoch 78/300\n",
            "839/839 [==============================] - 0s 211us/sample - loss: 0.6442 - accuracy: 0.6174 - val_loss: 0.7908 - val_accuracy: 0.0000e+00\n",
            "Epoch 79/300\n",
            "839/839 [==============================] - 0s 197us/sample - loss: 0.6390 - accuracy: 0.6186 - val_loss: 0.7861 - val_accuracy: 0.0000e+00\n",
            "Epoch 80/300\n",
            "839/839 [==============================] - 0s 209us/sample - loss: 0.6377 - accuracy: 0.6138 - val_loss: 0.7938 - val_accuracy: 0.0000e+00\n",
            "Epoch 81/300\n",
            "839/839 [==============================] - 0s 196us/sample - loss: 0.6387 - accuracy: 0.6198 - val_loss: 0.7802 - val_accuracy: 0.0000e+00\n",
            "Epoch 82/300\n",
            "839/839 [==============================] - 0s 199us/sample - loss: 0.6375 - accuracy: 0.6138 - val_loss: 0.8103 - val_accuracy: 0.0000e+00\n",
            "Epoch 83/300\n",
            "839/839 [==============================] - 0s 193us/sample - loss: 0.6364 - accuracy: 0.6067 - val_loss: 0.7919 - val_accuracy: 0.0000e+00\n",
            "Epoch 84/300\n",
            "839/839 [==============================] - 0s 210us/sample - loss: 0.6307 - accuracy: 0.6269 - val_loss: 0.7801 - val_accuracy: 0.0000e+00\n",
            "Epoch 85/300\n",
            "839/839 [==============================] - 0s 224us/sample - loss: 0.6302 - accuracy: 0.6400 - val_loss: 0.7808 - val_accuracy: 0.0000e+00\n",
            "Epoch 86/300\n",
            "839/839 [==============================] - 0s 223us/sample - loss: 0.6295 - accuracy: 0.6293 - val_loss: 0.7813 - val_accuracy: 0.0000e+00\n",
            "Epoch 87/300\n",
            "839/839 [==============================] - 0s 199us/sample - loss: 0.6260 - accuracy: 0.6412 - val_loss: 0.7889 - val_accuracy: 0.0000e+00\n",
            "Epoch 88/300\n",
            "839/839 [==============================] - 0s 206us/sample - loss: 0.6257 - accuracy: 0.6412 - val_loss: 0.8013 - val_accuracy: 0.0000e+00\n",
            "Epoch 89/300\n",
            "839/839 [==============================] - 0s 206us/sample - loss: 0.6266 - accuracy: 0.6293 - val_loss: 0.7685 - val_accuracy: 0.0000e+00\n",
            "Epoch 90/300\n",
            "839/839 [==============================] - 0s 207us/sample - loss: 0.6193 - accuracy: 0.6508 - val_loss: 0.7790 - val_accuracy: 0.0000e+00\n",
            "Epoch 91/300\n",
            "839/839 [==============================] - 0s 196us/sample - loss: 0.6190 - accuracy: 0.6436 - val_loss: 0.7744 - val_accuracy: 0.0000e+00\n",
            "Epoch 92/300\n",
            "839/839 [==============================] - 0s 212us/sample - loss: 0.6167 - accuracy: 0.6353 - val_loss: 0.7806 - val_accuracy: 0.0000e+00\n",
            "Epoch 93/300\n",
            "839/839 [==============================] - 0s 202us/sample - loss: 0.6144 - accuracy: 0.6460 - val_loss: 0.7961 - val_accuracy: 0.0000e+00\n",
            "Epoch 94/300\n",
            "839/839 [==============================] - 0s 195us/sample - loss: 0.6125 - accuracy: 0.6484 - val_loss: 0.7921 - val_accuracy: 0.0000e+00\n",
            "Epoch 95/300\n",
            "839/839 [==============================] - 0s 198us/sample - loss: 0.6105 - accuracy: 0.6424 - val_loss: 0.7725 - val_accuracy: 0.0000e+00\n",
            "Epoch 96/300\n",
            "839/839 [==============================] - 0s 196us/sample - loss: 0.6054 - accuracy: 0.6460 - val_loss: 0.7473 - val_accuracy: 0.0000e+00\n",
            "Epoch 97/300\n",
            "839/839 [==============================] - 0s 194us/sample - loss: 0.6034 - accuracy: 0.6508 - val_loss: 0.7547 - val_accuracy: 0.0000e+00\n",
            "Epoch 98/300\n",
            "839/839 [==============================] - 0s 209us/sample - loss: 0.5990 - accuracy: 0.6508 - val_loss: 0.7727 - val_accuracy: 0.0000e+00\n",
            "Epoch 99/300\n",
            "839/839 [==============================] - 0s 207us/sample - loss: 0.5945 - accuracy: 0.6496 - val_loss: 0.7627 - val_accuracy: 0.0000e+00\n",
            "Epoch 100/300\n",
            "839/839 [==============================] - 0s 205us/sample - loss: 0.5932 - accuracy: 0.6508 - val_loss: 0.7265 - val_accuracy: 0.0000e+00\n",
            "Epoch 101/300\n",
            "839/839 [==============================] - 0s 214us/sample - loss: 0.5918 - accuracy: 0.6794 - val_loss: 0.7598 - val_accuracy: 0.0000e+00\n",
            "Epoch 102/300\n",
            "839/839 [==============================] - 0s 204us/sample - loss: 0.5869 - accuracy: 0.6567 - val_loss: 0.7641 - val_accuracy: 0.0000e+00\n",
            "Epoch 103/300\n",
            "839/839 [==============================] - 0s 213us/sample - loss: 0.5836 - accuracy: 0.6734 - val_loss: 0.7395 - val_accuracy: 0.0000e+00\n",
            "Epoch 104/300\n",
            "839/839 [==============================] - 0s 209us/sample - loss: 0.5925 - accuracy: 0.6746 - val_loss: 0.7328 - val_accuracy: 0.0000e+00\n",
            "Epoch 105/300\n",
            "839/839 [==============================] - 0s 200us/sample - loss: 0.5931 - accuracy: 0.6615 - val_loss: 0.7235 - val_accuracy: 0.0000e+00\n",
            "Epoch 106/300\n",
            "839/839 [==============================] - 0s 192us/sample - loss: 0.5815 - accuracy: 0.6734 - val_loss: 0.7302 - val_accuracy: 0.0000e+00\n",
            "Epoch 107/300\n",
            "839/839 [==============================] - 0s 204us/sample - loss: 0.5804 - accuracy: 0.6758 - val_loss: 0.7452 - val_accuracy: 0.0000e+00\n",
            "Epoch 108/300\n",
            "839/839 [==============================] - 0s 191us/sample - loss: 0.5772 - accuracy: 0.6877 - val_loss: 0.7338 - val_accuracy: 0.0000e+00\n",
            "Epoch 109/300\n",
            "839/839 [==============================] - 0s 199us/sample - loss: 0.5733 - accuracy: 0.6889 - val_loss: 0.7236 - val_accuracy: 0.0000e+00\n",
            "Epoch 110/300\n",
            "839/839 [==============================] - 0s 210us/sample - loss: 0.5739 - accuracy: 0.6758 - val_loss: 0.7050 - val_accuracy: 0.0000e+00\n",
            "Epoch 111/300\n",
            "839/839 [==============================] - 0s 203us/sample - loss: 0.5741 - accuracy: 0.6746 - val_loss: 0.6878 - val_accuracy: 1.0000\n",
            "Epoch 112/300\n",
            "839/839 [==============================] - 0s 195us/sample - loss: 0.5673 - accuracy: 0.6841 - val_loss: 0.6903 - val_accuracy: 1.0000\n",
            "Epoch 113/300\n",
            "839/839 [==============================] - 0s 197us/sample - loss: 0.5713 - accuracy: 0.6758 - val_loss: 0.6955 - val_accuracy: 0.0000e+00\n",
            "Epoch 114/300\n",
            "839/839 [==============================] - 0s 194us/sample - loss: 0.5595 - accuracy: 0.6937 - val_loss: 0.7161 - val_accuracy: 0.0000e+00\n",
            "Epoch 115/300\n",
            "839/839 [==============================] - 0s 200us/sample - loss: 0.5545 - accuracy: 0.6865 - val_loss: 0.7245 - val_accuracy: 0.0000e+00\n",
            "Epoch 116/300\n",
            "839/839 [==============================] - 0s 213us/sample - loss: 0.5522 - accuracy: 0.6996 - val_loss: 0.7172 - val_accuracy: 0.0000e+00\n",
            "Epoch 117/300\n",
            "839/839 [==============================] - 0s 193us/sample - loss: 0.5498 - accuracy: 0.7032 - val_loss: 0.7104 - val_accuracy: 0.0000e+00\n",
            "Epoch 118/300\n",
            "839/839 [==============================] - 0s 194us/sample - loss: 0.5495 - accuracy: 0.6889 - val_loss: 0.7123 - val_accuracy: 0.0000e+00\n",
            "Epoch 119/300\n",
            "839/839 [==============================] - 0s 205us/sample - loss: 0.5586 - accuracy: 0.6889 - val_loss: 0.7161 - val_accuracy: 0.0000e+00\n",
            "Epoch 120/300\n",
            "839/839 [==============================] - 0s 209us/sample - loss: 0.5413 - accuracy: 0.7068 - val_loss: 0.7042 - val_accuracy: 0.0000e+00\n",
            "Epoch 121/300\n",
            "839/839 [==============================] - 0s 233us/sample - loss: 0.5388 - accuracy: 0.6996 - val_loss: 0.7011 - val_accuracy: 0.0000e+00\n",
            "Epoch 122/300\n",
            "839/839 [==============================] - 0s 215us/sample - loss: 0.5396 - accuracy: 0.6961 - val_loss: 0.6943 - val_accuracy: 0.0000e+00\n",
            "Epoch 123/300\n",
            "839/839 [==============================] - 0s 193us/sample - loss: 0.5328 - accuracy: 0.7116 - val_loss: 0.7043 - val_accuracy: 0.0000e+00\n",
            "Epoch 124/300\n",
            "839/839 [==============================] - 0s 202us/sample - loss: 0.5275 - accuracy: 0.7044 - val_loss: 0.6766 - val_accuracy: 1.0000\n",
            "Epoch 125/300\n",
            "839/839 [==============================] - 0s 205us/sample - loss: 0.5284 - accuracy: 0.7163 - val_loss: 0.6857 - val_accuracy: 1.0000\n",
            "Epoch 126/300\n",
            "839/839 [==============================] - 0s 210us/sample - loss: 0.5298 - accuracy: 0.7175 - val_loss: 0.6977 - val_accuracy: 0.0000e+00\n",
            "Epoch 127/300\n",
            "839/839 [==============================] - 0s 217us/sample - loss: 0.5218 - accuracy: 0.7056 - val_loss: 0.7113 - val_accuracy: 0.0000e+00\n",
            "Epoch 128/300\n",
            "839/839 [==============================] - 0s 214us/sample - loss: 0.5204 - accuracy: 0.7294 - val_loss: 0.6899 - val_accuracy: 1.0000\n",
            "Epoch 129/300\n",
            "839/839 [==============================] - 0s 199us/sample - loss: 0.5143 - accuracy: 0.7151 - val_loss: 0.6970 - val_accuracy: 0.0000e+00\n",
            "Epoch 130/300\n",
            "839/839 [==============================] - 0s 204us/sample - loss: 0.5134 - accuracy: 0.7211 - val_loss: 0.7134 - val_accuracy: 0.0000e+00\n",
            "Epoch 131/300\n",
            "839/839 [==============================] - 0s 203us/sample - loss: 0.5153 - accuracy: 0.7163 - val_loss: 0.6909 - val_accuracy: 1.0000\n",
            "Epoch 132/300\n",
            "839/839 [==============================] - 0s 198us/sample - loss: 0.5118 - accuracy: 0.7199 - val_loss: 0.6994 - val_accuracy: 0.0000e+00\n",
            "Epoch 133/300\n",
            "839/839 [==============================] - 0s 202us/sample - loss: 0.5092 - accuracy: 0.7175 - val_loss: 0.7119 - val_accuracy: 0.0000e+00\n",
            "Epoch 134/300\n",
            "839/839 [==============================] - 0s 200us/sample - loss: 0.5044 - accuracy: 0.7354 - val_loss: 0.6739 - val_accuracy: 1.0000\n",
            "Epoch 135/300\n",
            "839/839 [==============================] - 0s 206us/sample - loss: 0.5101 - accuracy: 0.7187 - val_loss: 0.6848 - val_accuracy: 1.0000\n",
            "Epoch 136/300\n",
            "839/839 [==============================] - 0s 199us/sample - loss: 0.4942 - accuracy: 0.7402 - val_loss: 0.6966 - val_accuracy: 0.0000e+00\n",
            "Epoch 137/300\n",
            "839/839 [==============================] - 0s 202us/sample - loss: 0.4924 - accuracy: 0.7402 - val_loss: 0.6712 - val_accuracy: 1.0000\n",
            "Epoch 138/300\n",
            "839/839 [==============================] - 0s 196us/sample - loss: 0.4999 - accuracy: 0.7402 - val_loss: 0.6802 - val_accuracy: 1.0000\n",
            "Epoch 139/300\n",
            "839/839 [==============================] - 0s 217us/sample - loss: 0.4832 - accuracy: 0.7569 - val_loss: 0.6754 - val_accuracy: 1.0000\n",
            "Epoch 140/300\n",
            "839/839 [==============================] - 0s 203us/sample - loss: 0.4990 - accuracy: 0.7354 - val_loss: 0.6834 - val_accuracy: 1.0000\n",
            "Epoch 141/300\n",
            "839/839 [==============================] - 0s 191us/sample - loss: 0.4975 - accuracy: 0.7485 - val_loss: 0.6770 - val_accuracy: 1.0000\n",
            "Epoch 142/300\n",
            "839/839 [==============================] - 0s 196us/sample - loss: 0.4853 - accuracy: 0.7509 - val_loss: 0.6774 - val_accuracy: 1.0000\n",
            "Epoch 143/300\n",
            "839/839 [==============================] - 0s 204us/sample - loss: 0.4790 - accuracy: 0.7664 - val_loss: 0.6572 - val_accuracy: 1.0000\n",
            "Epoch 144/300\n",
            "839/839 [==============================] - 0s 197us/sample - loss: 0.4847 - accuracy: 0.7580 - val_loss: 0.6319 - val_accuracy: 1.0000\n",
            "Epoch 145/300\n",
            "839/839 [==============================] - 0s 211us/sample - loss: 0.4881 - accuracy: 0.7402 - val_loss: 0.6425 - val_accuracy: 1.0000\n",
            "Epoch 146/300\n",
            "839/839 [==============================] - 0s 198us/sample - loss: 0.4872 - accuracy: 0.7533 - val_loss: 0.6568 - val_accuracy: 1.0000\n",
            "Epoch 147/300\n",
            "839/839 [==============================] - 0s 210us/sample - loss: 0.4689 - accuracy: 0.7569 - val_loss: 0.6222 - val_accuracy: 1.0000\n",
            "Epoch 148/300\n",
            "839/839 [==============================] - 0s 187us/sample - loss: 0.4713 - accuracy: 0.7557 - val_loss: 0.6038 - val_accuracy: 1.0000\n",
            "Epoch 149/300\n",
            "839/839 [==============================] - 0s 199us/sample - loss: 0.4750 - accuracy: 0.7616 - val_loss: 0.6333 - val_accuracy: 1.0000\n",
            "Epoch 150/300\n",
            "839/839 [==============================] - 0s 195us/sample - loss: 0.4666 - accuracy: 0.7640 - val_loss: 0.6381 - val_accuracy: 1.0000\n",
            "Epoch 151/300\n",
            "839/839 [==============================] - 0s 211us/sample - loss: 0.4514 - accuracy: 0.7878 - val_loss: 0.6270 - val_accuracy: 1.0000\n",
            "Epoch 152/300\n",
            "839/839 [==============================] - 0s 201us/sample - loss: 0.4536 - accuracy: 0.7700 - val_loss: 0.6282 - val_accuracy: 1.0000\n",
            "Epoch 153/300\n",
            "839/839 [==============================] - 0s 208us/sample - loss: 0.4638 - accuracy: 0.7700 - val_loss: 0.6483 - val_accuracy: 1.0000\n",
            "Epoch 154/300\n",
            "839/839 [==============================] - 0s 203us/sample - loss: 0.4516 - accuracy: 0.7723 - val_loss: 0.6313 - val_accuracy: 1.0000\n",
            "Epoch 155/300\n",
            "839/839 [==============================] - 0s 218us/sample - loss: 0.4463 - accuracy: 0.7735 - val_loss: 0.6281 - val_accuracy: 1.0000\n",
            "Epoch 156/300\n",
            "839/839 [==============================] - 0s 213us/sample - loss: 0.4449 - accuracy: 0.7843 - val_loss: 0.6416 - val_accuracy: 1.0000\n",
            "Epoch 157/300\n",
            "839/839 [==============================] - 0s 220us/sample - loss: 0.4474 - accuracy: 0.7855 - val_loss: 0.6379 - val_accuracy: 1.0000\n",
            "Epoch 158/300\n",
            "839/839 [==============================] - 0s 220us/sample - loss: 0.4683 - accuracy: 0.7640 - val_loss: 0.6311 - val_accuracy: 1.0000\n",
            "Epoch 159/300\n",
            "839/839 [==============================] - 0s 224us/sample - loss: 0.4510 - accuracy: 0.7819 - val_loss: 0.6172 - val_accuracy: 1.0000\n",
            "Epoch 160/300\n",
            "839/839 [==============================] - 0s 209us/sample - loss: 0.4472 - accuracy: 0.7807 - val_loss: 0.6173 - val_accuracy: 1.0000\n",
            "Epoch 161/300\n",
            "839/839 [==============================] - 0s 214us/sample - loss: 0.4412 - accuracy: 0.7843 - val_loss: 0.5890 - val_accuracy: 1.0000\n",
            "Epoch 162/300\n",
            "839/839 [==============================] - 0s 225us/sample - loss: 0.4329 - accuracy: 0.7855 - val_loss: 0.5843 - val_accuracy: 1.0000\n",
            "Epoch 163/300\n",
            "839/839 [==============================] - 0s 213us/sample - loss: 0.4281 - accuracy: 0.7986 - val_loss: 0.6283 - val_accuracy: 1.0000\n",
            "Epoch 164/300\n",
            "839/839 [==============================] - 0s 206us/sample - loss: 0.4340 - accuracy: 0.7819 - val_loss: 0.6094 - val_accuracy: 1.0000\n",
            "Epoch 165/300\n",
            "839/839 [==============================] - 0s 196us/sample - loss: 0.4280 - accuracy: 0.7819 - val_loss: 0.6074 - val_accuracy: 1.0000\n",
            "Epoch 166/300\n",
            "839/839 [==============================] - 0s 206us/sample - loss: 0.4154 - accuracy: 0.8010 - val_loss: 0.5943 - val_accuracy: 1.0000\n",
            "Epoch 167/300\n",
            "839/839 [==============================] - 0s 202us/sample - loss: 0.4224 - accuracy: 0.7974 - val_loss: 0.6231 - val_accuracy: 1.0000\n",
            "Epoch 168/300\n",
            "839/839 [==============================] - 0s 199us/sample - loss: 0.4109 - accuracy: 0.7926 - val_loss: 0.5877 - val_accuracy: 1.0000\n",
            "Epoch 169/300\n",
            "839/839 [==============================] - 0s 195us/sample - loss: 0.4097 - accuracy: 0.7998 - val_loss: 0.5984 - val_accuracy: 1.0000\n",
            "Epoch 170/300\n",
            "839/839 [==============================] - 0s 197us/sample - loss: 0.4044 - accuracy: 0.8093 - val_loss: 0.5755 - val_accuracy: 1.0000\n",
            "Epoch 171/300\n",
            "839/839 [==============================] - 0s 195us/sample - loss: 0.4096 - accuracy: 0.8057 - val_loss: 0.5941 - val_accuracy: 1.0000\n",
            "Epoch 172/300\n",
            "839/839 [==============================] - 0s 190us/sample - loss: 0.4134 - accuracy: 0.7902 - val_loss: 0.6085 - val_accuracy: 1.0000\n",
            "Epoch 173/300\n",
            "839/839 [==============================] - 0s 203us/sample - loss: 0.4123 - accuracy: 0.7974 - val_loss: 0.5834 - val_accuracy: 1.0000\n",
            "Epoch 174/300\n",
            "839/839 [==============================] - 0s 224us/sample - loss: 0.4032 - accuracy: 0.7998 - val_loss: 0.5927 - val_accuracy: 1.0000\n",
            "Epoch 175/300\n",
            "839/839 [==============================] - 0s 188us/sample - loss: 0.3973 - accuracy: 0.8033 - val_loss: 0.5873 - val_accuracy: 1.0000\n",
            "Epoch 176/300\n",
            "839/839 [==============================] - 0s 192us/sample - loss: 0.3942 - accuracy: 0.8045 - val_loss: 0.5779 - val_accuracy: 1.0000\n",
            "Epoch 177/300\n",
            "839/839 [==============================] - 0s 203us/sample - loss: 0.4013 - accuracy: 0.8069 - val_loss: 0.5608 - val_accuracy: 1.0000\n",
            "Epoch 178/300\n",
            "839/839 [==============================] - 0s 197us/sample - loss: 0.4357 - accuracy: 0.7831 - val_loss: 0.5719 - val_accuracy: 1.0000\n",
            "Epoch 179/300\n",
            "839/839 [==============================] - 0s 198us/sample - loss: 0.4085 - accuracy: 0.8033 - val_loss: 0.6095 - val_accuracy: 1.0000\n",
            "Epoch 180/300\n",
            "839/839 [==============================] - 0s 202us/sample - loss: 0.4119 - accuracy: 0.7938 - val_loss: 0.6190 - val_accuracy: 1.0000\n",
            "Epoch 181/300\n",
            "839/839 [==============================] - 0s 197us/sample - loss: 0.4056 - accuracy: 0.8081 - val_loss: 0.5622 - val_accuracy: 1.0000\n",
            "Epoch 182/300\n",
            "839/839 [==============================] - 0s 210us/sample - loss: 0.3822 - accuracy: 0.8212 - val_loss: 0.5660 - val_accuracy: 1.0000\n",
            "Epoch 183/300\n",
            "839/839 [==============================] - 0s 202us/sample - loss: 0.3768 - accuracy: 0.8272 - val_loss: 0.5774 - val_accuracy: 1.0000\n",
            "Epoch 184/300\n",
            "839/839 [==============================] - 0s 189us/sample - loss: 0.3825 - accuracy: 0.8164 - val_loss: 0.5428 - val_accuracy: 1.0000\n",
            "Epoch 185/300\n",
            "839/839 [==============================] - 0s 193us/sample - loss: 0.3887 - accuracy: 0.8212 - val_loss: 0.5462 - val_accuracy: 1.0000\n",
            "Epoch 186/300\n",
            "839/839 [==============================] - 0s 214us/sample - loss: 0.3742 - accuracy: 0.8141 - val_loss: 0.5559 - val_accuracy: 1.0000\n",
            "Epoch 187/300\n",
            "839/839 [==============================] - 0s 198us/sample - loss: 0.3684 - accuracy: 0.8224 - val_loss: 0.5482 - val_accuracy: 1.0000\n",
            "Epoch 188/300\n",
            "839/839 [==============================] - 0s 206us/sample - loss: 0.3746 - accuracy: 0.8117 - val_loss: 0.5454 - val_accuracy: 1.0000\n",
            "Epoch 189/300\n",
            "839/839 [==============================] - 0s 198us/sample - loss: 0.3727 - accuracy: 0.8164 - val_loss: 0.5737 - val_accuracy: 1.0000\n",
            "Epoch 190/300\n",
            "839/839 [==============================] - 0s 211us/sample - loss: 0.3853 - accuracy: 0.8176 - val_loss: 0.5361 - val_accuracy: 1.0000\n",
            "Epoch 191/300\n",
            "839/839 [==============================] - 0s 210us/sample - loss: 0.3640 - accuracy: 0.8296 - val_loss: 0.5370 - val_accuracy: 1.0000\n",
            "Epoch 192/300\n",
            "839/839 [==============================] - 0s 215us/sample - loss: 0.3635 - accuracy: 0.8200 - val_loss: 0.5204 - val_accuracy: 1.0000\n",
            "Epoch 193/300\n",
            "839/839 [==============================] - 0s 202us/sample - loss: 0.3591 - accuracy: 0.8176 - val_loss: 0.5274 - val_accuracy: 1.0000\n",
            "Epoch 194/300\n",
            "839/839 [==============================] - 0s 199us/sample - loss: 0.3581 - accuracy: 0.8248 - val_loss: 0.5348 - val_accuracy: 1.0000\n",
            "Epoch 195/300\n",
            "839/839 [==============================] - 0s 199us/sample - loss: 0.3643 - accuracy: 0.8212 - val_loss: 0.5321 - val_accuracy: 1.0000\n",
            "Epoch 196/300\n",
            "839/839 [==============================] - 0s 212us/sample - loss: 0.3591 - accuracy: 0.8367 - val_loss: 0.5373 - val_accuracy: 1.0000\n",
            "Epoch 197/300\n",
            "839/839 [==============================] - 0s 198us/sample - loss: 0.3529 - accuracy: 0.8331 - val_loss: 0.5013 - val_accuracy: 1.0000\n",
            "Epoch 198/300\n",
            "839/839 [==============================] - 0s 212us/sample - loss: 0.3525 - accuracy: 0.8308 - val_loss: 0.4999 - val_accuracy: 1.0000\n",
            "Epoch 199/300\n",
            "839/839 [==============================] - 0s 192us/sample - loss: 0.3383 - accuracy: 0.8451 - val_loss: 0.4939 - val_accuracy: 1.0000\n",
            "Epoch 200/300\n",
            "839/839 [==============================] - 0s 191us/sample - loss: 0.3404 - accuracy: 0.8343 - val_loss: 0.4907 - val_accuracy: 1.0000\n",
            "Epoch 201/300\n",
            "839/839 [==============================] - 0s 210us/sample - loss: 0.3503 - accuracy: 0.8451 - val_loss: 0.4799 - val_accuracy: 1.0000\n",
            "Epoch 202/300\n",
            "839/839 [==============================] - 0s 205us/sample - loss: 0.3355 - accuracy: 0.8498 - val_loss: 0.4633 - val_accuracy: 1.0000\n",
            "Epoch 203/300\n",
            "839/839 [==============================] - 0s 192us/sample - loss: 0.3464 - accuracy: 0.8451 - val_loss: 0.4989 - val_accuracy: 1.0000\n",
            "Epoch 204/300\n",
            "839/839 [==============================] - 0s 205us/sample - loss: 0.3338 - accuracy: 0.8355 - val_loss: 0.4870 - val_accuracy: 1.0000\n",
            "Epoch 205/300\n",
            "839/839 [==============================] - 0s 199us/sample - loss: 0.3323 - accuracy: 0.8427 - val_loss: 0.4919 - val_accuracy: 1.0000\n",
            "Epoch 206/300\n",
            "839/839 [==============================] - 0s 200us/sample - loss: 0.3259 - accuracy: 0.8439 - val_loss: 0.4861 - val_accuracy: 1.0000\n",
            "Epoch 207/300\n",
            "839/839 [==============================] - 0s 200us/sample - loss: 0.3414 - accuracy: 0.8308 - val_loss: 0.4869 - val_accuracy: 1.0000\n",
            "Epoch 208/300\n",
            "839/839 [==============================] - 0s 206us/sample - loss: 0.3420 - accuracy: 0.8272 - val_loss: 0.4848 - val_accuracy: 1.0000\n",
            "Epoch 209/300\n",
            "839/839 [==============================] - 0s 196us/sample - loss: 0.3198 - accuracy: 0.8522 - val_loss: 0.4694 - val_accuracy: 1.0000\n",
            "Epoch 210/300\n",
            "839/839 [==============================] - 0s 211us/sample - loss: 0.3181 - accuracy: 0.8534 - val_loss: 0.4845 - val_accuracy: 1.0000\n",
            "Epoch 211/300\n",
            "839/839 [==============================] - 0s 195us/sample - loss: 0.3187 - accuracy: 0.8558 - val_loss: 0.4929 - val_accuracy: 1.0000\n",
            "Epoch 212/300\n",
            "839/839 [==============================] - 0s 202us/sample - loss: 0.3211 - accuracy: 0.8474 - val_loss: 0.4718 - val_accuracy: 1.0000\n",
            "Epoch 213/300\n",
            "839/839 [==============================] - 0s 197us/sample - loss: 0.3098 - accuracy: 0.8510 - val_loss: 0.4826 - val_accuracy: 1.0000\n",
            "Epoch 214/300\n",
            "839/839 [==============================] - 0s 206us/sample - loss: 0.3289 - accuracy: 0.8451 - val_loss: 0.4678 - val_accuracy: 1.0000\n",
            "Epoch 215/300\n",
            "839/839 [==============================] - 0s 201us/sample - loss: 0.3186 - accuracy: 0.8451 - val_loss: 0.4875 - val_accuracy: 1.0000\n",
            "Epoch 216/300\n",
            "839/839 [==============================] - 0s 209us/sample - loss: 0.3123 - accuracy: 0.8474 - val_loss: 0.4871 - val_accuracy: 1.0000\n",
            "Epoch 217/300\n",
            "839/839 [==============================] - 0s 206us/sample - loss: 0.3112 - accuracy: 0.8510 - val_loss: 0.4632 - val_accuracy: 1.0000\n",
            "Epoch 218/300\n",
            "839/839 [==============================] - 0s 204us/sample - loss: 0.3122 - accuracy: 0.8558 - val_loss: 0.4602 - val_accuracy: 1.0000\n",
            "Epoch 219/300\n",
            "839/839 [==============================] - 0s 191us/sample - loss: 0.3027 - accuracy: 0.8534 - val_loss: 0.4680 - val_accuracy: 1.0000\n",
            "Epoch 220/300\n",
            "839/839 [==============================] - 0s 206us/sample - loss: 0.3002 - accuracy: 0.8665 - val_loss: 0.4701 - val_accuracy: 1.0000\n",
            "Epoch 221/300\n",
            "839/839 [==============================] - 0s 216us/sample - loss: 0.3151 - accuracy: 0.8415 - val_loss: 0.4639 - val_accuracy: 1.0000\n",
            "Epoch 222/300\n",
            "839/839 [==============================] - 0s 224us/sample - loss: 0.2991 - accuracy: 0.8713 - val_loss: 0.4333 - val_accuracy: 1.0000\n",
            "Epoch 223/300\n",
            "839/839 [==============================] - 0s 224us/sample - loss: 0.2926 - accuracy: 0.8677 - val_loss: 0.4483 - val_accuracy: 1.0000\n",
            "Epoch 224/300\n",
            "839/839 [==============================] - 0s 221us/sample - loss: 0.2954 - accuracy: 0.8534 - val_loss: 0.4537 - val_accuracy: 1.0000\n",
            "Epoch 225/300\n",
            "839/839 [==============================] - 0s 223us/sample - loss: 0.2961 - accuracy: 0.8522 - val_loss: 0.4459 - val_accuracy: 1.0000\n",
            "Epoch 226/300\n",
            "839/839 [==============================] - 0s 212us/sample - loss: 0.2927 - accuracy: 0.8629 - val_loss: 0.4505 - val_accuracy: 1.0000\n",
            "Epoch 227/300\n",
            "839/839 [==============================] - 0s 226us/sample - loss: 0.2905 - accuracy: 0.8617 - val_loss: 0.4468 - val_accuracy: 1.0000\n",
            "Epoch 228/300\n",
            "839/839 [==============================] - 0s 238us/sample - loss: 0.2895 - accuracy: 0.8701 - val_loss: 0.4658 - val_accuracy: 1.0000\n",
            "Epoch 229/300\n",
            "839/839 [==============================] - 0s 220us/sample - loss: 0.2967 - accuracy: 0.8605 - val_loss: 0.4801 - val_accuracy: 1.0000\n",
            "Epoch 230/300\n",
            "839/839 [==============================] - 0s 229us/sample - loss: 0.2975 - accuracy: 0.8594 - val_loss: 0.4330 - val_accuracy: 1.0000\n",
            "Epoch 231/300\n",
            "839/839 [==============================] - 0s 220us/sample - loss: 0.2978 - accuracy: 0.8641 - val_loss: 0.4487 - val_accuracy: 1.0000\n",
            "Epoch 232/300\n",
            "839/839 [==============================] - 0s 218us/sample - loss: 0.3021 - accuracy: 0.8653 - val_loss: 0.4565 - val_accuracy: 1.0000\n",
            "Epoch 233/300\n",
            "839/839 [==============================] - 0s 224us/sample - loss: 0.3074 - accuracy: 0.8558 - val_loss: 0.4544 - val_accuracy: 1.0000\n",
            "Epoch 234/300\n",
            "839/839 [==============================] - 0s 206us/sample - loss: 0.3188 - accuracy: 0.8474 - val_loss: 0.4727 - val_accuracy: 1.0000\n",
            "Epoch 235/300\n",
            "839/839 [==============================] - 0s 216us/sample - loss: 0.3023 - accuracy: 0.8689 - val_loss: 0.4593 - val_accuracy: 1.0000\n",
            "Epoch 236/300\n",
            "839/839 [==============================] - 0s 217us/sample - loss: 0.2913 - accuracy: 0.8653 - val_loss: 0.4677 - val_accuracy: 1.0000\n",
            "Epoch 237/300\n",
            "839/839 [==============================] - 0s 210us/sample - loss: 0.2818 - accuracy: 0.8653 - val_loss: 0.4514 - val_accuracy: 1.0000\n",
            "Epoch 238/300\n",
            "839/839 [==============================] - 0s 196us/sample - loss: 0.2794 - accuracy: 0.8665 - val_loss: 0.4754 - val_accuracy: 1.0000\n",
            "Epoch 239/300\n",
            "839/839 [==============================] - 0s 212us/sample - loss: 0.2807 - accuracy: 0.8713 - val_loss: 0.4561 - val_accuracy: 1.0000\n",
            "Epoch 240/300\n",
            "839/839 [==============================] - 0s 199us/sample - loss: 0.2653 - accuracy: 0.8796 - val_loss: 0.4466 - val_accuracy: 1.0000\n",
            "Epoch 241/300\n",
            "839/839 [==============================] - 0s 201us/sample - loss: 0.2639 - accuracy: 0.8784 - val_loss: 0.4492 - val_accuracy: 1.0000\n",
            "Epoch 242/300\n",
            "839/839 [==============================] - 0s 204us/sample - loss: 0.2718 - accuracy: 0.8796 - val_loss: 0.4518 - val_accuracy: 1.0000\n",
            "Epoch 243/300\n",
            "839/839 [==============================] - 0s 207us/sample - loss: 0.2625 - accuracy: 0.8832 - val_loss: 0.4530 - val_accuracy: 1.0000\n",
            "Epoch 244/300\n",
            "839/839 [==============================] - 0s 208us/sample - loss: 0.2595 - accuracy: 0.8760 - val_loss: 0.4350 - val_accuracy: 1.0000\n",
            "Epoch 245/300\n",
            "839/839 [==============================] - 0s 196us/sample - loss: 0.2605 - accuracy: 0.8892 - val_loss: 0.4306 - val_accuracy: 1.0000\n",
            "Epoch 246/300\n",
            "839/839 [==============================] - 0s 205us/sample - loss: 0.2589 - accuracy: 0.8760 - val_loss: 0.4564 - val_accuracy: 1.0000\n",
            "Epoch 247/300\n",
            "839/839 [==============================] - 0s 199us/sample - loss: 0.2581 - accuracy: 0.8808 - val_loss: 0.4520 - val_accuracy: 1.0000\n",
            "Epoch 248/300\n",
            "839/839 [==============================] - 0s 192us/sample - loss: 0.2655 - accuracy: 0.8749 - val_loss: 0.4580 - val_accuracy: 1.0000\n",
            "Epoch 249/300\n",
            "839/839 [==============================] - 0s 196us/sample - loss: 0.2488 - accuracy: 0.8915 - val_loss: 0.4682 - val_accuracy: 1.0000\n",
            "Epoch 250/300\n",
            "839/839 [==============================] - 0s 200us/sample - loss: 0.2449 - accuracy: 0.8880 - val_loss: 0.4566 - val_accuracy: 1.0000\n",
            "Epoch 251/300\n",
            "839/839 [==============================] - 0s 213us/sample - loss: 0.2465 - accuracy: 0.8832 - val_loss: 0.4551 - val_accuracy: 1.0000\n",
            "Epoch 252/300\n",
            "839/839 [==============================] - 0s 198us/sample - loss: 0.2456 - accuracy: 0.8892 - val_loss: 0.4596 - val_accuracy: 1.0000\n",
            "Epoch 253/300\n",
            "839/839 [==============================] - 0s 203us/sample - loss: 0.2516 - accuracy: 0.8832 - val_loss: 0.4601 - val_accuracy: 1.0000\n",
            "Epoch 254/300\n",
            "839/839 [==============================] - 0s 195us/sample - loss: 0.2447 - accuracy: 0.8939 - val_loss: 0.4680 - val_accuracy: 1.0000\n",
            "Epoch 255/300\n",
            "839/839 [==============================] - 0s 196us/sample - loss: 0.2413 - accuracy: 0.8963 - val_loss: 0.4525 - val_accuracy: 1.0000\n",
            "Epoch 256/300\n",
            "839/839 [==============================] - 0s 235us/sample - loss: 0.2356 - accuracy: 0.8844 - val_loss: 0.4573 - val_accuracy: 1.0000\n",
            "Epoch 257/300\n",
            "839/839 [==============================] - 0s 225us/sample - loss: 0.2380 - accuracy: 0.8939 - val_loss: 0.4628 - val_accuracy: 1.0000\n",
            "Epoch 258/300\n",
            "839/839 [==============================] - 0s 248us/sample - loss: 0.2605 - accuracy: 0.8796 - val_loss: 0.4624 - val_accuracy: 1.0000\n",
            "Epoch 259/300\n",
            "839/839 [==============================] - 0s 220us/sample - loss: 0.3074 - accuracy: 0.8653 - val_loss: 0.4657 - val_accuracy: 1.0000\n",
            "Epoch 260/300\n",
            "839/839 [==============================] - 0s 214us/sample - loss: 0.2915 - accuracy: 0.8689 - val_loss: 0.4691 - val_accuracy: 1.0000\n",
            "Epoch 261/300\n",
            "839/839 [==============================] - 0s 219us/sample - loss: 0.2764 - accuracy: 0.8760 - val_loss: 0.4907 - val_accuracy: 1.0000\n",
            "Epoch 262/300\n",
            "839/839 [==============================] - 0s 229us/sample - loss: 0.2634 - accuracy: 0.8868 - val_loss: 0.4579 - val_accuracy: 1.0000\n",
            "Epoch 263/300\n",
            "839/839 [==============================] - 0s 210us/sample - loss: 0.2450 - accuracy: 0.8880 - val_loss: 0.4774 - val_accuracy: 1.0000\n",
            "Epoch 264/300\n",
            "839/839 [==============================] - 0s 213us/sample - loss: 0.2356 - accuracy: 0.8963 - val_loss: 0.4654 - val_accuracy: 1.0000\n",
            "Epoch 265/300\n",
            "839/839 [==============================] - 0s 211us/sample - loss: 0.2368 - accuracy: 0.8892 - val_loss: 0.4668 - val_accuracy: 1.0000\n",
            "Epoch 266/300\n",
            "839/839 [==============================] - 0s 214us/sample - loss: 0.2299 - accuracy: 0.8939 - val_loss: 0.4419 - val_accuracy: 1.0000\n",
            "Epoch 267/300\n",
            "839/839 [==============================] - 0s 231us/sample - loss: 0.2223 - accuracy: 0.9035 - val_loss: 0.4476 - val_accuracy: 1.0000\n",
            "Epoch 268/300\n",
            "839/839 [==============================] - 0s 220us/sample - loss: 0.2201 - accuracy: 0.9011 - val_loss: 0.4241 - val_accuracy: 1.0000\n",
            "Epoch 269/300\n",
            "839/839 [==============================] - 0s 225us/sample - loss: 0.2196 - accuracy: 0.8927 - val_loss: 0.4599 - val_accuracy: 1.0000\n",
            "Epoch 270/300\n",
            "839/839 [==============================] - 0s 212us/sample - loss: 0.2188 - accuracy: 0.9046 - val_loss: 0.4443 - val_accuracy: 1.0000\n",
            "Epoch 271/300\n",
            "839/839 [==============================] - 0s 210us/sample - loss: 0.2197 - accuracy: 0.8987 - val_loss: 0.4583 - val_accuracy: 1.0000\n",
            "Epoch 272/300\n",
            "839/839 [==============================] - 0s 216us/sample - loss: 0.2250 - accuracy: 0.8951 - val_loss: 0.4700 - val_accuracy: 1.0000\n",
            "Epoch 273/300\n",
            "839/839 [==============================] - 0s 227us/sample - loss: 0.2226 - accuracy: 0.8951 - val_loss: 0.4500 - val_accuracy: 1.0000\n",
            "Epoch 274/300\n",
            "839/839 [==============================] - 0s 212us/sample - loss: 0.2145 - accuracy: 0.9035 - val_loss: 0.4676 - val_accuracy: 1.0000\n",
            "Epoch 275/300\n",
            "839/839 [==============================] - 0s 215us/sample - loss: 0.2135 - accuracy: 0.9094 - val_loss: 0.4775 - val_accuracy: 1.0000\n",
            "Epoch 276/300\n",
            "839/839 [==============================] - 0s 216us/sample - loss: 0.2053 - accuracy: 0.9094 - val_loss: 0.4855 - val_accuracy: 1.0000\n",
            "Epoch 277/300\n",
            "839/839 [==============================] - 0s 215us/sample - loss: 0.2054 - accuracy: 0.9070 - val_loss: 0.4584 - val_accuracy: 1.0000\n",
            "Epoch 278/300\n",
            "839/839 [==============================] - 0s 223us/sample - loss: 0.2046 - accuracy: 0.9166 - val_loss: 0.4578 - val_accuracy: 1.0000\n",
            "Epoch 279/300\n",
            "839/839 [==============================] - 0s 210us/sample - loss: 0.2052 - accuracy: 0.9118 - val_loss: 0.4721 - val_accuracy: 1.0000\n",
            "Epoch 280/300\n",
            "839/839 [==============================] - 0s 219us/sample - loss: 0.2080 - accuracy: 0.9011 - val_loss: 0.4651 - val_accuracy: 1.0000\n",
            "Epoch 281/300\n",
            "839/839 [==============================] - 0s 210us/sample - loss: 0.2042 - accuracy: 0.9070 - val_loss: 0.4844 - val_accuracy: 1.0000\n",
            "Epoch 282/300\n",
            "839/839 [==============================] - 0s 207us/sample - loss: 0.2014 - accuracy: 0.9142 - val_loss: 0.5028 - val_accuracy: 1.0000\n",
            "Epoch 283/300\n",
            "839/839 [==============================] - 0s 215us/sample - loss: 0.2025 - accuracy: 0.9130 - val_loss: 0.5100 - val_accuracy: 1.0000\n",
            "Epoch 284/300\n",
            "839/839 [==============================] - 0s 231us/sample - loss: 0.1976 - accuracy: 0.9178 - val_loss: 0.4990 - val_accuracy: 1.0000\n",
            "Epoch 285/300\n",
            "839/839 [==============================] - 0s 213us/sample - loss: 0.1938 - accuracy: 0.9130 - val_loss: 0.4753 - val_accuracy: 1.0000\n",
            "Epoch 286/300\n",
            "839/839 [==============================] - 0s 217us/sample - loss: 0.1951 - accuracy: 0.9106 - val_loss: 0.5080 - val_accuracy: 1.0000\n",
            "Epoch 287/300\n",
            "839/839 [==============================] - 0s 210us/sample - loss: 0.1938 - accuracy: 0.9178 - val_loss: 0.4954 - val_accuracy: 1.0000\n",
            "Epoch 288/300\n",
            "839/839 [==============================] - 0s 197us/sample - loss: 0.2083 - accuracy: 0.9106 - val_loss: 0.4862 - val_accuracy: 1.0000\n",
            "Epoch 289/300\n",
            "839/839 [==============================] - 0s 206us/sample - loss: 0.2192 - accuracy: 0.9070 - val_loss: 0.5417 - val_accuracy: 1.0000\n",
            "Epoch 290/300\n",
            "839/839 [==============================] - 0s 228us/sample - loss: 0.2108 - accuracy: 0.9011 - val_loss: 0.5559 - val_accuracy: 1.0000\n",
            "Epoch 291/300\n",
            "839/839 [==============================] - 0s 220us/sample - loss: 0.2212 - accuracy: 0.9035 - val_loss: 0.5743 - val_accuracy: 1.0000\n",
            "Epoch 292/300\n",
            "839/839 [==============================] - 0s 212us/sample - loss: 0.1983 - accuracy: 0.9106 - val_loss: 0.5232 - val_accuracy: 1.0000\n",
            "Epoch 293/300\n",
            "839/839 [==============================] - 0s 205us/sample - loss: 0.1943 - accuracy: 0.9046 - val_loss: 0.5349 - val_accuracy: 1.0000\n",
            "Epoch 294/300\n",
            "839/839 [==============================] - 0s 213us/sample - loss: 0.1900 - accuracy: 0.9213 - val_loss: 0.5699 - val_accuracy: 1.0000\n",
            "Epoch 295/300\n",
            "839/839 [==============================] - 0s 217us/sample - loss: 0.1898 - accuracy: 0.9166 - val_loss: 0.5299 - val_accuracy: 1.0000\n",
            "Epoch 296/300\n",
            "839/839 [==============================] - 0s 209us/sample - loss: 0.1974 - accuracy: 0.9178 - val_loss: 0.5756 - val_accuracy: 1.0000\n",
            "Epoch 297/300\n",
            "839/839 [==============================] - 0s 199us/sample - loss: 0.1952 - accuracy: 0.9154 - val_loss: 0.6193 - val_accuracy: 1.0000\n",
            "Epoch 298/300\n",
            "839/839 [==============================] - 0s 211us/sample - loss: 0.1890 - accuracy: 0.9154 - val_loss: 0.5127 - val_accuracy: 1.0000\n",
            "Epoch 299/300\n",
            "839/839 [==============================] - 0s 211us/sample - loss: 0.1845 - accuracy: 0.9213 - val_loss: 0.6224 - val_accuracy: 1.0000\n",
            "Epoch 300/300\n",
            "839/839 [==============================] - 0s 206us/sample - loss: 0.1777 - accuracy: 0.9201 - val_loss: 0.5837 - val_accuracy: 1.0000\n"
          ],
          "name": "stdout"
        }
      ]
    },
    {
      "cell_type": "code",
      "metadata": {
        "colab_type": "code",
        "outputId": "6dad237c-7880-4045-984f-679f4ea8e86d",
        "id": "QwccBV7UHcqc",
        "colab": {
          "base_uri": "https://localhost:8080/",
          "height": 281
        }
      },
      "source": [
        "plt.plot(r.history['loss'], Label= 'Loss')\n",
        "plt.plot(r.history['val_loss'], Label= 'Val_Loss')\n",
        "plt.legend()\n",
        "plt.title('Loss per Epoch')\n",
        "plt.show()"
      ],
      "execution_count": 32,
      "outputs": [
        {
          "output_type": "display_data",
          "data": {
            "image/png": "[encoded data removed]",
            "text/plain": [
              "<Figure size 432x288 with 1 Axes>"
            ]
          },
          "metadata": {
            "tags": []
          }
        }
      ]
    },
    {
      "cell_type": "code",
      "metadata": {
        "id": "N3R0swITIR46",
        "colab_type": "code",
        "outputId": "ec91e65c-bf9e-48ba-c608-02284a6109d7",
        "colab": {
          "base_uri": "https://localhost:8080/",
          "height": 281
        }
      },
      "source": [
        "plt.plot(r.history['accuracy'], Label = 'Accuracy')\n",
        "plt.plot(r.history['val_accuracy'], Label = 'Val_Accuracy')\n",
        "plt.legend()\n",
        "plt.title('Accuracy over Epoch')\n",
        "plt.show()"
      ],
      "execution_count": 33,
      "outputs": [
        {
          "output_type": "display_data",
          "data": {
            "image/png": "[encoded data removed]",
            "text/plain": [
              "<Figure size 432x288 with 1 Axes>"
            ]
          },
          "metadata": {
            "tags": []
          }
        }
      ]
    }
  ]
}