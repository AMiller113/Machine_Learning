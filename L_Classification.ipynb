{
  "nbformat": 4,
  "nbformat_minor": 0,
  "metadata": {
    "colab": {
      "name": "L.Classification",
      "provenance": [],
      "collapsed_sections": [],
      "include_colab_link": true
    },
    "kernelspec": {
      "name": "python3",
      "display_name": "Python 3"
    }
  },
  "cells": [
    {
      "cell_type": "markdown",
      "metadata": {
        "id": "view-in-github",
        "colab_type": "text"
      },
      "source": [
        "<a href=\"https://colab.research.google.com/github/AMiller113/Machine_Learning/blob/master/L_Classification.ipynb\" target=\"_parent\"><img src=\"https://colab.research.google.com/assets/colab-badge.svg\" alt=\"Open In Colab\"/></a>"
      ]
    },
    {
      "cell_type": "code",
      "metadata": {
        "id": "51BuGjrftO6j",
        "colab_type": "code",
        "outputId": "70477014-f7fd-4224-a54b-4b754eed6ed6",
        "colab": {
          "base_uri": "https://localhost:8080/",
          "height": 513
        }
      },
      "source": [
        "!pip install -q tensorflow==2.0.0-beta1\n",
        "import tensorflow as tf\n",
        "tf.__version__"
      ],
      "execution_count": 0,
      "outputs": [
        {
          "output_type": "stream",
          "text": [
            "\u001b[K     |████████████████████████████████| 87.9MB 53kB/s \n",
            "\u001b[K     |████████████████████████████████| 501kB 48.9MB/s \n",
            "\u001b[K     |████████████████████████████████| 3.1MB 54.0MB/s \n",
            "\u001b[?25h"
          ],
          "name": "stdout"
        },
        {
          "output_type": "stream",
          "text": [
            "/usr/local/lib/python3.6/dist-packages/tensorflow/python/framework/dtypes.py:516: FutureWarning: Passing (type, 1) or '1type' as a synonym of type is deprecated; in a future version of numpy, it will be understood as (type, (1,)) / '(1,)type'.\n",
            "  _np_qint8 = np.dtype([(\"qint8\", np.int8, 1)])\n",
            "/usr/local/lib/python3.6/dist-packages/tensorflow/python/framework/dtypes.py:517: FutureWarning: Passing (type, 1) or '1type' as a synonym of type is deprecated; in a future version of numpy, it will be understood as (type, (1,)) / '(1,)type'.\n",
            "  _np_quint8 = np.dtype([(\"quint8\", np.uint8, 1)])\n",
            "/usr/local/lib/python3.6/dist-packages/tensorflow/python/framework/dtypes.py:518: FutureWarning: Passing (type, 1) or '1type' as a synonym of type is deprecated; in a future version of numpy, it will be understood as (type, (1,)) / '(1,)type'.\n",
            "  _np_qint16 = np.dtype([(\"qint16\", np.int16, 1)])\n",
            "/usr/local/lib/python3.6/dist-packages/tensorflow/python/framework/dtypes.py:519: FutureWarning: Passing (type, 1) or '1type' as a synonym of type is deprecated; in a future version of numpy, it will be understood as (type, (1,)) / '(1,)type'.\n",
            "  _np_quint16 = np.dtype([(\"quint16\", np.uint16, 1)])\n",
            "/usr/local/lib/python3.6/dist-packages/tensorflow/python/framework/dtypes.py:520: FutureWarning: Passing (type, 1) or '1type' as a synonym of type is deprecated; in a future version of numpy, it will be understood as (type, (1,)) / '(1,)type'.\n",
            "  _np_qint32 = np.dtype([(\"qint32\", np.int32, 1)])\n",
            "/usr/local/lib/python3.6/dist-packages/tensorflow/python/framework/dtypes.py:525: FutureWarning: Passing (type, 1) or '1type' as a synonym of type is deprecated; in a future version of numpy, it will be understood as (type, (1,)) / '(1,)type'.\n",
            "  np_resource = np.dtype([(\"resource\", np.ubyte, 1)])\n",
            "/usr/local/lib/python3.6/dist-packages/tensorboard/compat/tensorflow_stub/dtypes.py:541: FutureWarning: Passing (type, 1) or '1type' as a synonym of type is deprecated; in a future version of numpy, it will be understood as (type, (1,)) / '(1,)type'.\n",
            "  _np_qint8 = np.dtype([(\"qint8\", np.int8, 1)])\n",
            "/usr/local/lib/python3.6/dist-packages/tensorboard/compat/tensorflow_stub/dtypes.py:542: FutureWarning: Passing (type, 1) or '1type' as a synonym of type is deprecated; in a future version of numpy, it will be understood as (type, (1,)) / '(1,)type'.\n",
            "  _np_quint8 = np.dtype([(\"quint8\", np.uint8, 1)])\n",
            "/usr/local/lib/python3.6/dist-packages/tensorboard/compat/tensorflow_stub/dtypes.py:543: FutureWarning: Passing (type, 1) or '1type' as a synonym of type is deprecated; in a future version of numpy, it will be understood as (type, (1,)) / '(1,)type'.\n",
            "  _np_qint16 = np.dtype([(\"qint16\", np.int16, 1)])\n",
            "/usr/local/lib/python3.6/dist-packages/tensorboard/compat/tensorflow_stub/dtypes.py:544: FutureWarning: Passing (type, 1) or '1type' as a synonym of type is deprecated; in a future version of numpy, it will be understood as (type, (1,)) / '(1,)type'.\n",
            "  _np_quint16 = np.dtype([(\"quint16\", np.uint16, 1)])\n",
            "/usr/local/lib/python3.6/dist-packages/tensorboard/compat/tensorflow_stub/dtypes.py:545: FutureWarning: Passing (type, 1) or '1type' as a synonym of type is deprecated; in a future version of numpy, it will be understood as (type, (1,)) / '(1,)type'.\n",
            "  _np_qint32 = np.dtype([(\"qint32\", np.int32, 1)])\n",
            "/usr/local/lib/python3.6/dist-packages/tensorboard/compat/tensorflow_stub/dtypes.py:550: FutureWarning: Passing (type, 1) or '1type' as a synonym of type is deprecated; in a future version of numpy, it will be understood as (type, (1,)) / '(1,)type'.\n",
            "  np_resource = np.dtype([(\"resource\", np.ubyte, 1)])\n"
          ],
          "name": "stderr"
        },
        {
          "output_type": "execute_result",
          "data": {
            "text/plain": [
              "'2.0.0-beta1'"
            ]
          },
          "metadata": {
            "tags": []
          },
          "execution_count": 1
        }
      ]
    },
    {
      "cell_type": "code",
      "metadata": {
        "id": "qqnLGwd4ZHug",
        "colab_type": "code",
        "colab": {}
      },
      "source": [
        "from sklearn.datasets import load_breast_cancer\n",
        "from sklearn.model_selection import train_test_split # Can be used to create a validation set from the training data\n",
        "from sklearn.preprocessing import StandardScaler # Can be used to standardize the inputs\n",
        "import matplotlib.pyplot as plt"
      ],
      "execution_count": 0,
      "outputs": []
    },
    {
      "cell_type": "code",
      "metadata": {
        "id": "p9aeTOmVZgei",
        "colab_type": "code",
        "colab": {}
      },
      "source": [
        "data = load_breast_cancer() # data is of type bunch, the values in the bunch however are all ndarrays\n",
        "x_train, x_test, y_train, y_test = train_test_split(data.data, data.target, test_size=0.33) # returns a 4 element tuple\n",
        "N, D = x_train.shape # Shape is an attribute\n",
        "scaler = StandardScaler() # Scaler object must be instantiated\n",
        "x_train = scaler.fit_transform(x_train) # Fit generates mu/mean and sigma/stdev, transform warps the dataset\n",
        "x_test = scaler.transform(x_test) # Using the same paremeters generated by fit_transform we transform the test set "
      ],
      "execution_count": 0,
      "outputs": []
    },
    {
      "cell_type": "code",
      "metadata": {
        "id": "hVvkrz0gxUK5",
        "colab_type": "code",
        "outputId": "d7839c69-8fad-4a6b-a67f-280fed8946a7",
        "colab": {
          "base_uri": "https://localhost:8080/",
          "height": 1000
        }
      },
      "source": [
        "model = tf.keras.models.Sequential( # Sequentially activate the list of keras layer functopns\n",
        "    [tf.keras.layers.Input(shape=(D,)), # Passes the shape of the input vector to Keras\n",
        "     tf.keras.layers.Dense(1, activation='sigmoid') # Dense computes the activation function for the model, the output size and the activation function to be used are the required arguments\n",
        "     ])\n",
        "model.compile(optimizer='adam', # The gradient descent optimizer function, adam is the general use case function\n",
        "                  loss='binary_crossentropy', # There are two labels in the data set so we must use binary cross entropy for the loss function\n",
        "                  metrics=['accuracy']) # Tells the model what metrics to keep track of while training takes place\n",
        "r = model.fit(x_train,y_train, validation_data=(x_test,y_test),epochs=100) # trains the model, saves the history to r"
      ],
      "execution_count": 0,
      "outputs": [
        {
          "output_type": "stream",
          "text": [
            "WARNING:tensorflow:From /usr/local/lib/python3.6/dist-packages/tensorflow/python/ops/math_grad.py:1250: add_dispatch_support.<locals>.wrapper (from tensorflow.python.ops.array_ops) is deprecated and will be removed in a future version.\n",
            "Instructions for updating:\n",
            "Use tf.where in 2.0, which has the same broadcast rule as np.where\n",
            "Train on 381 samples, validate on 188 samples\n",
            "Epoch 1/100\n",
            "381/381 [==============================] - 0s 575us/sample - loss: 0.3999 - accuracy: 0.8583 - val_loss: 0.3749 - val_accuracy: 0.8670\n",
            "Epoch 2/100\n",
            "381/381 [==============================] - 0s 65us/sample - loss: 0.3724 - accuracy: 0.8688 - val_loss: 0.3496 - val_accuracy: 0.8830\n",
            "Epoch 3/100\n",
            "381/381 [==============================] - 0s 74us/sample - loss: 0.3482 - accuracy: 0.8714 - val_loss: 0.3271 - val_accuracy: 0.8830\n",
            "Epoch 4/100\n",
            "381/381 [==============================] - 0s 64us/sample - loss: 0.3262 - accuracy: 0.8845 - val_loss: 0.3075 - val_accuracy: 0.8830\n",
            "Epoch 5/100\n",
            "381/381 [==============================] - 0s 56us/sample - loss: 0.3080 - accuracy: 0.8976 - val_loss: 0.2900 - val_accuracy: 0.8830\n",
            "Epoch 6/100\n",
            "381/381 [==============================] - 0s 66us/sample - loss: 0.2912 - accuracy: 0.9003 - val_loss: 0.2746 - val_accuracy: 0.9096\n",
            "Epoch 7/100\n",
            "381/381 [==============================] - 0s 61us/sample - loss: 0.2767 - accuracy: 0.9055 - val_loss: 0.2610 - val_accuracy: 0.9149\n",
            "Epoch 8/100\n",
            "381/381 [==============================] - 0s 63us/sample - loss: 0.2640 - accuracy: 0.9108 - val_loss: 0.2488 - val_accuracy: 0.9255\n",
            "Epoch 9/100\n",
            "381/381 [==============================] - 0s 57us/sample - loss: 0.2520 - accuracy: 0.9134 - val_loss: 0.2377 - val_accuracy: 0.9255\n",
            "Epoch 10/100\n",
            "381/381 [==============================] - 0s 69us/sample - loss: 0.2417 - accuracy: 0.9134 - val_loss: 0.2276 - val_accuracy: 0.9255\n",
            "Epoch 11/100\n",
            "381/381 [==============================] - 0s 61us/sample - loss: 0.2326 - accuracy: 0.9134 - val_loss: 0.2183 - val_accuracy: 0.9362\n",
            "Epoch 12/100\n",
            "381/381 [==============================] - 0s 59us/sample - loss: 0.2236 - accuracy: 0.9160 - val_loss: 0.2100 - val_accuracy: 0.9415\n",
            "Epoch 13/100\n",
            "381/381 [==============================] - 0s 83us/sample - loss: 0.2157 - accuracy: 0.9160 - val_loss: 0.2026 - val_accuracy: 0.9415\n",
            "Epoch 14/100\n",
            "381/381 [==============================] - 0s 92us/sample - loss: 0.2090 - accuracy: 0.9160 - val_loss: 0.1955 - val_accuracy: 0.9468\n",
            "Epoch 15/100\n",
            "381/381 [==============================] - 0s 86us/sample - loss: 0.2022 - accuracy: 0.9265 - val_loss: 0.1890 - val_accuracy: 0.9468\n",
            "Epoch 16/100\n",
            "381/381 [==============================] - 0s 112us/sample - loss: 0.1962 - accuracy: 0.9265 - val_loss: 0.1830 - val_accuracy: 0.9468\n",
            "Epoch 17/100\n",
            "381/381 [==============================] - 0s 64us/sample - loss: 0.1905 - accuracy: 0.9291 - val_loss: 0.1775 - val_accuracy: 0.9521\n",
            "Epoch 18/100\n",
            "381/381 [==============================] - 0s 64us/sample - loss: 0.1854 - accuracy: 0.9318 - val_loss: 0.1724 - val_accuracy: 0.9521\n",
            "Epoch 19/100\n",
            "381/381 [==============================] - 0s 74us/sample - loss: 0.1806 - accuracy: 0.9318 - val_loss: 0.1677 - val_accuracy: 0.9574\n",
            "Epoch 20/100\n",
            "381/381 [==============================] - 0s 68us/sample - loss: 0.1763 - accuracy: 0.9423 - val_loss: 0.1633 - val_accuracy: 0.9574\n",
            "Epoch 21/100\n",
            "381/381 [==============================] - 0s 63us/sample - loss: 0.1718 - accuracy: 0.9423 - val_loss: 0.1592 - val_accuracy: 0.9628\n",
            "Epoch 22/100\n",
            "381/381 [==============================] - 0s 61us/sample - loss: 0.1682 - accuracy: 0.9423 - val_loss: 0.1553 - val_accuracy: 0.9628\n",
            "Epoch 23/100\n",
            "381/381 [==============================] - 0s 78us/sample - loss: 0.1645 - accuracy: 0.9475 - val_loss: 0.1517 - val_accuracy: 0.9681\n",
            "Epoch 24/100\n",
            "381/381 [==============================] - 0s 84us/sample - loss: 0.1612 - accuracy: 0.9501 - val_loss: 0.1482 - val_accuracy: 0.9681\n",
            "Epoch 25/100\n",
            "381/381 [==============================] - 0s 83us/sample - loss: 0.1577 - accuracy: 0.9475 - val_loss: 0.1451 - val_accuracy: 0.9681\n",
            "Epoch 26/100\n",
            "381/381 [==============================] - 0s 66us/sample - loss: 0.1550 - accuracy: 0.9501 - val_loss: 0.1420 - val_accuracy: 0.9734\n",
            "Epoch 27/100\n",
            "381/381 [==============================] - 0s 67us/sample - loss: 0.1520 - accuracy: 0.9501 - val_loss: 0.1391 - val_accuracy: 0.9734\n",
            "Epoch 28/100\n",
            "381/381 [==============================] - 0s 70us/sample - loss: 0.1495 - accuracy: 0.9501 - val_loss: 0.1364 - val_accuracy: 0.9734\n",
            "Epoch 29/100\n",
            "381/381 [==============================] - 0s 89us/sample - loss: 0.1468 - accuracy: 0.9528 - val_loss: 0.1339 - val_accuracy: 0.9734\n",
            "Epoch 30/100\n",
            "381/381 [==============================] - 0s 81us/sample - loss: 0.1445 - accuracy: 0.9528 - val_loss: 0.1315 - val_accuracy: 0.9734\n",
            "Epoch 31/100\n",
            "381/381 [==============================] - 0s 68us/sample - loss: 0.1423 - accuracy: 0.9554 - val_loss: 0.1291 - val_accuracy: 0.9734\n",
            "Epoch 32/100\n",
            "381/381 [==============================] - 0s 67us/sample - loss: 0.1401 - accuracy: 0.9580 - val_loss: 0.1269 - val_accuracy: 0.9787\n",
            "Epoch 33/100\n",
            "381/381 [==============================] - 0s 63us/sample - loss: 0.1380 - accuracy: 0.9580 - val_loss: 0.1248 - val_accuracy: 0.9787\n",
            "Epoch 34/100\n",
            "381/381 [==============================] - 0s 55us/sample - loss: 0.1361 - accuracy: 0.9580 - val_loss: 0.1228 - val_accuracy: 0.9787\n",
            "Epoch 35/100\n",
            "381/381 [==============================] - 0s 75us/sample - loss: 0.1343 - accuracy: 0.9580 - val_loss: 0.1209 - val_accuracy: 0.9787\n",
            "Epoch 36/100\n",
            "381/381 [==============================] - 0s 63us/sample - loss: 0.1326 - accuracy: 0.9580 - val_loss: 0.1190 - val_accuracy: 0.9840\n",
            "Epoch 37/100\n",
            "381/381 [==============================] - 0s 80us/sample - loss: 0.1308 - accuracy: 0.9580 - val_loss: 0.1173 - val_accuracy: 0.9840\n",
            "Epoch 38/100\n",
            "381/381 [==============================] - 0s 71us/sample - loss: 0.1292 - accuracy: 0.9606 - val_loss: 0.1156 - val_accuracy: 0.9840\n",
            "Epoch 39/100\n",
            "381/381 [==============================] - 0s 73us/sample - loss: 0.1277 - accuracy: 0.9606 - val_loss: 0.1140 - val_accuracy: 0.9840\n",
            "Epoch 40/100\n",
            "381/381 [==============================] - 0s 66us/sample - loss: 0.1262 - accuracy: 0.9685 - val_loss: 0.1124 - val_accuracy: 0.9840\n",
            "Epoch 41/100\n",
            "381/381 [==============================] - 0s 77us/sample - loss: 0.1248 - accuracy: 0.9685 - val_loss: 0.1109 - val_accuracy: 0.9840\n",
            "Epoch 42/100\n",
            "381/381 [==============================] - 0s 64us/sample - loss: 0.1233 - accuracy: 0.9685 - val_loss: 0.1095 - val_accuracy: 0.9840\n",
            "Epoch 43/100\n",
            "381/381 [==============================] - 0s 64us/sample - loss: 0.1220 - accuracy: 0.9685 - val_loss: 0.1082 - val_accuracy: 0.9840\n",
            "Epoch 44/100\n",
            "381/381 [==============================] - 0s 60us/sample - loss: 0.1208 - accuracy: 0.9711 - val_loss: 0.1069 - val_accuracy: 0.9840\n",
            "Epoch 45/100\n",
            "381/381 [==============================] - 0s 81us/sample - loss: 0.1196 - accuracy: 0.9711 - val_loss: 0.1056 - val_accuracy: 0.9840\n",
            "Epoch 46/100\n",
            "381/381 [==============================] - 0s 74us/sample - loss: 0.1184 - accuracy: 0.9711 - val_loss: 0.1044 - val_accuracy: 0.9840\n",
            "Epoch 47/100\n",
            "381/381 [==============================] - 0s 64us/sample - loss: 0.1172 - accuracy: 0.9711 - val_loss: 0.1032 - val_accuracy: 0.9840\n",
            "Epoch 48/100\n",
            "381/381 [==============================] - 0s 64us/sample - loss: 0.1161 - accuracy: 0.9711 - val_loss: 0.1020 - val_accuracy: 0.9840\n",
            "Epoch 49/100\n",
            "381/381 [==============================] - 0s 65us/sample - loss: 0.1151 - accuracy: 0.9711 - val_loss: 0.1009 - val_accuracy: 0.9840\n",
            "Epoch 50/100\n",
            "381/381 [==============================] - 0s 71us/sample - loss: 0.1140 - accuracy: 0.9711 - val_loss: 0.0999 - val_accuracy: 0.9840\n",
            "Epoch 51/100\n",
            "381/381 [==============================] - 0s 71us/sample - loss: 0.1131 - accuracy: 0.9711 - val_loss: 0.0988 - val_accuracy: 0.9840\n",
            "Epoch 52/100\n",
            "381/381 [==============================] - 0s 77us/sample - loss: 0.1121 - accuracy: 0.9711 - val_loss: 0.0978 - val_accuracy: 0.9894\n",
            "Epoch 53/100\n",
            "381/381 [==============================] - 0s 65us/sample - loss: 0.1111 - accuracy: 0.9711 - val_loss: 0.0969 - val_accuracy: 0.9894\n",
            "Epoch 54/100\n",
            "381/381 [==============================] - 0s 66us/sample - loss: 0.1103 - accuracy: 0.9711 - val_loss: 0.0959 - val_accuracy: 0.9894\n",
            "Epoch 55/100\n",
            "381/381 [==============================] - 0s 65us/sample - loss: 0.1094 - accuracy: 0.9711 - val_loss: 0.0950 - val_accuracy: 0.9894\n",
            "Epoch 56/100\n",
            "381/381 [==============================] - 0s 74us/sample - loss: 0.1086 - accuracy: 0.9711 - val_loss: 0.0942 - val_accuracy: 0.9894\n",
            "Epoch 57/100\n",
            "381/381 [==============================] - 0s 64us/sample - loss: 0.1077 - accuracy: 0.9738 - val_loss: 0.0934 - val_accuracy: 0.9894\n",
            "Epoch 58/100\n",
            "381/381 [==============================] - 0s 61us/sample - loss: 0.1069 - accuracy: 0.9738 - val_loss: 0.0925 - val_accuracy: 0.9894\n",
            "Epoch 59/100\n",
            "381/381 [==============================] - 0s 71us/sample - loss: 0.1061 - accuracy: 0.9738 - val_loss: 0.0917 - val_accuracy: 0.9894\n",
            "Epoch 60/100\n",
            "381/381 [==============================] - 0s 59us/sample - loss: 0.1053 - accuracy: 0.9738 - val_loss: 0.0909 - val_accuracy: 0.9894\n",
            "Epoch 61/100\n",
            "381/381 [==============================] - 0s 72us/sample - loss: 0.1046 - accuracy: 0.9738 - val_loss: 0.0901 - val_accuracy: 0.9894\n",
            "Epoch 62/100\n",
            "381/381 [==============================] - 0s 63us/sample - loss: 0.1039 - accuracy: 0.9738 - val_loss: 0.0894 - val_accuracy: 0.9894\n",
            "Epoch 63/100\n",
            "381/381 [==============================] - 0s 71us/sample - loss: 0.1032 - accuracy: 0.9738 - val_loss: 0.0887 - val_accuracy: 0.9894\n",
            "Epoch 64/100\n",
            "381/381 [==============================] - 0s 60us/sample - loss: 0.1025 - accuracy: 0.9738 - val_loss: 0.0880 - val_accuracy: 0.9894\n",
            "Epoch 65/100\n",
            "381/381 [==============================] - 0s 62us/sample - loss: 0.1019 - accuracy: 0.9738 - val_loss: 0.0873 - val_accuracy: 0.9894\n",
            "Epoch 66/100\n",
            "381/381 [==============================] - 0s 60us/sample - loss: 0.1012 - accuracy: 0.9738 - val_loss: 0.0866 - val_accuracy: 0.9894\n",
            "Epoch 67/100\n",
            "381/381 [==============================] - 0s 70us/sample - loss: 0.1006 - accuracy: 0.9738 - val_loss: 0.0860 - val_accuracy: 0.9894\n",
            "Epoch 68/100\n",
            "381/381 [==============================] - 0s 63us/sample - loss: 0.0999 - accuracy: 0.9738 - val_loss: 0.0854 - val_accuracy: 0.9894\n",
            "Epoch 69/100\n",
            "381/381 [==============================] - 0s 60us/sample - loss: 0.0994 - accuracy: 0.9790 - val_loss: 0.0848 - val_accuracy: 0.9894\n",
            "Epoch 70/100\n",
            "381/381 [==============================] - 0s 60us/sample - loss: 0.0988 - accuracy: 0.9790 - val_loss: 0.0842 - val_accuracy: 0.9894\n",
            "Epoch 71/100\n",
            "381/381 [==============================] - 0s 63us/sample - loss: 0.0982 - accuracy: 0.9790 - val_loss: 0.0836 - val_accuracy: 0.9894\n",
            "Epoch 72/100\n",
            "381/381 [==============================] - 0s 61us/sample - loss: 0.0977 - accuracy: 0.9790 - val_loss: 0.0831 - val_accuracy: 0.9894\n",
            "Epoch 73/100\n",
            "381/381 [==============================] - 0s 64us/sample - loss: 0.0971 - accuracy: 0.9790 - val_loss: 0.0824 - val_accuracy: 0.9894\n",
            "Epoch 74/100\n",
            "381/381 [==============================] - 0s 69us/sample - loss: 0.0966 - accuracy: 0.9790 - val_loss: 0.0819 - val_accuracy: 0.9894\n",
            "Epoch 75/100\n",
            "381/381 [==============================] - 0s 63us/sample - loss: 0.0961 - accuracy: 0.9790 - val_loss: 0.0814 - val_accuracy: 0.9894\n",
            "Epoch 76/100\n",
            "381/381 [==============================] - 0s 65us/sample - loss: 0.0955 - accuracy: 0.9790 - val_loss: 0.0809 - val_accuracy: 0.9894\n",
            "Epoch 77/100\n",
            "381/381 [==============================] - 0s 62us/sample - loss: 0.0951 - accuracy: 0.9790 - val_loss: 0.0804 - val_accuracy: 0.9894\n",
            "Epoch 78/100\n",
            "381/381 [==============================] - 0s 73us/sample - loss: 0.0946 - accuracy: 0.9790 - val_loss: 0.0799 - val_accuracy: 0.9894\n",
            "Epoch 79/100\n",
            "381/381 [==============================] - 0s 62us/sample - loss: 0.0941 - accuracy: 0.9790 - val_loss: 0.0795 - val_accuracy: 0.9894\n",
            "Epoch 80/100\n",
            "381/381 [==============================] - 0s 67us/sample - loss: 0.0937 - accuracy: 0.9790 - val_loss: 0.0789 - val_accuracy: 0.9894\n",
            "Epoch 81/100\n",
            "381/381 [==============================] - 0s 66us/sample - loss: 0.0932 - accuracy: 0.9790 - val_loss: 0.0785 - val_accuracy: 0.9894\n",
            "Epoch 82/100\n",
            "381/381 [==============================] - 0s 64us/sample - loss: 0.0927 - accuracy: 0.9790 - val_loss: 0.0781 - val_accuracy: 0.9894\n",
            "Epoch 83/100\n",
            "381/381 [==============================] - 0s 65us/sample - loss: 0.0923 - accuracy: 0.9790 - val_loss: 0.0776 - val_accuracy: 0.9894\n",
            "Epoch 84/100\n",
            "381/381 [==============================] - 0s 65us/sample - loss: 0.0918 - accuracy: 0.9790 - val_loss: 0.0772 - val_accuracy: 0.9894\n",
            "Epoch 85/100\n",
            "381/381 [==============================] - 0s 79us/sample - loss: 0.0914 - accuracy: 0.9790 - val_loss: 0.0767 - val_accuracy: 0.9894\n",
            "Epoch 86/100\n",
            "381/381 [==============================] - 0s 102us/sample - loss: 0.0910 - accuracy: 0.9790 - val_loss: 0.0763 - val_accuracy: 0.9894\n",
            "Epoch 87/100\n",
            "381/381 [==============================] - 0s 91us/sample - loss: 0.0907 - accuracy: 0.9790 - val_loss: 0.0759 - val_accuracy: 0.9894\n",
            "Epoch 88/100\n",
            "381/381 [==============================] - 0s 77us/sample - loss: 0.0902 - accuracy: 0.9790 - val_loss: 0.0756 - val_accuracy: 0.9894\n",
            "Epoch 89/100\n",
            "381/381 [==============================] - 0s 85us/sample - loss: 0.0898 - accuracy: 0.9816 - val_loss: 0.0752 - val_accuracy: 0.9894\n",
            "Epoch 90/100\n",
            "381/381 [==============================] - 0s 105us/sample - loss: 0.0895 - accuracy: 0.9816 - val_loss: 0.0748 - val_accuracy: 0.9894\n",
            "Epoch 91/100\n",
            "381/381 [==============================] - 0s 70us/sample - loss: 0.0891 - accuracy: 0.9816 - val_loss: 0.0744 - val_accuracy: 0.9894\n",
            "Epoch 92/100\n",
            "381/381 [==============================] - 0s 73us/sample - loss: 0.0887 - accuracy: 0.9816 - val_loss: 0.0741 - val_accuracy: 0.9894\n",
            "Epoch 93/100\n",
            "381/381 [==============================] - 0s 92us/sample - loss: 0.0884 - accuracy: 0.9816 - val_loss: 0.0737 - val_accuracy: 0.9894\n",
            "Epoch 94/100\n",
            "381/381 [==============================] - 0s 67us/sample - loss: 0.0880 - accuracy: 0.9816 - val_loss: 0.0734 - val_accuracy: 0.9894\n",
            "Epoch 95/100\n",
            "381/381 [==============================] - 0s 61us/sample - loss: 0.0877 - accuracy: 0.9816 - val_loss: 0.0730 - val_accuracy: 0.9894\n",
            "Epoch 96/100\n",
            "381/381 [==============================] - 0s 71us/sample - loss: 0.0873 - accuracy: 0.9816 - val_loss: 0.0726 - val_accuracy: 0.9894\n",
            "Epoch 97/100\n",
            "381/381 [==============================] - 0s 68us/sample - loss: 0.0870 - accuracy: 0.9816 - val_loss: 0.0723 - val_accuracy: 0.9894\n",
            "Epoch 98/100\n",
            "381/381 [==============================] - 0s 66us/sample - loss: 0.0866 - accuracy: 0.9816 - val_loss: 0.0720 - val_accuracy: 0.9894\n",
            "Epoch 99/100\n",
            "381/381 [==============================] - 0s 68us/sample - loss: 0.0863 - accuracy: 0.9816 - val_loss: 0.0717 - val_accuracy: 0.9894\n",
            "Epoch 100/100\n",
            "381/381 [==============================] - 0s 75us/sample - loss: 0.0860 - accuracy: 0.9816 - val_loss: 0.0714 - val_accuracy: 0.9894\n"
          ],
          "name": "stdout"
        }
      ]
    },
    {
      "cell_type": "code",
      "metadata": {
        "id": "8iVw-nZEEpuc",
        "colab_type": "code",
        "outputId": "df626b73-4004-4c99-b142-83d906c1f14b",
        "colab": {
          "base_uri": "https://localhost:8080/",
          "height": 85
        }
      },
      "source": [
        "print('Train Score:', model.evaluate(x_train, y_train)) # Shows the training score\n",
        "print('Test Score:', model.evaluate(x_test,y_test)) # Shows the test score"
      ],
      "execution_count": 0,
      "outputs": [
        {
          "output_type": "stream",
          "text": [
            "381/381 [==============================] - 0s 94us/sample - loss: 0.0858 - accuracy: 0.9816\n",
            "Train Score: [0.08581355734290726, 0.9816273]\n",
            "188/188 [==============================] - 0s 62us/sample - loss: 0.0714 - accuracy: 0.9894\n",
            "Test Score: [0.0713891144445602, 0.9893617]\n"
          ],
          "name": "stdout"
        }
      ]
    },
    {
      "cell_type": "code",
      "metadata": {
        "id": "C5T5ym0ICKXz",
        "colab_type": "code",
        "outputId": "86070c6d-5f49-4efa-ed5b-eee5760f12cf",
        "colab": {
          "base_uri": "https://localhost:8080/",
          "height": 265
        }
      },
      "source": [
        "plt.plot(r.history['loss'], label='Loss') #plots the training loss data\n",
        "plt.plot(r.history['val_loss'], label='Val_Loss') # plots the validation loss data\n",
        "plt.legend()\n",
        "plt.show() # shows the graph"
      ],
      "execution_count": 0,
      "outputs": [
        {
          "output_type": "display_data",
          "data": {
            "image/png": "[encoded data removed]",
            "text/plain": [
              "<Figure size 432x288 with 1 Axes>"
            ]
          },
          "metadata": {
            "tags": []
          }
        }
      ]
    },
    {
      "cell_type": "code",
      "metadata": {
        "id": "XjiPzOeyHazY",
        "colab_type": "code",
        "outputId": "7b5668ba-2d96-48e8-819a-01d412eeb60c",
        "colab": {
          "base_uri": "https://localhost:8080/",
          "height": 265
        }
      },
      "source": [
        "plt.plot(r.history['accuracy'], label = 'acc')\n",
        "plt.plot(r.history['val_accuracy'], label= 'val_accuracy')\n",
        "plt.legend()\n",
        "plt.show()"
      ],
      "execution_count": 0,
      "outputs": [
        {
          "output_type": "display_data",
          "data": {
            "image/png": "[encoded data removed]",
            "text/plain": [
              "<Figure size 432x288 with 1 Axes>"
            ]
          },
          "metadata": {
            "tags": []
          }
        }
      ]
    },
    {
      "cell_type": "code",
      "metadata": {
        "id": "8IkV9-JsMnGD",
        "colab_type": "code",
        "colab": {}
      },
      "source": [
        "# Save Model\n",
        "model.save('classifier.h5')"
      ],
      "execution_count": 0,
      "outputs": []
    },
    {
      "cell_type": "code",
      "metadata": {
        "id": "FQ0tz4gtMvpw",
        "colab_type": "code",
        "outputId": "f06dafac-100d-4461-87fb-7f2008da2b77",
        "colab": {
          "base_uri": "https://localhost:8080/",
          "height": 68
        }
      },
      "source": [
        "!ls -lh"
      ],
      "execution_count": 0,
      "outputs": [
        {
          "output_type": "stream",
          "text": [
            "total 24K\n",
            "-rw-r--r-- 1 root root  19K Jan  3 00:36 classifier.h5\n",
            "drwxr-xr-x 1 root root 4.0K Dec 18 16:52 sample_data\n"
          ],
          "name": "stdout"
        }
      ]
    },
    {
      "cell_type": "code",
      "metadata": {
        "id": "JwXUuN_zMxNY",
        "colab_type": "code",
        "outputId": "fee2752d-f403-4053-dd6d-0b547a471f00",
        "colab": {
          "base_uri": "https://localhost:8080/",
          "height": 340
        }
      },
      "source": [
        "# Load model\n",
        "model_loaded = tf.keras.models.load_model('classifier.h5')\n",
        "print(model_loaded.layers)\n",
        "model_loaded.evaluate(x_test,y_test)"
      ],
      "execution_count": 0,
      "outputs": [
        {
          "output_type": "error",
          "ename": "ValueError",
          "evalue": "ignored",
          "traceback": [
            "\u001b[0;31m---------------------------------------------------------------------------\u001b[0m",
            "\u001b[0;31mValueError\u001b[0m                                Traceback (most recent call last)",
            "\u001b[0;32m<ipython-input-10-f8be9a17b061>\u001b[0m in \u001b[0;36m<module>\u001b[0;34m()\u001b[0m\n\u001b[0;32m----> 1\u001b[0;31m \u001b[0mmodel_loaded\u001b[0m \u001b[0;34m=\u001b[0m \u001b[0mtf\u001b[0m\u001b[0;34m.\u001b[0m\u001b[0mkeras\u001b[0m\u001b[0;34m.\u001b[0m\u001b[0mmodels\u001b[0m\u001b[0;34m.\u001b[0m\u001b[0mload_model\u001b[0m\u001b[0;34m(\u001b[0m\u001b[0;34m'classifier.h5'\u001b[0m\u001b[0;34m)\u001b[0m\u001b[0;34m\u001b[0m\u001b[0;34m\u001b[0m\u001b[0m\n\u001b[0m\u001b[1;32m      2\u001b[0m \u001b[0mprint\u001b[0m\u001b[0;34m(\u001b[0m\u001b[0mmodel_loaded\u001b[0m\u001b[0;34m.\u001b[0m\u001b[0mlayers\u001b[0m\u001b[0;34m)\u001b[0m\u001b[0;34m\u001b[0m\u001b[0;34m\u001b[0m\u001b[0m\n\u001b[1;32m      3\u001b[0m \u001b[0mmodel_loaded\u001b[0m\u001b[0;34m.\u001b[0m\u001b[0mevaluate\u001b[0m\u001b[0;34m(\u001b[0m\u001b[0mx_test\u001b[0m\u001b[0;34m,\u001b[0m\u001b[0my_test\u001b[0m\u001b[0;34m)\u001b[0m\u001b[0;34m\u001b[0m\u001b[0;34m\u001b[0m\u001b[0m\n",
            "\u001b[0;32m/usr/local/lib/python3.6/dist-packages/tensorflow/python/keras/saving/save.py\u001b[0m in \u001b[0;36mload_model\u001b[0;34m(filepath, custom_objects, compile)\u001b[0m\n\u001b[1;32m    135\u001b[0m   if (h5py is not None and (\n\u001b[1;32m    136\u001b[0m       isinstance(filepath, h5py.File) or h5py.is_hdf5(filepath))):\n\u001b[0;32m--> 137\u001b[0;31m     \u001b[0;32mreturn\u001b[0m \u001b[0mhdf5_format\u001b[0m\u001b[0;34m.\u001b[0m\u001b[0mload_model_from_hdf5\u001b[0m\u001b[0;34m(\u001b[0m\u001b[0mfilepath\u001b[0m\u001b[0;34m,\u001b[0m \u001b[0mcustom_objects\u001b[0m\u001b[0;34m,\u001b[0m \u001b[0mcompile\u001b[0m\u001b[0;34m)\u001b[0m\u001b[0;34m\u001b[0m\u001b[0;34m\u001b[0m\u001b[0m\n\u001b[0m\u001b[1;32m    138\u001b[0m \u001b[0;34m\u001b[0m\u001b[0m\n\u001b[1;32m    139\u001b[0m   \u001b[0;32mif\u001b[0m \u001b[0misinstance\u001b[0m\u001b[0;34m(\u001b[0m\u001b[0mfilepath\u001b[0m\u001b[0;34m,\u001b[0m \u001b[0msix\u001b[0m\u001b[0;34m.\u001b[0m\u001b[0mstring_types\u001b[0m\u001b[0;34m)\u001b[0m\u001b[0;34m:\u001b[0m\u001b[0;34m\u001b[0m\u001b[0;34m\u001b[0m\u001b[0m\n",
            "\u001b[0;32m/usr/local/lib/python3.6/dist-packages/tensorflow/python/keras/saving/hdf5_format.py\u001b[0m in \u001b[0;36mload_model_from_hdf5\u001b[0;34m(filepath, custom_objects, compile)\u001b[0m\n\u001b[1;32m    163\u001b[0m \u001b[0;34m\u001b[0m\u001b[0m\n\u001b[1;32m    164\u001b[0m     \u001b[0;31m# set weights\u001b[0m\u001b[0;34m\u001b[0m\u001b[0;34m\u001b[0m\u001b[0;34m\u001b[0m\u001b[0m\n\u001b[0;32m--> 165\u001b[0;31m     \u001b[0mload_weights_from_hdf5_group\u001b[0m\u001b[0;34m(\u001b[0m\u001b[0mf\u001b[0m\u001b[0;34m[\u001b[0m\u001b[0;34m'model_weights'\u001b[0m\u001b[0;34m]\u001b[0m\u001b[0;34m,\u001b[0m \u001b[0mmodel\u001b[0m\u001b[0;34m.\u001b[0m\u001b[0mlayers\u001b[0m\u001b[0;34m)\u001b[0m\u001b[0;34m\u001b[0m\u001b[0;34m\u001b[0m\u001b[0m\n\u001b[0m\u001b[1;32m    166\u001b[0m \u001b[0;34m\u001b[0m\u001b[0m\n\u001b[1;32m    167\u001b[0m     \u001b[0;32mif\u001b[0m \u001b[0mcompile\u001b[0m\u001b[0;34m:\u001b[0m\u001b[0;34m\u001b[0m\u001b[0;34m\u001b[0m\u001b[0m\n",
            "\u001b[0;32m/usr/local/lib/python3.6/dist-packages/tensorflow/python/keras/saving/hdf5_format.py\u001b[0m in \u001b[0;36mload_weights_from_hdf5_group\u001b[0;34m(f, layers)\u001b[0m\n\u001b[1;32m    669\u001b[0m                      \u001b[0;34m'containing '\u001b[0m \u001b[0;34m+\u001b[0m \u001b[0mstr\u001b[0m\u001b[0;34m(\u001b[0m\u001b[0mlen\u001b[0m\u001b[0;34m(\u001b[0m\u001b[0mlayer_names\u001b[0m\u001b[0;34m)\u001b[0m\u001b[0;34m)\u001b[0m \u001b[0;34m+\u001b[0m\u001b[0;34m\u001b[0m\u001b[0;34m\u001b[0m\u001b[0m\n\u001b[1;32m    670\u001b[0m                      \u001b[0;34m' layers into a model with '\u001b[0m \u001b[0;34m+\u001b[0m \u001b[0mstr\u001b[0m\u001b[0;34m(\u001b[0m\u001b[0mlen\u001b[0m\u001b[0;34m(\u001b[0m\u001b[0mfiltered_layers\u001b[0m\u001b[0;34m)\u001b[0m\u001b[0;34m)\u001b[0m \u001b[0;34m+\u001b[0m\u001b[0;34m\u001b[0m\u001b[0;34m\u001b[0m\u001b[0m\n\u001b[0;32m--> 671\u001b[0;31m                      ' layers.')\n\u001b[0m\u001b[1;32m    672\u001b[0m \u001b[0;34m\u001b[0m\u001b[0m\n\u001b[1;32m    673\u001b[0m   \u001b[0;31m# We batch weight value assignments in a single backend call\u001b[0m\u001b[0;34m\u001b[0m\u001b[0;34m\u001b[0m\u001b[0;34m\u001b[0m\u001b[0m\n",
            "\u001b[0;31mValueError\u001b[0m: You are trying to load a weight file containing 1 layers into a model with 0 layers."
          ]
        }
      ]
    }
  ]
}