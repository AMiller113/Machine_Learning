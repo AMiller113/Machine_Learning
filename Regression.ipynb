{
  "nbformat": 4,
  "nbformat_minor": 0,
  "metadata": {
    "colab": {
      "name": "Regression",
      "provenance": [],
      "collapsed_sections": [],
      "include_colab_link": true
    },
    "kernelspec": {
      "name": "python3",
      "display_name": "Python 3"
    }
  },
  "cells": [
    {
      "cell_type": "markdown",
      "metadata": {
        "id": "view-in-github",
        "colab_type": "text"
      },
      "source": [
        "<a href=\"https://colab.research.google.com/github/AMiller113/Machine_Learning/blob/master/Regression.ipynb\" target=\"_parent\"><img src=\"https://colab.research.google.com/assets/colab-badge.svg\" alt=\"Open In Colab\"/></a>"
      ]
    },
    {
      "cell_type": "code",
      "metadata": {
        "id": "51BuGjrftO6j",
        "colab_type": "code",
        "colab": {
          "base_uri": "https://localhost:8080/",
          "height": 462
        },
        "outputId": "1ef88f08-0824-4b93-9909-e303e2c0217e"
      },
      "source": [
        "# Generic tensorflow 2.0 install+import\n",
        "!pip install -q tensorflow==2.0.0-beta1\n",
        "import tensorflow as tf\n",
        "tf.__version__"
      ],
      "execution_count": 1,
      "outputs": [
        {
          "output_type": "stream",
          "text": [
            "/usr/local/lib/python3.6/dist-packages/tensorflow/python/framework/dtypes.py:516: FutureWarning: Passing (type, 1) or '1type' as a synonym of type is deprecated; in a future version of numpy, it will be understood as (type, (1,)) / '(1,)type'.\n",
            "  _np_qint8 = np.dtype([(\"qint8\", np.int8, 1)])\n",
            "/usr/local/lib/python3.6/dist-packages/tensorflow/python/framework/dtypes.py:517: FutureWarning: Passing (type, 1) or '1type' as a synonym of type is deprecated; in a future version of numpy, it will be understood as (type, (1,)) / '(1,)type'.\n",
            "  _np_quint8 = np.dtype([(\"quint8\", np.uint8, 1)])\n",
            "/usr/local/lib/python3.6/dist-packages/tensorflow/python/framework/dtypes.py:518: FutureWarning: Passing (type, 1) or '1type' as a synonym of type is deprecated; in a future version of numpy, it will be understood as (type, (1,)) / '(1,)type'.\n",
            "  _np_qint16 = np.dtype([(\"qint16\", np.int16, 1)])\n",
            "/usr/local/lib/python3.6/dist-packages/tensorflow/python/framework/dtypes.py:519: FutureWarning: Passing (type, 1) or '1type' as a synonym of type is deprecated; in a future version of numpy, it will be understood as (type, (1,)) / '(1,)type'.\n",
            "  _np_quint16 = np.dtype([(\"quint16\", np.uint16, 1)])\n",
            "/usr/local/lib/python3.6/dist-packages/tensorflow/python/framework/dtypes.py:520: FutureWarning: Passing (type, 1) or '1type' as a synonym of type is deprecated; in a future version of numpy, it will be understood as (type, (1,)) / '(1,)type'.\n",
            "  _np_qint32 = np.dtype([(\"qint32\", np.int32, 1)])\n",
            "/usr/local/lib/python3.6/dist-packages/tensorflow/python/framework/dtypes.py:525: FutureWarning: Passing (type, 1) or '1type' as a synonym of type is deprecated; in a future version of numpy, it will be understood as (type, (1,)) / '(1,)type'.\n",
            "  np_resource = np.dtype([(\"resource\", np.ubyte, 1)])\n",
            "/usr/local/lib/python3.6/dist-packages/tensorboard/compat/tensorflow_stub/dtypes.py:541: FutureWarning: Passing (type, 1) or '1type' as a synonym of type is deprecated; in a future version of numpy, it will be understood as (type, (1,)) / '(1,)type'.\n",
            "  _np_qint8 = np.dtype([(\"qint8\", np.int8, 1)])\n",
            "/usr/local/lib/python3.6/dist-packages/tensorboard/compat/tensorflow_stub/dtypes.py:542: FutureWarning: Passing (type, 1) or '1type' as a synonym of type is deprecated; in a future version of numpy, it will be understood as (type, (1,)) / '(1,)type'.\n",
            "  _np_quint8 = np.dtype([(\"quint8\", np.uint8, 1)])\n",
            "/usr/local/lib/python3.6/dist-packages/tensorboard/compat/tensorflow_stub/dtypes.py:543: FutureWarning: Passing (type, 1) or '1type' as a synonym of type is deprecated; in a future version of numpy, it will be understood as (type, (1,)) / '(1,)type'.\n",
            "  _np_qint16 = np.dtype([(\"qint16\", np.int16, 1)])\n",
            "/usr/local/lib/python3.6/dist-packages/tensorboard/compat/tensorflow_stub/dtypes.py:544: FutureWarning: Passing (type, 1) or '1type' as a synonym of type is deprecated; in a future version of numpy, it will be understood as (type, (1,)) / '(1,)type'.\n",
            "  _np_quint16 = np.dtype([(\"quint16\", np.uint16, 1)])\n",
            "/usr/local/lib/python3.6/dist-packages/tensorboard/compat/tensorflow_stub/dtypes.py:545: FutureWarning: Passing (type, 1) or '1type' as a synonym of type is deprecated; in a future version of numpy, it will be understood as (type, (1,)) / '(1,)type'.\n",
            "  _np_qint32 = np.dtype([(\"qint32\", np.int32, 1)])\n",
            "/usr/local/lib/python3.6/dist-packages/tensorboard/compat/tensorflow_stub/dtypes.py:550: FutureWarning: Passing (type, 1) or '1type' as a synonym of type is deprecated; in a future version of numpy, it will be understood as (type, (1,)) / '(1,)type'.\n",
            "  np_resource = np.dtype([(\"resource\", np.ubyte, 1)])\n"
          ],
          "name": "stderr"
        },
        {
          "output_type": "execute_result",
          "data": {
            "text/plain": [
              "'2.0.0-beta1'"
            ]
          },
          "metadata": {
            "tags": []
          },
          "execution_count": 1
        }
      ]
    },
    {
      "cell_type": "code",
      "metadata": {
        "id": "xbPSH9tzJbjm",
        "colab_type": "code",
        "colab": {}
      },
      "source": [
        "# Imports\n",
        "import pandas as pd\n",
        "import numpy as np\n",
        "import matplotlib.pyplot as plt\n",
        "from sklearn.preprocessing import StandardScaler\n",
        "from sklearn.model_selection import train_test_split"
      ],
      "execution_count": 0,
      "outputs": []
    },
    {
      "cell_type": "code",
      "metadata": {
        "id": "H2awqnBOhc06",
        "colab_type": "code",
        "colab": {
          "base_uri": "https://localhost:8080/",
          "height": 204
        },
        "outputId": "497268fe-6205-4c43-aae6-a1d0e0875378"
      },
      "source": [
        "# Importing data using the wget shell command\n",
        "!wget https://raw.githubusercontent.com/lazyprogrammer/machine_learning_examples/master/tf2.0/moore.csv"
      ],
      "execution_count": 3,
      "outputs": [
        {
          "output_type": "stream",
          "text": [
            "--2020-01-01 20:54:22--  https://raw.githubusercontent.com/lazyprogrammer/machine_learning_examples/master/tf2.0/moore.csv\n",
            "Resolving raw.githubusercontent.com (raw.githubusercontent.com)... 151.101.0.133, 151.101.64.133, 151.101.128.133, ...\n",
            "Connecting to raw.githubusercontent.com (raw.githubusercontent.com)|151.101.0.133|:443... connected.\n",
            "HTTP request sent, awaiting response... 200 OK\n",
            "Length: 2302 (2.2K) [text/plain]\n",
            "Saving to: ‘moore.csv.4’\n",
            "\n",
            "\rmoore.csv.4           0%[                    ]       0  --.-KB/s               \rmoore.csv.4         100%[===================>]   2.25K  --.-KB/s    in 0s      \n",
            "\n",
            "2020-01-01 20:54:22 (57.0 MB/s) - ‘moore.csv.4’ saved [2302/2302]\n",
            "\n"
          ],
          "name": "stdout"
        }
      ]
    },
    {
      "cell_type": "code",
      "metadata": {
        "id": "oqMe9yvuiDYq",
        "colab_type": "code",
        "colab": {}
      },
      "source": [
        "#Load the data\n",
        "data = pd.read_csv('moore.csv', header=None).values\n",
        "x = data[:,0].reshape(-1, 1)\n",
        "y = data[:,1]"
      ],
      "execution_count": 0,
      "outputs": []
    },
    {
      "cell_type": "code",
      "metadata": {
        "id": "pYpep8pujNJC",
        "colab_type": "code",
        "outputId": "58095a6c-e344-40ac-b728-84916a8ab971",
        "colab": {
          "base_uri": "https://localhost:8080/",
          "height": 293
        }
      },
      "source": [
        "# Plotting the data in the csv files\n",
        "plt.scatter(x,y)"
      ],
      "execution_count": 5,
      "outputs": [
        {
          "output_type": "execute_result",
          "data": {
            "text/plain": [
              "<matplotlib.collections.PathCollection at 0x7fa6d230d048>"
            ]
          },
          "metadata": {
            "tags": []
          },
          "execution_count": 5
        },
        {
          "output_type": "display_data",
          "data": {
            "image/png": "[encoded data removed]",
            "text/plain": [
              "<Figure size 432x288 with 1 Axes>"
            ]
          },
          "metadata": {
            "tags": []
          }
        }
      ]
    },
    {
      "cell_type": "code",
      "metadata": {
        "id": "3SxYGOH-jZvp",
        "colab_type": "code",
        "outputId": "8522847d-1304-4130-da4c-10fd092172b9",
        "colab": {
          "base_uri": "https://localhost:8080/",
          "height": 282
        }
      },
      "source": [
        "# Making the data linear rather than exponential\n",
        "y = np.log(y)\n",
        "plt.scatter(x, y)"
      ],
      "execution_count": 6,
      "outputs": [
        {
          "output_type": "execute_result",
          "data": {
            "text/plain": [
              "<matplotlib.collections.PathCollection at 0x7fa6c77c2ac8>"
            ]
          },
          "metadata": {
            "tags": []
          },
          "execution_count": 6
        },
        {
          "output_type": "display_data",
          "data": {
            "image/png": "[encoded data removed]",
            "text/plain": [
              "<Figure size 432x288 with 1 Axes>"
            ]
          },
          "metadata": {
            "tags": []
          }
        }
      ]
    },
    {
      "cell_type": "code",
      "metadata": {
        "id": "eyr2_KPEjqLJ",
        "colab_type": "code",
        "colab": {}
      },
      "source": [
        "# Centering the X - Values\n",
        "x = x - x.mean() # No scaling in this case"
      ],
      "execution_count": 0,
      "outputs": []
    },
    {
      "cell_type": "code",
      "metadata": {
        "id": "AX-QwS0qtj7A",
        "colab_type": "code",
        "colab": {}
      },
      "source": [
        "# Creating the learning rate Schedule\n",
        "def learning_rate_schedule(epochs, lr):\n",
        "  if epochs >= 50:\n",
        "    return 0.0001\n",
        "  return 0.001\n",
        "\n",
        "scheduler = tf.keras.callbacks.LearningRateScheduler(learning_rate_schedule) "
      ],
      "execution_count": 0,
      "outputs": []
    },
    {
      "cell_type": "code",
      "metadata": {
        "id": "k8-meLVIoM9s",
        "colab_type": "code",
        "colab": {
          "base_uri": "https://localhost:8080/",
          "height": 1000
        },
        "outputId": "00129c21-7400-4681-e24e-121e93e62e9a"
      },
      "source": [
        "# Instantiating the model, adding the Dense function compiling the model, training the model\n",
        "model = tf.keras.models.Sequential()\n",
        "model.add(tf.keras.layers.Dense(1, activation=None, input_shape=(1,)))\n",
        "model.compile(optimizer=tf.keras.optimizers.SGD(0.001,0.9), loss='mse')\n",
        "r = model.fit(x, y, epochs= 200, callbacks=[scheduler]) # Assumedly there can be more than one callback function"
      ],
      "execution_count": 9,
      "outputs": [
        {
          "output_type": "stream",
          "text": [
            "Train on 162 samples\n",
            "Epoch 1/200\n",
            "162/162 [==============================] - 0s 411us/sample - loss: 344.1511\n",
            "Epoch 2/200\n",
            "162/162 [==============================] - 0s 51us/sample - loss: 333.9800\n",
            "Epoch 3/200\n",
            "162/162 [==============================] - 0s 51us/sample - loss: 280.6307\n",
            "Epoch 4/200\n",
            "162/162 [==============================] - 0s 64us/sample - loss: 258.2984\n",
            "Epoch 5/200\n",
            "162/162 [==============================] - 0s 52us/sample - loss: 200.8265\n",
            "Epoch 6/200\n",
            "162/162 [==============================] - 0s 49us/sample - loss: 136.3364\n",
            "Epoch 7/200\n",
            "162/162 [==============================] - 0s 48us/sample - loss: 88.9466\n",
            "Epoch 8/200\n",
            "162/162 [==============================] - 0s 46us/sample - loss: 61.6484\n",
            "Epoch 9/200\n",
            "162/162 [==============================] - 0s 61us/sample - loss: 53.6180\n",
            "Epoch 10/200\n",
            "162/162 [==============================] - 0s 55us/sample - loss: 47.0589\n",
            "Epoch 11/200\n",
            "162/162 [==============================] - 0s 55us/sample - loss: 56.2988\n",
            "Epoch 12/200\n",
            "162/162 [==============================] - 0s 56us/sample - loss: 56.5965\n",
            "Epoch 13/200\n",
            "162/162 [==============================] - 0s 55us/sample - loss: 39.0362\n",
            "Epoch 14/200\n",
            "162/162 [==============================] - 0s 76us/sample - loss: 22.5514\n",
            "Epoch 15/200\n",
            "162/162 [==============================] - 0s 57us/sample - loss: 29.6071\n",
            "Epoch 16/200\n",
            "162/162 [==============================] - 0s 61us/sample - loss: 24.0260\n",
            "Epoch 17/200\n",
            "162/162 [==============================] - 0s 55us/sample - loss: 10.5801\n",
            "Epoch 18/200\n",
            "162/162 [==============================] - 0s 65us/sample - loss: 9.2825\n",
            "Epoch 19/200\n",
            "162/162 [==============================] - 0s 54us/sample - loss: 4.5763\n",
            "Epoch 20/200\n",
            "162/162 [==============================] - 0s 77us/sample - loss: 5.3586\n",
            "Epoch 21/200\n",
            "162/162 [==============================] - 0s 57us/sample - loss: 4.5952\n",
            "Epoch 22/200\n",
            "162/162 [==============================] - 0s 59us/sample - loss: 3.7685\n",
            "Epoch 23/200\n",
            "162/162 [==============================] - 0s 73us/sample - loss: 3.6543\n",
            "Epoch 24/200\n",
            "162/162 [==============================] - 0s 117us/sample - loss: 2.4263\n",
            "Epoch 25/200\n",
            "162/162 [==============================] - 0s 81us/sample - loss: 2.0637\n",
            "Epoch 26/200\n",
            "162/162 [==============================] - 0s 50us/sample - loss: 1.4133\n",
            "Epoch 27/200\n",
            "162/162 [==============================] - 0s 50us/sample - loss: 1.1632\n",
            "Epoch 28/200\n",
            "162/162 [==============================] - 0s 49us/sample - loss: 1.2914\n",
            "Epoch 29/200\n",
            "162/162 [==============================] - 0s 51us/sample - loss: 1.0401\n",
            "Epoch 30/200\n",
            "162/162 [==============================] - 0s 60us/sample - loss: 1.1022\n",
            "Epoch 31/200\n",
            "162/162 [==============================] - 0s 62us/sample - loss: 1.0608\n",
            "Epoch 32/200\n",
            "162/162 [==============================] - 0s 54us/sample - loss: 1.0463\n",
            "Epoch 33/200\n",
            "162/162 [==============================] - 0s 60us/sample - loss: 0.9130\n",
            "Epoch 34/200\n",
            "162/162 [==============================] - 0s 96us/sample - loss: 1.2224\n",
            "Epoch 35/200\n",
            "162/162 [==============================] - 0s 57us/sample - loss: 1.0795\n",
            "Epoch 36/200\n",
            "162/162 [==============================] - 0s 49us/sample - loss: 0.9607\n",
            "Epoch 37/200\n",
            "162/162 [==============================] - 0s 59us/sample - loss: 0.9794\n",
            "Epoch 38/200\n",
            "162/162 [==============================] - 0s 59us/sample - loss: 0.9114\n",
            "Epoch 39/200\n",
            "162/162 [==============================] - 0s 62us/sample - loss: 0.9297\n",
            "Epoch 40/200\n",
            "162/162 [==============================] - 0s 49us/sample - loss: 1.4594\n",
            "Epoch 41/200\n",
            "162/162 [==============================] - 0s 54us/sample - loss: 1.3137\n",
            "Epoch 42/200\n",
            "162/162 [==============================] - 0s 58us/sample - loss: 1.5308\n",
            "Epoch 43/200\n",
            "162/162 [==============================] - 0s 58us/sample - loss: 1.0553\n",
            "Epoch 44/200\n",
            "162/162 [==============================] - 0s 56us/sample - loss: 0.9842\n",
            "Epoch 45/200\n",
            "162/162 [==============================] - 0s 59us/sample - loss: 0.9567\n",
            "Epoch 46/200\n",
            "162/162 [==============================] - 0s 52us/sample - loss: 0.9209\n",
            "Epoch 47/200\n",
            "162/162 [==============================] - 0s 58us/sample - loss: 0.9430\n",
            "Epoch 48/200\n",
            "162/162 [==============================] - 0s 60us/sample - loss: 0.9983\n",
            "Epoch 49/200\n",
            "162/162 [==============================] - 0s 57us/sample - loss: 0.9871\n",
            "Epoch 50/200\n",
            "162/162 [==============================] - 0s 56us/sample - loss: 1.1214\n",
            "Epoch 51/200\n",
            "162/162 [==============================] - 0s 59us/sample - loss: 1.2071\n",
            "Epoch 52/200\n",
            "162/162 [==============================] - 0s 60us/sample - loss: 1.0028\n",
            "Epoch 53/200\n",
            "162/162 [==============================] - 0s 59us/sample - loss: 0.8698\n",
            "Epoch 54/200\n",
            "162/162 [==============================] - 0s 59us/sample - loss: 0.8793\n",
            "Epoch 55/200\n",
            "162/162 [==============================] - 0s 55us/sample - loss: 0.8763\n",
            "Epoch 56/200\n",
            "162/162 [==============================] - 0s 56us/sample - loss: 0.8818\n",
            "Epoch 57/200\n",
            "162/162 [==============================] - 0s 58us/sample - loss: 0.8792\n",
            "Epoch 58/200\n",
            "162/162 [==============================] - 0s 52us/sample - loss: 0.8731\n",
            "Epoch 59/200\n",
            "162/162 [==============================] - 0s 63us/sample - loss: 0.8737\n",
            "Epoch 60/200\n",
            "162/162 [==============================] - 0s 72us/sample - loss: 0.8740\n",
            "Epoch 61/200\n",
            "162/162 [==============================] - 0s 52us/sample - loss: 0.8746\n",
            "Epoch 62/200\n",
            "162/162 [==============================] - 0s 53us/sample - loss: 0.8687\n",
            "Epoch 63/200\n",
            "162/162 [==============================] - 0s 50us/sample - loss: 0.8734\n",
            "Epoch 64/200\n",
            "162/162 [==============================] - 0s 58us/sample - loss: 0.8707\n",
            "Epoch 65/200\n",
            "162/162 [==============================] - 0s 40us/sample - loss: 0.8755\n",
            "Epoch 66/200\n",
            "162/162 [==============================] - 0s 51us/sample - loss: 0.8710\n",
            "Epoch 67/200\n",
            "162/162 [==============================] - 0s 45us/sample - loss: 0.8716\n",
            "Epoch 68/200\n",
            "162/162 [==============================] - 0s 48us/sample - loss: 0.8720\n",
            "Epoch 69/200\n",
            "162/162 [==============================] - 0s 60us/sample - loss: 0.8712\n",
            "Epoch 70/200\n",
            "162/162 [==============================] - 0s 54us/sample - loss: 0.8728\n",
            "Epoch 71/200\n",
            "162/162 [==============================] - 0s 54us/sample - loss: 0.8706\n",
            "Epoch 72/200\n",
            "162/162 [==============================] - 0s 43us/sample - loss: 0.8734\n",
            "Epoch 73/200\n",
            "162/162 [==============================] - 0s 54us/sample - loss: 0.8727\n",
            "Epoch 74/200\n",
            "162/162 [==============================] - 0s 59us/sample - loss: 0.8780\n",
            "Epoch 75/200\n",
            "162/162 [==============================] - 0s 65us/sample - loss: 0.8764\n",
            "Epoch 76/200\n",
            "162/162 [==============================] - 0s 59us/sample - loss: 0.8703\n",
            "Epoch 77/200\n",
            "162/162 [==============================] - 0s 60us/sample - loss: 0.8725\n",
            "Epoch 78/200\n",
            "162/162 [==============================] - 0s 70us/sample - loss: 0.8749\n",
            "Epoch 79/200\n",
            "162/162 [==============================] - 0s 69us/sample - loss: 0.9098\n",
            "Epoch 80/200\n",
            "162/162 [==============================] - 0s 56us/sample - loss: 0.8876\n",
            "Epoch 81/200\n",
            "162/162 [==============================] - 0s 61us/sample - loss: 0.8837\n",
            "Epoch 82/200\n",
            "162/162 [==============================] - 0s 54us/sample - loss: 0.8960\n",
            "Epoch 83/200\n",
            "162/162 [==============================] - 0s 49us/sample - loss: 0.8725\n",
            "Epoch 84/200\n",
            "162/162 [==============================] - 0s 48us/sample - loss: 0.8749\n",
            "Epoch 85/200\n",
            "162/162 [==============================] - 0s 48us/sample - loss: 0.8842\n",
            "Epoch 86/200\n",
            "162/162 [==============================] - 0s 47us/sample - loss: 0.8794\n",
            "Epoch 87/200\n",
            "162/162 [==============================] - 0s 64us/sample - loss: 0.9010\n",
            "Epoch 88/200\n",
            "162/162 [==============================] - 0s 63us/sample - loss: 0.8776\n",
            "Epoch 89/200\n",
            "162/162 [==============================] - 0s 63us/sample - loss: 0.8706\n",
            "Epoch 90/200\n",
            "162/162 [==============================] - 0s 69us/sample - loss: 0.8719\n",
            "Epoch 91/200\n",
            "162/162 [==============================] - 0s 55us/sample - loss: 0.8725\n",
            "Epoch 92/200\n",
            "162/162 [==============================] - 0s 55us/sample - loss: 0.8744\n",
            "Epoch 93/200\n",
            "162/162 [==============================] - 0s 53us/sample - loss: 0.8765\n",
            "Epoch 94/200\n",
            "162/162 [==============================] - 0s 61us/sample - loss: 0.8767\n",
            "Epoch 95/200\n",
            "162/162 [==============================] - 0s 60us/sample - loss: 0.8868\n",
            "Epoch 96/200\n",
            "162/162 [==============================] - 0s 57us/sample - loss: 0.8752\n",
            "Epoch 97/200\n",
            "162/162 [==============================] - 0s 52us/sample - loss: 0.8725\n",
            "Epoch 98/200\n",
            "162/162 [==============================] - 0s 66us/sample - loss: 0.8748\n",
            "Epoch 99/200\n",
            "162/162 [==============================] - 0s 56us/sample - loss: 0.8759\n",
            "Epoch 100/200\n",
            "162/162 [==============================] - 0s 56us/sample - loss: 0.8803\n",
            "Epoch 101/200\n",
            "162/162 [==============================] - 0s 53us/sample - loss: 0.8710\n",
            "Epoch 102/200\n",
            "162/162 [==============================] - 0s 53us/sample - loss: 0.8783\n",
            "Epoch 103/200\n",
            "162/162 [==============================] - 0s 60us/sample - loss: 0.9067\n",
            "Epoch 104/200\n",
            "162/162 [==============================] - 0s 72us/sample - loss: 0.8774\n",
            "Epoch 105/200\n",
            "162/162 [==============================] - 0s 68us/sample - loss: 0.8788\n",
            "Epoch 106/200\n",
            "162/162 [==============================] - 0s 67us/sample - loss: 0.8827\n",
            "Epoch 107/200\n",
            "162/162 [==============================] - 0s 52us/sample - loss: 0.8711\n",
            "Epoch 108/200\n",
            "162/162 [==============================] - 0s 54us/sample - loss: 0.8710\n",
            "Epoch 109/200\n",
            "162/162 [==============================] - 0s 59us/sample - loss: 0.8731\n",
            "Epoch 110/200\n",
            "162/162 [==============================] - 0s 50us/sample - loss: 0.8809\n",
            "Epoch 111/200\n",
            "162/162 [==============================] - 0s 54us/sample - loss: 0.8816\n",
            "Epoch 112/200\n",
            "162/162 [==============================] - 0s 51us/sample - loss: 0.8753\n",
            "Epoch 113/200\n",
            "162/162 [==============================] - 0s 54us/sample - loss: 0.8734\n",
            "Epoch 114/200\n",
            "162/162 [==============================] - 0s 58us/sample - loss: 0.8721\n",
            "Epoch 115/200\n",
            "162/162 [==============================] - 0s 58us/sample - loss: 0.8932\n",
            "Epoch 116/200\n",
            "162/162 [==============================] - 0s 59us/sample - loss: 0.8867\n",
            "Epoch 117/200\n",
            "162/162 [==============================] - 0s 57us/sample - loss: 0.8676\n",
            "Epoch 118/200\n",
            "162/162 [==============================] - 0s 55us/sample - loss: 0.9487\n",
            "Epoch 119/200\n",
            "162/162 [==============================] - 0s 54us/sample - loss: 0.9514\n",
            "Epoch 120/200\n",
            "162/162 [==============================] - 0s 61us/sample - loss: 0.8625\n",
            "Epoch 121/200\n",
            "162/162 [==============================] - 0s 69us/sample - loss: 0.9109\n",
            "Epoch 122/200\n",
            "162/162 [==============================] - 0s 55us/sample - loss: 0.8881\n",
            "Epoch 123/200\n",
            "162/162 [==============================] - 0s 62us/sample - loss: 0.8985\n",
            "Epoch 124/200\n",
            "162/162 [==============================] - 0s 63us/sample - loss: 0.9279\n",
            "Epoch 125/200\n",
            "162/162 [==============================] - 0s 53us/sample - loss: 0.8980\n",
            "Epoch 126/200\n",
            "162/162 [==============================] - 0s 54us/sample - loss: 0.8755\n",
            "Epoch 127/200\n",
            "162/162 [==============================] - 0s 52us/sample - loss: 0.8798\n",
            "Epoch 128/200\n",
            "162/162 [==============================] - 0s 57us/sample - loss: 0.8759\n",
            "Epoch 129/200\n",
            "162/162 [==============================] - 0s 61us/sample - loss: 0.8738\n",
            "Epoch 130/200\n",
            "162/162 [==============================] - 0s 58us/sample - loss: 0.8715\n",
            "Epoch 131/200\n",
            "162/162 [==============================] - 0s 54us/sample - loss: 0.8728\n",
            "Epoch 132/200\n",
            "162/162 [==============================] - 0s 61us/sample - loss: 0.8725\n",
            "Epoch 133/200\n",
            "162/162 [==============================] - 0s 54us/sample - loss: 0.8758\n",
            "Epoch 134/200\n",
            "162/162 [==============================] - 0s 57us/sample - loss: 0.8769\n",
            "Epoch 135/200\n",
            "162/162 [==============================] - 0s 60us/sample - loss: 0.8713\n",
            "Epoch 136/200\n",
            "162/162 [==============================] - 0s 59us/sample - loss: 0.8705\n",
            "Epoch 137/200\n",
            "162/162 [==============================] - 0s 53us/sample - loss: 0.8697\n",
            "Epoch 138/200\n",
            "162/162 [==============================] - 0s 67us/sample - loss: 0.8775\n",
            "Epoch 139/200\n",
            "162/162 [==============================] - 0s 59us/sample - loss: 0.8787\n",
            "Epoch 140/200\n",
            "162/162 [==============================] - 0s 57us/sample - loss: 0.8727\n",
            "Epoch 141/200\n",
            "162/162 [==============================] - 0s 66us/sample - loss: 0.8702\n",
            "Epoch 142/200\n",
            "162/162 [==============================] - 0s 50us/sample - loss: 0.8748\n",
            "Epoch 143/200\n",
            "162/162 [==============================] - 0s 65us/sample - loss: 0.8751\n",
            "Epoch 144/200\n",
            "162/162 [==============================] - 0s 58us/sample - loss: 0.8725\n",
            "Epoch 145/200\n",
            "162/162 [==============================] - 0s 63us/sample - loss: 0.8706\n",
            "Epoch 146/200\n",
            "162/162 [==============================] - 0s 64us/sample - loss: 0.8868\n",
            "Epoch 147/200\n",
            "162/162 [==============================] - 0s 59us/sample - loss: 0.8873\n",
            "Epoch 148/200\n",
            "162/162 [==============================] - 0s 54us/sample - loss: 0.8742\n",
            "Epoch 149/200\n",
            "162/162 [==============================] - 0s 50us/sample - loss: 0.8792\n",
            "Epoch 150/200\n",
            "162/162 [==============================] - 0s 57us/sample - loss: 0.8736\n",
            "Epoch 151/200\n",
            "162/162 [==============================] - 0s 59us/sample - loss: 0.8757\n",
            "Epoch 152/200\n",
            "162/162 [==============================] - 0s 59us/sample - loss: 0.8796\n",
            "Epoch 153/200\n",
            "162/162 [==============================] - 0s 55us/sample - loss: 0.8727\n",
            "Epoch 154/200\n",
            "162/162 [==============================] - 0s 52us/sample - loss: 0.8704\n",
            "Epoch 155/200\n",
            "162/162 [==============================] - 0s 57us/sample - loss: 0.8725\n",
            "Epoch 156/200\n",
            "162/162 [==============================] - 0s 77us/sample - loss: 0.8734\n",
            "Epoch 157/200\n",
            "162/162 [==============================] - 0s 77us/sample - loss: 0.8770\n",
            "Epoch 158/200\n",
            "162/162 [==============================] - 0s 55us/sample - loss: 0.8713\n",
            "Epoch 159/200\n",
            "162/162 [==============================] - 0s 52us/sample - loss: 0.8734\n",
            "Epoch 160/200\n",
            "162/162 [==============================] - 0s 51us/sample - loss: 0.8729\n",
            "Epoch 161/200\n",
            "162/162 [==============================] - 0s 55us/sample - loss: 0.8710\n",
            "Epoch 162/200\n",
            "162/162 [==============================] - 0s 52us/sample - loss: 0.8737\n",
            "Epoch 163/200\n",
            "162/162 [==============================] - 0s 48us/sample - loss: 0.8706\n",
            "Epoch 164/200\n",
            "162/162 [==============================] - 0s 63us/sample - loss: 0.8736\n",
            "Epoch 165/200\n",
            "162/162 [==============================] - 0s 46us/sample - loss: 0.8741\n",
            "Epoch 166/200\n",
            "162/162 [==============================] - 0s 67us/sample - loss: 0.8721\n",
            "Epoch 167/200\n",
            "162/162 [==============================] - 0s 56us/sample - loss: 0.8706\n",
            "Epoch 168/200\n",
            "162/162 [==============================] - 0s 50us/sample - loss: 0.8706\n",
            "Epoch 169/200\n",
            "162/162 [==============================] - 0s 57us/sample - loss: 0.8773\n",
            "Epoch 170/200\n",
            "162/162 [==============================] - 0s 57us/sample - loss: 0.8770\n",
            "Epoch 171/200\n",
            "162/162 [==============================] - 0s 51us/sample - loss: 0.8791\n",
            "Epoch 172/200\n",
            "162/162 [==============================] - 0s 58us/sample - loss: 0.9006\n",
            "Epoch 173/200\n",
            "162/162 [==============================] - 0s 54us/sample - loss: 0.8909\n",
            "Epoch 174/200\n",
            "162/162 [==============================] - 0s 62us/sample - loss: 0.8761\n",
            "Epoch 175/200\n",
            "162/162 [==============================] - 0s 55us/sample - loss: 0.8728\n",
            "Epoch 176/200\n",
            "162/162 [==============================] - 0s 61us/sample - loss: 0.8731\n",
            "Epoch 177/200\n",
            "162/162 [==============================] - 0s 55us/sample - loss: 0.8723\n",
            "Epoch 178/200\n",
            "162/162 [==============================] - 0s 59us/sample - loss: 0.8816\n",
            "Epoch 179/200\n",
            "162/162 [==============================] - 0s 59us/sample - loss: 0.8786\n",
            "Epoch 180/200\n",
            "162/162 [==============================] - 0s 62us/sample - loss: 0.8716\n",
            "Epoch 181/200\n",
            "162/162 [==============================] - 0s 71us/sample - loss: 0.8706\n",
            "Epoch 182/200\n",
            "162/162 [==============================] - 0s 63us/sample - loss: 0.8789\n",
            "Epoch 183/200\n",
            "162/162 [==============================] - 0s 59us/sample - loss: 0.8804\n",
            "Epoch 184/200\n",
            "162/162 [==============================] - 0s 59us/sample - loss: 0.8687\n",
            "Epoch 185/200\n",
            "162/162 [==============================] - 0s 58us/sample - loss: 0.8715\n",
            "Epoch 186/200\n",
            "162/162 [==============================] - 0s 60us/sample - loss: 0.8707\n",
            "Epoch 187/200\n",
            "162/162 [==============================] - 0s 63us/sample - loss: 0.8711\n",
            "Epoch 188/200\n",
            "162/162 [==============================] - 0s 61us/sample - loss: 0.8708\n",
            "Epoch 189/200\n",
            "162/162 [==============================] - 0s 66us/sample - loss: 0.8686\n",
            "Epoch 190/200\n",
            "162/162 [==============================] - 0s 60us/sample - loss: 0.8731\n",
            "Epoch 191/200\n",
            "162/162 [==============================] - 0s 61us/sample - loss: 0.8733\n",
            "Epoch 192/200\n",
            "162/162 [==============================] - 0s 61us/sample - loss: 0.8777\n",
            "Epoch 193/200\n",
            "162/162 [==============================] - 0s 59us/sample - loss: 0.8763\n",
            "Epoch 194/200\n",
            "162/162 [==============================] - 0s 58us/sample - loss: 0.9088\n",
            "Epoch 195/200\n",
            "162/162 [==============================] - 0s 55us/sample - loss: 0.9714\n",
            "Epoch 196/200\n",
            "162/162 [==============================] - 0s 57us/sample - loss: 0.8914\n",
            "Epoch 197/200\n",
            "162/162 [==============================] - 0s 59us/sample - loss: 0.9338\n",
            "Epoch 198/200\n",
            "162/162 [==============================] - 0s 49us/sample - loss: 0.8973\n",
            "Epoch 199/200\n",
            "162/162 [==============================] - 0s 58us/sample - loss: 0.8819\n",
            "Epoch 200/200\n",
            "162/162 [==============================] - 0s 53us/sample - loss: 0.8845\n"
          ],
          "name": "stdout"
        }
      ]
    },
    {
      "cell_type": "code",
      "metadata": {
        "id": "lJYLXO3gw7AI",
        "colab_type": "code",
        "colab": {
          "base_uri": "https://localhost:8080/",
          "height": 282
        },
        "outputId": "79811702-bffe-43a9-9aad-dfb523cdbd56"
      },
      "source": [
        "# Plotting the loss\n",
        "plt.plot(r.history['loss'], label = 'loss')"
      ],
      "execution_count": 10,
      "outputs": [
        {
          "output_type": "execute_result",
          "data": {
            "text/plain": [
              "[<matplotlib.lines.Line2D at 0x7fa6c1ff71d0>]"
            ]
          },
          "metadata": {
            "tags": []
          },
          "execution_count": 10
        },
        {
          "output_type": "display_data",
          "data": {
            "image/png": "[encoded data removed]",
            "text/plain": [
              "<Figure size 432x288 with 1 Axes>"
            ]
          },
          "metadata": {
            "tags": []
          }
        }
      ]
    },
    {
      "cell_type": "code",
      "metadata": {
        "id": "sLdHenXfy6qx",
        "colab_type": "code",
        "colab": {
          "base_uri": "https://localhost:8080/",
          "height": 51
        },
        "outputId": "e5b74fa9-e15d-4aa5-cb4f-7ed3612d30e8"
      },
      "source": [
        "# Getting the slope of the line, which should show the doubling of the transistor count\n",
        "print(model.layers) # There is only one layer, the input layer is a dummy layer\n",
        "print(model.layers[0].get_weights())\n",
        "a = model.layers[0].get_weights()[0][0,0] # The shape of the arrays is a general shape for the dense layer rather than a shape consitent with the current output(s)"
      ],
      "execution_count": 11,
      "outputs": [
        {
          "output_type": "stream",
          "text": [
            "[<tensorflow.python.keras.layers.core.Dense object at 0x7fa6c7781828>]\n",
            "[array([[0.33498946]], dtype=float32), array([17.775206], dtype=float32)]\n"
          ],
          "name": "stdout"
        }
      ]
    },
    {
      "cell_type": "code",
      "metadata": {
        "id": "mp3nrzEP0dnA",
        "colab_type": "code",
        "colab": {
          "base_uri": "https://localhost:8080/",
          "height": 34
        },
        "outputId": "38b8fb08-24c5-4384-bac0-d0f66db0d044"
      },
      "source": [
        "print('Time for transitors to double', np.log(2)/a)"
      ],
      "execution_count": 12,
      "outputs": [
        {
          "output_type": "stream",
          "text": [
            "Time to double 2.06916117310351\n"
          ],
          "name": "stdout"
        }
      ]
    }
  ]
}