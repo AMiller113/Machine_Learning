{
  "nbformat": 4,
  "nbformat_minor": 0,
  "metadata": {
    "colab": {
      "name": "SimpleRNN Time Series",
      "provenance": [],
      "include_colab_link": true
    },
    "kernelspec": {
      "name": "python3",
      "display_name": "Python 3"
    },
    "accelerator": "GPU"
  },
  "cells": [
    {
      "cell_type": "markdown",
      "metadata": {
        "id": "view-in-github",
        "colab_type": "text"
      },
      "source": [
        "<a href=\"https://colab.research.google.com/github/AMiller113/Machine_Learning/blob/master/SimpleRNN_Time_Series.ipynb\" target=\"_parent\"><img src=\"https://colab.research.google.com/assets/colab-badge.svg\" alt=\"Open In Colab\"/></a>"
      ]
    },
    {
      "cell_type": "code",
      "metadata": {
        "id": "32ghbcJSaR8u",
        "colab_type": "code",
        "outputId": "2ef9dca2-1a1f-4fce-9816-7d6dd7ac2ab2",
        "colab": {
          "base_uri": "https://localhost:8080/",
          "height": 168
        }
      },
      "source": [
        "!pip install -q tensorflow-gpu\n",
        "import tensorflow as tf\n",
        "tf.__version__"
      ],
      "execution_count": 1,
      "outputs": [
        {
          "output_type": "stream",
          "text": [
            "\u001b[K     |████████████████████████████████| 421.8MB 41kB/s \n",
            "\u001b[K     |████████████████████████████████| 450kB 56.1MB/s \n",
            "\u001b[K     |████████████████████████████████| 3.8MB 45.3MB/s \n",
            "\u001b[K     |████████████████████████████████| 81kB 11.4MB/s \n",
            "\u001b[31mERROR: tensorflow 1.15.0 has requirement tensorboard<1.16.0,>=1.15.0, but you'll have tensorboard 2.1.0 which is incompatible.\u001b[0m\n",
            "\u001b[31mERROR: tensorflow 1.15.0 has requirement tensorflow-estimator==1.15.1, but you'll have tensorflow-estimator 2.1.0 which is incompatible.\u001b[0m\n",
            "\u001b[31mERROR: tensorboard 2.1.0 has requirement grpcio>=1.24.3, but you'll have grpcio 1.15.0 which is incompatible.\u001b[0m\n",
            "\u001b[31mERROR: google-colab 1.0.0 has requirement google-auth~=1.4.0, but you'll have google-auth 1.10.1 which is incompatible.\u001b[0m\n",
            "\u001b[?25h"
          ],
          "name": "stdout"
        },
        {
          "output_type": "execute_result",
          "data": {
            "text/plain": [
              "'2.1.0'"
            ]
          },
          "metadata": {
            "tags": []
          },
          "execution_count": 1
        }
      ]
    },
    {
      "cell_type": "code",
      "metadata": {
        "id": "I3k4S6R-ag44",
        "colab_type": "code",
        "colab": {}
      },
      "source": [
        "from tensorflow.keras.layers import Input, SimpleRNN,Dense\n",
        "from tensorflow.keras.models import Model\n",
        "from tensorflow.keras.optimizers import SGD, Adam\n",
        "\n",
        "import numpy as np\n",
        "import pandas as pd\n",
        "import matplotlib.pyplot as plt"
      ],
      "execution_count": 0,
      "outputs": []
    },
    {
      "cell_type": "code",
      "metadata": {
        "id": "8ure13i3bAls",
        "colab_type": "code",
        "colab": {}
      },
      "source": [
        "# Synthentic Data Creation\n",
        "series_normal = np.sin(.1*np.arange(200))\n",
        "series_noisy = np.sin(.1*np.arange(200)) + np.random.randn(200)*0.1 # Second Part adds noise to the sine wave"
      ],
      "execution_count": 0,
      "outputs": []
    },
    {
      "cell_type": "code",
      "metadata": {
        "id": "9GgVtYEnifdT",
        "colab_type": "code",
        "outputId": "5840fe46-4a04-4829-b134-b6265c562ab1",
        "colab": {
          "base_uri": "https://localhost:8080/",
          "height": 265
        }
      },
      "source": [
        "# Plot normal Sine Wave\n",
        "plt.plot(series_normal)\n",
        "plt.show()"
      ],
      "execution_count": 4,
      "outputs": [
        {
          "output_type": "display_data",
          "data": {
            "image/png": "[encoded data removed]",
            "text/plain": [
              "<Figure size 432x288 with 1 Axes>"
            ]
          },
          "metadata": {
            "tags": []
          }
        }
      ]
    },
    {
      "cell_type": "code",
      "metadata": {
        "id": "TMvnkMm0i2-O",
        "colab_type": "code",
        "outputId": "6361160b-deb8-491a-852e-0a1b6c746758",
        "colab": {
          "base_uri": "https://localhost:8080/",
          "height": 265
        }
      },
      "source": [
        "# Plot noisy Sine Wave\n",
        "plt.plot(series_noisy)\n",
        "plt.show()"
      ],
      "execution_count": 5,
      "outputs": [
        {
          "output_type": "display_data",
          "data": {
            "image/png": "[encoded data removed]",
            "text/plain": [
              "<Figure size 432x288 with 1 Axes>"
            ]
          },
          "metadata": {
            "tags": []
          }
        }
      ]
    },
    {
      "cell_type": "code",
      "metadata": {
        "id": "vOzvUP8cbiBZ",
        "colab_type": "code",
        "outputId": "ae408ac7-c48b-46ff-fd06-a2f42e15689f",
        "colab": {
          "base_uri": "https://localhost:8080/",
          "height": 34
        }
      },
      "source": [
        "# Setting up normal sine wave data for time series prediction\n",
        "T = 10 # Amount of values used to predict the next value\n",
        "X_norm = [] # Holds the inputs\n",
        "Y_norm = [] # Holds the targets\n",
        "for t in range((len(series_normal))- T): # The length of N is equal to the total length of the data set minus the length of the time sequence\n",
        "  x = series_normal[t:t+T] # Holds a set of T values\n",
        "  X_norm.append(x) # Appends the set of T values to list X\n",
        "  y = series_normal[t+T] # Holds the target of the set of T values\n",
        "  Y_norm.append(y) # appends the target to list Y\n",
        "\n",
        "X_norm = np.array(X_norm).reshape(-1, T, 1) # Makes list X an array and sets the size to (N X T x 1) for the SimpleRNN\n",
        "Y_norm= np.array(Y_norm) # Makes Y an array, no reshaping necessary as the lenth of Y is already equal to X\n",
        "N_norm = len(X_norm) # Sets N to the length of array X\n",
        "print('X.shape =', X_norm.shape, ', Y.shape =',Y_norm.shape)"
      ],
      "execution_count": 6,
      "outputs": [
        {
          "output_type": "stream",
          "text": [
            "X.shape = (190, 10, 1) , Y.shape = (190,)\n"
          ],
          "name": "stdout"
        }
      ]
    },
    {
      "cell_type": "code",
      "metadata": {
        "id": "a6K4OCe4jz3U",
        "colab_type": "code",
        "outputId": "1cefd6c1-afd8-44d4-a396-d74d16ac7be6",
        "colab": {
          "base_uri": "https://localhost:8080/",
          "height": 34
        }
      },
      "source": [
        "# # Setting up noisy sine wave data for time series prediction\n",
        "T = 10 # Amount of values used to predict the next value\n",
        "X_noise = [] # Holds the inputs\n",
        "Y_noise = [] # Holds the targets\n",
        "for t in range((len(series_noisy))- T): # The length of N is equal to the total length of the data set minus the length of the time sequence\n",
        "  x = series_noisy[t:t+T] # Holds a set of T values\n",
        "  X_noise.append(x) # Appends the set of T values to list X\n",
        "  y = series_noisy[t+T] # Holds the target of the set of T values\n",
        "  Y_noise.append(y) # appends the target to list Y\n",
        "\n",
        "X_noise = np.array(X_noise).reshape(-1, T, 1) # Makes list X an array and sets the size to (N X T x 1) for the SimpleRNN\n",
        "Y_noise = np.array(Y_noise) # Makes Y an array, no reshaping necessary as the lenth of Y is already equal to X\n",
        "N_noise = len(X_noise) # Sets N to the length of array X\n",
        "print('X.shape =', X_noise.shape, ', Y.shape =',Y_noise.shape)"
      ],
      "execution_count": 7,
      "outputs": [
        {
          "output_type": "stream",
          "text": [
            "X.shape = (190, 10, 1) , Y.shape = (190,)\n"
          ],
          "name": "stdout"
        }
      ]
    },
    {
      "cell_type": "code",
      "metadata": {
        "id": "4jl27tR4li3I",
        "colab_type": "code",
        "colab": {}
      },
      "source": [
        "# Creating the SimpleRNN model\n",
        "\n",
        "i = Input(shape=(T,1))\n",
        "x = SimpleRNN(5, activation='relu')(i)\n",
        "x = Dense(1)(x)\n",
        "\n",
        "model_norm = Model(i,x)\n",
        "model_norm.compile(optimizer=Adam(lr=0.1),\n",
        "              loss='mse')\n",
        "\n",
        "model_noise = Model(i,x)\n",
        "model_noise.compile(optimizer=Adam(lr=0.1),\n",
        "              loss='mse')"
      ],
      "execution_count": 0,
      "outputs": []
    },
    {
      "cell_type": "code",
      "metadata": {
        "id": "aY5UtgN6mGZ8",
        "colab_type": "code",
        "outputId": "75df68bd-060a-4114-e983-1f053d9e459c",
        "colab": {
          "base_uri": "https://localhost:8080/",
          "height": 1000
        }
      },
      "source": [
        "r_norm = model_norm.fit(X_norm[:-N_norm//2], Y_norm[:-N_norm//2], epochs=120, batch_size=32 ,validation_data=(X_norm[-N_norm//2:], Y_norm[-N_norm//2:]))"
      ],
      "execution_count": 9,
      "outputs": [
        {
          "output_type": "stream",
          "text": [
            "Train on 95 samples, validate on 95 samples\n",
            "Epoch 1/120\n",
            "95/95 [==============================] - 2s 22ms/sample - loss: 1.8176 - val_loss: 0.5029\n",
            "Epoch 2/120\n",
            "95/95 [==============================] - 0s 379us/sample - loss: 0.5579 - val_loss: 0.4340\n",
            "Epoch 3/120\n",
            "95/95 [==============================] - 0s 357us/sample - loss: 0.4953 - val_loss: 0.4268\n",
            "Epoch 4/120\n",
            "95/95 [==============================] - 0s 383us/sample - loss: 0.4580 - val_loss: 0.4413\n",
            "Epoch 5/120\n",
            "95/95 [==============================] - 0s 336us/sample - loss: 0.4181 - val_loss: 0.4287\n",
            "Epoch 6/120\n",
            "95/95 [==============================] - 0s 369us/sample - loss: 0.3685 - val_loss: 0.3336\n",
            "Epoch 7/120\n",
            "95/95 [==============================] - 0s 341us/sample - loss: 0.2823 - val_loss: 0.1852\n",
            "Epoch 8/120\n",
            "95/95 [==============================] - 0s 331us/sample - loss: 0.1743 - val_loss: 0.0816\n",
            "Epoch 9/120\n",
            "95/95 [==============================] - 0s 329us/sample - loss: 0.1110 - val_loss: 0.0641\n",
            "Epoch 10/120\n",
            "95/95 [==============================] - 0s 350us/sample - loss: 0.0900 - val_loss: 0.0762\n",
            "Epoch 11/120\n",
            "95/95 [==============================] - 0s 376us/sample - loss: 0.0696 - val_loss: 0.0440\n",
            "Epoch 12/120\n",
            "95/95 [==============================] - 0s 406us/sample - loss: 0.0408 - val_loss: 0.0290\n",
            "Epoch 13/120\n",
            "95/95 [==============================] - 0s 493us/sample - loss: 0.0409 - val_loss: 0.0347\n",
            "Epoch 14/120\n",
            "95/95 [==============================] - 0s 522us/sample - loss: 0.0430 - val_loss: 0.0263\n",
            "Epoch 15/120\n",
            "95/95 [==============================] - 0s 402us/sample - loss: 0.0306 - val_loss: 0.0233\n",
            "Epoch 16/120\n",
            "95/95 [==============================] - 0s 360us/sample - loss: 0.0211 - val_loss: 0.0214\n",
            "Epoch 17/120\n",
            "95/95 [==============================] - 0s 411us/sample - loss: 0.0138 - val_loss: 0.0079\n",
            "Epoch 18/120\n",
            "95/95 [==============================] - 0s 340us/sample - loss: 0.0061 - val_loss: 0.0030\n",
            "Epoch 19/120\n",
            "95/95 [==============================] - 0s 736us/sample - loss: 0.0053 - val_loss: 0.0055\n",
            "Epoch 20/120\n",
            "95/95 [==============================] - 0s 397us/sample - loss: 0.0067 - val_loss: 0.0065\n",
            "Epoch 21/120\n",
            "95/95 [==============================] - 0s 348us/sample - loss: 0.0068 - val_loss: 0.0059\n",
            "Epoch 22/120\n",
            "95/95 [==============================] - 0s 352us/sample - loss: 0.0049 - val_loss: 0.0033\n",
            "Epoch 23/120\n",
            "95/95 [==============================] - 0s 341us/sample - loss: 0.0026 - val_loss: 0.0020\n",
            "Epoch 24/120\n",
            "95/95 [==============================] - 0s 406us/sample - loss: 0.0022 - val_loss: 0.0022\n",
            "Epoch 25/120\n",
            "95/95 [==============================] - 0s 387us/sample - loss: 0.0027 - val_loss: 0.0030\n",
            "Epoch 26/120\n",
            "95/95 [==============================] - 0s 354us/sample - loss: 0.0027 - val_loss: 0.0028\n",
            "Epoch 27/120\n",
            "95/95 [==============================] - 0s 504us/sample - loss: 0.0023 - val_loss: 0.0022\n",
            "Epoch 28/120\n",
            "95/95 [==============================] - 0s 346us/sample - loss: 0.0017 - val_loss: 0.0018\n",
            "Epoch 29/120\n",
            "95/95 [==============================] - 0s 357us/sample - loss: 0.0017 - val_loss: 0.0020\n",
            "Epoch 30/120\n",
            "95/95 [==============================] - 0s 342us/sample - loss: 0.0018 - val_loss: 0.0022\n",
            "Epoch 31/120\n",
            "95/95 [==============================] - 0s 332us/sample - loss: 0.0017 - val_loss: 0.0019\n",
            "Epoch 32/120\n",
            "95/95 [==============================] - 0s 344us/sample - loss: 0.0015 - val_loss: 0.0018\n",
            "Epoch 33/120\n",
            "95/95 [==============================] - 0s 350us/sample - loss: 0.0015 - val_loss: 0.0018\n",
            "Epoch 34/120\n",
            "95/95 [==============================] - 0s 387us/sample - loss: 0.0014 - val_loss: 0.0015\n",
            "Epoch 35/120\n",
            "95/95 [==============================] - 0s 368us/sample - loss: 0.0014 - val_loss: 0.0014\n",
            "Epoch 36/120\n",
            "95/95 [==============================] - 0s 358us/sample - loss: 0.0013 - val_loss: 0.0016\n",
            "Epoch 37/120\n",
            "95/95 [==============================] - 0s 361us/sample - loss: 0.0012 - val_loss: 0.0013\n",
            "Epoch 38/120\n",
            "95/95 [==============================] - 0s 491us/sample - loss: 0.0011 - val_loss: 0.0012\n",
            "Epoch 39/120\n",
            "95/95 [==============================] - 0s 467us/sample - loss: 0.0010 - val_loss: 0.0011\n",
            "Epoch 40/120\n",
            "95/95 [==============================] - 0s 414us/sample - loss: 9.1892e-04 - val_loss: 0.0010\n",
            "Epoch 41/120\n",
            "95/95 [==============================] - 0s 456us/sample - loss: 8.1685e-04 - val_loss: 8.3303e-04\n",
            "Epoch 42/120\n",
            "95/95 [==============================] - 0s 384us/sample - loss: 7.0022e-04 - val_loss: 6.6025e-04\n",
            "Epoch 43/120\n",
            "95/95 [==============================] - 0s 337us/sample - loss: 5.8696e-04 - val_loss: 4.9705e-04\n",
            "Epoch 44/120\n",
            "95/95 [==============================] - 0s 353us/sample - loss: 4.6437e-04 - val_loss: 3.9121e-04\n",
            "Epoch 45/120\n",
            "95/95 [==============================] - 0s 385us/sample - loss: 3.7863e-04 - val_loss: 3.4336e-04\n",
            "Epoch 46/120\n",
            "95/95 [==============================] - 0s 371us/sample - loss: 2.6579e-04 - val_loss: 1.6646e-04\n",
            "Epoch 47/120\n",
            "95/95 [==============================] - 0s 355us/sample - loss: 1.9799e-04 - val_loss: 9.6839e-05\n",
            "Epoch 48/120\n",
            "95/95 [==============================] - 0s 413us/sample - loss: 1.3367e-04 - val_loss: 8.9779e-05\n",
            "Epoch 49/120\n",
            "95/95 [==============================] - 0s 341us/sample - loss: 1.0280e-04 - val_loss: 4.5931e-05\n",
            "Epoch 50/120\n",
            "95/95 [==============================] - 0s 344us/sample - loss: 8.1195e-05 - val_loss: 4.1420e-05\n",
            "Epoch 51/120\n",
            "95/95 [==============================] - 0s 389us/sample - loss: 6.9417e-05 - val_loss: 3.8632e-05\n",
            "Epoch 52/120\n",
            "95/95 [==============================] - 0s 420us/sample - loss: 6.3572e-05 - val_loss: 3.4002e-05\n",
            "Epoch 53/120\n",
            "95/95 [==============================] - 0s 463us/sample - loss: 5.6023e-05 - val_loss: 3.2616e-05\n",
            "Epoch 54/120\n",
            "95/95 [==============================] - 0s 417us/sample - loss: 4.5755e-05 - val_loss: 2.4796e-05\n",
            "Epoch 55/120\n",
            "95/95 [==============================] - 0s 484us/sample - loss: 3.3328e-05 - val_loss: 1.7169e-05\n",
            "Epoch 56/120\n",
            "95/95 [==============================] - 0s 450us/sample - loss: 2.4327e-05 - val_loss: 1.1267e-05\n",
            "Epoch 57/120\n",
            "95/95 [==============================] - 0s 372us/sample - loss: 1.7013e-05 - val_loss: 1.0161e-05\n",
            "Epoch 58/120\n",
            "95/95 [==============================] - 0s 405us/sample - loss: 1.3427e-05 - val_loss: 5.8191e-06\n",
            "Epoch 59/120\n",
            "95/95 [==============================] - 0s 341us/sample - loss: 1.1287e-05 - val_loss: 4.8174e-06\n",
            "Epoch 60/120\n",
            "95/95 [==============================] - 0s 402us/sample - loss: 9.0280e-06 - val_loss: 6.0988e-06\n",
            "Epoch 61/120\n",
            "95/95 [==============================] - 0s 400us/sample - loss: 7.3899e-06 - val_loss: 3.7622e-06\n",
            "Epoch 62/120\n",
            "95/95 [==============================] - 0s 373us/sample - loss: 6.6292e-06 - val_loss: 3.3719e-06\n",
            "Epoch 63/120\n",
            "95/95 [==============================] - 0s 383us/sample - loss: 5.4261e-06 - val_loss: 3.1888e-06\n",
            "Epoch 64/120\n",
            "95/95 [==============================] - 0s 345us/sample - loss: 4.4513e-06 - val_loss: 2.0965e-06\n",
            "Epoch 65/120\n",
            "95/95 [==============================] - 0s 390us/sample - loss: 3.5896e-06 - val_loss: 2.1686e-06\n",
            "Epoch 66/120\n",
            "95/95 [==============================] - 0s 414us/sample - loss: 2.9566e-06 - val_loss: 1.4803e-06\n",
            "Epoch 67/120\n",
            "95/95 [==============================] - 0s 444us/sample - loss: 2.5314e-06 - val_loss: 1.2770e-06\n",
            "Epoch 68/120\n",
            "95/95 [==============================] - 0s 338us/sample - loss: 2.2227e-06 - val_loss: 1.3000e-06\n",
            "Epoch 69/120\n",
            "95/95 [==============================] - 0s 415us/sample - loss: 2.0499e-06 - val_loss: 1.0953e-06\n",
            "Epoch 70/120\n",
            "95/95 [==============================] - 0s 499us/sample - loss: 1.8993e-06 - val_loss: 1.0368e-06\n",
            "Epoch 71/120\n",
            "95/95 [==============================] - 0s 490us/sample - loss: 1.7759e-06 - val_loss: 9.8124e-07\n",
            "Epoch 72/120\n",
            "95/95 [==============================] - 0s 413us/sample - loss: 1.6735e-06 - val_loss: 9.3227e-07\n",
            "Epoch 73/120\n",
            "95/95 [==============================] - 0s 407us/sample - loss: 1.5705e-06 - val_loss: 9.2394e-07\n",
            "Epoch 74/120\n",
            "95/95 [==============================] - 0s 368us/sample - loss: 1.5023e-06 - val_loss: 8.3138e-07\n",
            "Epoch 75/120\n",
            "95/95 [==============================] - 0s 396us/sample - loss: 1.4202e-06 - val_loss: 7.9855e-07\n",
            "Epoch 76/120\n",
            "95/95 [==============================] - 0s 389us/sample - loss: 1.3618e-06 - val_loss: 7.2620e-07\n",
            "Epoch 77/120\n",
            "95/95 [==============================] - 0s 365us/sample - loss: 1.3257e-06 - val_loss: 7.4353e-07\n",
            "Epoch 78/120\n",
            "95/95 [==============================] - 0s 312us/sample - loss: 1.2720e-06 - val_loss: 6.9484e-07\n",
            "Epoch 79/120\n",
            "95/95 [==============================] - 0s 460us/sample - loss: 1.2133e-06 - val_loss: 6.5740e-07\n",
            "Epoch 80/120\n",
            "95/95 [==============================] - 0s 373us/sample - loss: 1.1747e-06 - val_loss: 7.1507e-07\n",
            "Epoch 81/120\n",
            "95/95 [==============================] - 0s 363us/sample - loss: 1.1495e-06 - val_loss: 6.4155e-07\n",
            "Epoch 82/120\n",
            "95/95 [==============================] - 0s 351us/sample - loss: 1.1004e-06 - val_loss: 6.2889e-07\n",
            "Epoch 83/120\n",
            "95/95 [==============================] - 0s 461us/sample - loss: 1.0765e-06 - val_loss: 5.8500e-07\n",
            "Epoch 84/120\n",
            "95/95 [==============================] - 0s 403us/sample - loss: 1.1153e-06 - val_loss: 5.5158e-07\n",
            "Epoch 85/120\n",
            "95/95 [==============================] - 0s 453us/sample - loss: 1.0837e-06 - val_loss: 6.6631e-07\n",
            "Epoch 86/120\n",
            "95/95 [==============================] - 0s 456us/sample - loss: 9.7931e-07 - val_loss: 5.6900e-07\n",
            "Epoch 87/120\n",
            "95/95 [==============================] - 0s 424us/sample - loss: 9.6476e-07 - val_loss: 6.1837e-07\n",
            "Epoch 88/120\n",
            "95/95 [==============================] - 0s 411us/sample - loss: 9.4597e-07 - val_loss: 5.2244e-07\n",
            "Epoch 89/120\n",
            "95/95 [==============================] - 0s 401us/sample - loss: 9.0290e-07 - val_loss: 5.1019e-07\n",
            "Epoch 90/120\n",
            "95/95 [==============================] - 0s 371us/sample - loss: 8.7569e-07 - val_loss: 4.8247e-07\n",
            "Epoch 91/120\n",
            "95/95 [==============================] - 0s 493us/sample - loss: 8.4583e-07 - val_loss: 4.5575e-07\n",
            "Epoch 92/120\n",
            "95/95 [==============================] - 0s 506us/sample - loss: 8.2798e-07 - val_loss: 4.7931e-07\n",
            "Epoch 93/120\n",
            "95/95 [==============================] - 0s 472us/sample - loss: 7.7995e-07 - val_loss: 4.4105e-07\n",
            "Epoch 94/120\n",
            "95/95 [==============================] - 0s 468us/sample - loss: 7.7735e-07 - val_loss: 4.7029e-07\n",
            "Epoch 95/120\n",
            "95/95 [==============================] - 0s 504us/sample - loss: 7.7087e-07 - val_loss: 4.2705e-07\n",
            "Epoch 96/120\n",
            "95/95 [==============================] - 0s 479us/sample - loss: 7.8067e-07 - val_loss: 4.1482e-07\n",
            "Epoch 97/120\n",
            "95/95 [==============================] - 0s 349us/sample - loss: 8.0333e-07 - val_loss: 4.0979e-07\n",
            "Epoch 98/120\n",
            "95/95 [==============================] - 0s 357us/sample - loss: 7.5775e-07 - val_loss: 3.9488e-07\n",
            "Epoch 99/120\n",
            "95/95 [==============================] - 0s 352us/sample - loss: 7.0799e-07 - val_loss: 5.6858e-07\n",
            "Epoch 100/120\n",
            "95/95 [==============================] - 0s 380us/sample - loss: 6.9364e-07 - val_loss: 4.2622e-07\n",
            "Epoch 101/120\n",
            "95/95 [==============================] - 0s 374us/sample - loss: 6.8833e-07 - val_loss: 4.5469e-07\n",
            "Epoch 102/120\n",
            "95/95 [==============================] - 0s 384us/sample - loss: 6.5144e-07 - val_loss: 3.5673e-07\n",
            "Epoch 103/120\n",
            "95/95 [==============================] - 0s 393us/sample - loss: 6.3400e-07 - val_loss: 3.3461e-07\n",
            "Epoch 104/120\n",
            "95/95 [==============================] - 0s 509us/sample - loss: 5.9586e-07 - val_loss: 4.0327e-07\n",
            "Epoch 105/120\n",
            "95/95 [==============================] - 0s 419us/sample - loss: 5.9387e-07 - val_loss: 3.3352e-07\n",
            "Epoch 106/120\n",
            "95/95 [==============================] - 0s 343us/sample - loss: 5.6792e-07 - val_loss: 4.1840e-07\n",
            "Epoch 107/120\n",
            "95/95 [==============================] - 0s 370us/sample - loss: 5.9223e-07 - val_loss: 3.1482e-07\n",
            "Epoch 108/120\n",
            "95/95 [==============================] - 0s 374us/sample - loss: 5.5484e-07 - val_loss: 3.2583e-07\n",
            "Epoch 109/120\n",
            "95/95 [==============================] - 0s 419us/sample - loss: 5.3619e-07 - val_loss: 3.0531e-07\n",
            "Epoch 110/120\n",
            "95/95 [==============================] - 0s 405us/sample - loss: 5.0890e-07 - val_loss: 2.8503e-07\n",
            "Epoch 111/120\n",
            "95/95 [==============================] - 0s 358us/sample - loss: 5.0800e-07 - val_loss: 2.9025e-07\n",
            "Epoch 112/120\n",
            "95/95 [==============================] - 0s 453us/sample - loss: 4.8748e-07 - val_loss: 2.7559e-07\n",
            "Epoch 113/120\n",
            "95/95 [==============================] - 0s 433us/sample - loss: 4.8120e-07 - val_loss: 3.0252e-07\n",
            "Epoch 114/120\n",
            "95/95 [==============================] - 0s 364us/sample - loss: 4.7899e-07 - val_loss: 2.6300e-07\n",
            "Epoch 115/120\n",
            "95/95 [==============================] - 0s 381us/sample - loss: 4.7247e-07 - val_loss: 2.6615e-07\n",
            "Epoch 116/120\n",
            "95/95 [==============================] - 0s 382us/sample - loss: 4.5720e-07 - val_loss: 2.6103e-07\n",
            "Epoch 117/120\n",
            "95/95 [==============================] - 0s 365us/sample - loss: 4.5353e-07 - val_loss: 2.4289e-07\n",
            "Epoch 118/120\n",
            "95/95 [==============================] - 0s 323us/sample - loss: 4.3369e-07 - val_loss: 2.9091e-07\n",
            "Epoch 119/120\n",
            "95/95 [==============================] - 0s 439us/sample - loss: 4.3590e-07 - val_loss: 2.3564e-07\n",
            "Epoch 120/120\n",
            "95/95 [==============================] - 0s 406us/sample - loss: 4.2012e-07 - val_loss: 2.3568e-07\n"
          ],
          "name": "stdout"
        }
      ]
    },
    {
      "cell_type": "code",
      "metadata": {
        "id": "LoCmzmS7my_X",
        "colab_type": "code",
        "outputId": "e2c31b97-a317-4dc0-ef81-2dab73e44cea",
        "colab": {
          "base_uri": "https://localhost:8080/",
          "height": 1000
        }
      },
      "source": [
        "r_noise = model_noise.fit(X_norm[:-N_norm//2], Y_norm[:-N_norm//2], epochs=120, batch_size=32,validation_data=(X_norm[-N_norm//2:], Y_norm[-N_norm//2:]))"
      ],
      "execution_count": 10,
      "outputs": [
        {
          "output_type": "stream",
          "text": [
            "Train on 95 samples, validate on 95 samples\n",
            "Epoch 1/120\n",
            "95/95 [==============================] - 1s 7ms/sample - loss: 0.0569 - val_loss: 0.0492\n",
            "Epoch 2/120\n",
            "95/95 [==============================] - 0s 470us/sample - loss: 0.0419 - val_loss: 0.0142\n",
            "Epoch 3/120\n",
            "95/95 [==============================] - 0s 371us/sample - loss: 0.0091 - val_loss: 0.0241\n",
            "Epoch 4/120\n",
            "95/95 [==============================] - 0s 423us/sample - loss: 0.0186 - val_loss: 0.0023\n",
            "Epoch 5/120\n",
            "95/95 [==============================] - 0s 327us/sample - loss: 0.0045 - val_loss: 0.0166\n",
            "Epoch 6/120\n",
            "95/95 [==============================] - 0s 357us/sample - loss: 0.0094 - val_loss: 0.0048\n",
            "Epoch 7/120\n",
            "95/95 [==============================] - 0s 397us/sample - loss: 0.0025 - val_loss: 0.0062\n",
            "Epoch 8/120\n",
            "95/95 [==============================] - 0s 441us/sample - loss: 0.0068 - val_loss: 0.0034\n",
            "Epoch 9/120\n",
            "95/95 [==============================] - 0s 449us/sample - loss: 0.0029 - val_loss: 0.0092\n",
            "Epoch 10/120\n",
            "95/95 [==============================] - 0s 421us/sample - loss: 0.0055 - val_loss: 0.0050\n",
            "Epoch 11/120\n",
            "95/95 [==============================] - 0s 443us/sample - loss: 0.0027 - val_loss: 0.0025\n",
            "Epoch 12/120\n",
            "95/95 [==============================] - 0s 382us/sample - loss: 0.0040 - val_loss: 0.0016\n",
            "Epoch 13/120\n",
            "95/95 [==============================] - 0s 348us/sample - loss: 0.0021 - val_loss: 0.0049\n",
            "Epoch 14/120\n",
            "95/95 [==============================] - 0s 350us/sample - loss: 0.0026 - val_loss: 0.0021\n",
            "Epoch 15/120\n",
            "95/95 [==============================] - 0s 335us/sample - loss: 0.0017 - val_loss: 0.0016\n",
            "Epoch 16/120\n",
            "95/95 [==============================] - 0s 328us/sample - loss: 0.0019 - val_loss: 0.0019\n",
            "Epoch 17/120\n",
            "95/95 [==============================] - 0s 326us/sample - loss: 0.0017 - val_loss: 0.0027\n",
            "Epoch 18/120\n",
            "95/95 [==============================] - 0s 374us/sample - loss: 0.0016 - val_loss: 0.0015\n",
            "Epoch 19/120\n",
            "95/95 [==============================] - 0s 421us/sample - loss: 0.0016 - val_loss: 0.0016\n",
            "Epoch 20/120\n",
            "95/95 [==============================] - 0s 480us/sample - loss: 0.0016 - val_loss: 0.0023\n",
            "Epoch 21/120\n",
            "95/95 [==============================] - 0s 527us/sample - loss: 0.0013 - val_loss: 0.0013\n",
            "Epoch 22/120\n",
            "95/95 [==============================] - 0s 440us/sample - loss: 0.0014 - val_loss: 0.0013\n",
            "Epoch 23/120\n",
            "95/95 [==============================] - 0s 336us/sample - loss: 0.0012 - val_loss: 0.0018\n",
            "Epoch 24/120\n",
            "95/95 [==============================] - 0s 398us/sample - loss: 0.0012 - val_loss: 0.0012\n",
            "Epoch 25/120\n",
            "95/95 [==============================] - 0s 380us/sample - loss: 0.0010 - val_loss: 0.0011\n",
            "Epoch 26/120\n",
            "95/95 [==============================] - 0s 369us/sample - loss: 0.0010 - val_loss: 0.0012\n",
            "Epoch 27/120\n",
            "95/95 [==============================] - 0s 396us/sample - loss: 7.9323e-04 - val_loss: 7.1355e-04\n",
            "Epoch 28/120\n",
            "95/95 [==============================] - 0s 334us/sample - loss: 7.5951e-04 - val_loss: 7.5888e-04\n",
            "Epoch 29/120\n",
            "95/95 [==============================] - 0s 361us/sample - loss: 6.1691e-04 - val_loss: 6.7897e-04\n",
            "Epoch 30/120\n",
            "95/95 [==============================] - 0s 372us/sample - loss: 4.0732e-04 - val_loss: 2.8291e-04\n",
            "Epoch 31/120\n",
            "95/95 [==============================] - 0s 333us/sample - loss: 3.0877e-04 - val_loss: 2.1006e-04\n",
            "Epoch 32/120\n",
            "95/95 [==============================] - 0s 365us/sample - loss: 1.8021e-04 - val_loss: 1.6247e-04\n",
            "Epoch 33/120\n",
            "95/95 [==============================] - 0s 326us/sample - loss: 1.0943e-04 - val_loss: 4.7736e-05\n",
            "Epoch 34/120\n",
            "95/95 [==============================] - 0s 334us/sample - loss: 5.8124e-05 - val_loss: 3.8549e-05\n",
            "Epoch 35/120\n",
            "95/95 [==============================] - 0s 386us/sample - loss: 4.7922e-05 - val_loss: 3.3577e-05\n",
            "Epoch 36/120\n",
            "95/95 [==============================] - 0s 417us/sample - loss: 4.5451e-05 - val_loss: 4.1827e-05\n",
            "Epoch 37/120\n",
            "95/95 [==============================] - 0s 378us/sample - loss: 4.5665e-05 - val_loss: 2.8126e-05\n",
            "Epoch 38/120\n",
            "95/95 [==============================] - 0s 430us/sample - loss: 3.2072e-05 - val_loss: 3.6253e-05\n",
            "Epoch 39/120\n",
            "95/95 [==============================] - 0s 348us/sample - loss: 1.9129e-05 - val_loss: 9.4277e-06\n",
            "Epoch 40/120\n",
            "95/95 [==============================] - 0s 365us/sample - loss: 1.0275e-05 - val_loss: 3.1638e-06\n",
            "Epoch 41/120\n",
            "95/95 [==============================] - 0s 580us/sample - loss: 4.4837e-06 - val_loss: 1.1040e-06\n",
            "Epoch 42/120\n",
            "95/95 [==============================] - 0s 534us/sample - loss: 2.5347e-06 - val_loss: 7.9794e-06\n",
            "Epoch 43/120\n",
            "95/95 [==============================] - 0s 380us/sample - loss: 3.4472e-06 - val_loss: 3.3339e-06\n",
            "Epoch 44/120\n",
            "95/95 [==============================] - 0s 473us/sample - loss: 4.4816e-06 - val_loss: 6.4440e-06\n",
            "Epoch 45/120\n",
            "95/95 [==============================] - 0s 409us/sample - loss: 3.8664e-06 - val_loss: 2.5734e-06\n",
            "Epoch 46/120\n",
            "95/95 [==============================] - 0s 381us/sample - loss: 2.4646e-06 - val_loss: 1.1836e-06\n",
            "Epoch 47/120\n",
            "95/95 [==============================] - 0s 329us/sample - loss: 1.7453e-06 - val_loss: 1.5834e-06\n",
            "Epoch 48/120\n",
            "95/95 [==============================] - 0s 397us/sample - loss: 8.2654e-07 - val_loss: 5.8144e-07\n",
            "Epoch 49/120\n",
            "95/95 [==============================] - 0s 377us/sample - loss: 5.4768e-07 - val_loss: 5.5918e-07\n",
            "Epoch 50/120\n",
            "95/95 [==============================] - 0s 388us/sample - loss: 6.2854e-07 - val_loss: 8.6935e-07\n",
            "Epoch 51/120\n",
            "95/95 [==============================] - 0s 497us/sample - loss: 7.0555e-07 - val_loss: 5.0482e-07\n",
            "Epoch 52/120\n",
            "95/95 [==============================] - 0s 565us/sample - loss: 6.3736e-07 - val_loss: 5.5737e-07\n",
            "Epoch 53/120\n",
            "95/95 [==============================] - 0s 510us/sample - loss: 5.2498e-07 - val_loss: 2.5301e-07\n",
            "Epoch 54/120\n",
            "95/95 [==============================] - 0s 524us/sample - loss: 3.5180e-07 - val_loss: 1.7218e-07\n",
            "Epoch 55/120\n",
            "95/95 [==============================] - 0s 405us/sample - loss: 2.8477e-07 - val_loss: 1.4840e-07\n",
            "Epoch 56/120\n",
            "95/95 [==============================] - 0s 367us/sample - loss: 2.6982e-07 - val_loss: 1.4682e-07\n",
            "Epoch 57/120\n",
            "95/95 [==============================] - 0s 353us/sample - loss: 2.7565e-07 - val_loss: 1.7559e-07\n",
            "Epoch 58/120\n",
            "95/95 [==============================] - 0s 345us/sample - loss: 2.7941e-07 - val_loss: 1.8303e-07\n",
            "Epoch 59/120\n",
            "95/95 [==============================] - 0s 360us/sample - loss: 2.7349e-07 - val_loss: 1.6029e-07\n",
            "Epoch 60/120\n",
            "95/95 [==============================] - 0s 340us/sample - loss: 2.5259e-07 - val_loss: 1.4503e-07\n",
            "Epoch 61/120\n",
            "95/95 [==============================] - 0s 456us/sample - loss: 2.3665e-07 - val_loss: 1.2093e-07\n",
            "Epoch 62/120\n",
            "95/95 [==============================] - 0s 441us/sample - loss: 2.2305e-07 - val_loss: 1.1333e-07\n",
            "Epoch 63/120\n",
            "95/95 [==============================] - 0s 386us/sample - loss: 2.1290e-07 - val_loss: 1.0868e-07\n",
            "Epoch 64/120\n",
            "95/95 [==============================] - 0s 499us/sample - loss: 2.1417e-07 - val_loss: 1.1314e-07\n",
            "Epoch 65/120\n",
            "95/95 [==============================] - 0s 403us/sample - loss: 2.1598e-07 - val_loss: 1.2848e-07\n",
            "Epoch 66/120\n",
            "95/95 [==============================] - 0s 397us/sample - loss: 2.0217e-07 - val_loss: 1.0393e-07\n",
            "Epoch 67/120\n",
            "95/95 [==============================] - 0s 388us/sample - loss: 2.0224e-07 - val_loss: 9.7919e-08\n",
            "Epoch 68/120\n",
            "95/95 [==============================] - 0s 429us/sample - loss: 1.8828e-07 - val_loss: 1.1743e-07\n",
            "Epoch 69/120\n",
            "95/95 [==============================] - 0s 489us/sample - loss: 1.9694e-07 - val_loss: 1.0094e-07\n",
            "Epoch 70/120\n",
            "95/95 [==============================] - 0s 347us/sample - loss: 1.8536e-07 - val_loss: 9.7756e-08\n",
            "Epoch 71/120\n",
            "95/95 [==============================] - 0s 355us/sample - loss: 1.8427e-07 - val_loss: 9.3462e-08\n",
            "Epoch 72/120\n",
            "95/95 [==============================] - 0s 450us/sample - loss: 1.7567e-07 - val_loss: 9.8945e-08\n",
            "Epoch 73/120\n",
            "95/95 [==============================] - 0s 441us/sample - loss: 1.6931e-07 - val_loss: 8.4463e-08\n",
            "Epoch 74/120\n",
            "95/95 [==============================] - 0s 377us/sample - loss: 1.7229e-07 - val_loss: 8.4862e-08\n",
            "Epoch 75/120\n",
            "95/95 [==============================] - 0s 354us/sample - loss: 1.8755e-07 - val_loss: 9.1843e-08\n",
            "Epoch 76/120\n",
            "95/95 [==============================] - 0s 357us/sample - loss: 1.7771e-07 - val_loss: 8.2987e-08\n",
            "Epoch 77/120\n",
            "95/95 [==============================] - 0s 362us/sample - loss: 1.6382e-07 - val_loss: 9.5567e-08\n",
            "Epoch 78/120\n",
            "95/95 [==============================] - 0s 347us/sample - loss: 1.6832e-07 - val_loss: 8.1672e-08\n",
            "Epoch 79/120\n",
            "95/95 [==============================] - 0s 340us/sample - loss: 1.7140e-07 - val_loss: 7.9931e-08\n",
            "Epoch 80/120\n",
            "95/95 [==============================] - 0s 421us/sample - loss: 1.5069e-07 - val_loss: 8.6195e-08\n",
            "Epoch 81/120\n",
            "95/95 [==============================] - 0s 419us/sample - loss: 1.6173e-07 - val_loss: 8.0577e-08\n",
            "Epoch 82/120\n",
            "95/95 [==============================] - 0s 331us/sample - loss: 1.3760e-07 - val_loss: 6.9496e-08\n",
            "Epoch 83/120\n",
            "95/95 [==============================] - 0s 346us/sample - loss: 1.4523e-07 - val_loss: 7.2751e-08\n",
            "Epoch 84/120\n",
            "95/95 [==============================] - 0s 353us/sample - loss: 1.3809e-07 - val_loss: 7.2396e-08\n",
            "Epoch 85/120\n",
            "95/95 [==============================] - 0s 350us/sample - loss: 1.3217e-07 - val_loss: 6.8110e-08\n",
            "Epoch 86/120\n",
            "95/95 [==============================] - 0s 334us/sample - loss: 1.3123e-07 - val_loss: 6.1097e-08\n",
            "Epoch 87/120\n",
            "95/95 [==============================] - 0s 342us/sample - loss: 1.2490e-07 - val_loss: 7.1307e-08\n",
            "Epoch 88/120\n",
            "95/95 [==============================] - 0s 349us/sample - loss: 1.3777e-07 - val_loss: 6.5176e-08\n",
            "Epoch 89/120\n",
            "95/95 [==============================] - 0s 428us/sample - loss: 1.3674e-07 - val_loss: 6.2702e-08\n",
            "Epoch 90/120\n",
            "95/95 [==============================] - 0s 426us/sample - loss: 1.2546e-07 - val_loss: 8.7906e-08\n",
            "Epoch 91/120\n",
            "95/95 [==============================] - 0s 377us/sample - loss: 1.3496e-07 - val_loss: 5.8843e-08\n",
            "Epoch 92/120\n",
            "95/95 [==============================] - 0s 364us/sample - loss: 1.3678e-07 - val_loss: 6.0359e-08\n",
            "Epoch 93/120\n",
            "95/95 [==============================] - 0s 349us/sample - loss: 1.1621e-07 - val_loss: 6.9172e-08\n",
            "Epoch 94/120\n",
            "95/95 [==============================] - 0s 348us/sample - loss: 1.2251e-07 - val_loss: 6.7173e-08\n",
            "Epoch 95/120\n",
            "95/95 [==============================] - 0s 373us/sample - loss: 1.1580e-07 - val_loss: 6.0192e-08\n",
            "Epoch 96/120\n",
            "95/95 [==============================] - 0s 336us/sample - loss: 1.1753e-07 - val_loss: 6.5248e-08\n",
            "Epoch 97/120\n",
            "95/95 [==============================] - 0s 441us/sample - loss: 1.1409e-07 - val_loss: 4.9404e-08\n",
            "Epoch 98/120\n",
            "95/95 [==============================] - 0s 350us/sample - loss: 1.1793e-07 - val_loss: 4.6935e-08\n",
            "Epoch 99/120\n",
            "95/95 [==============================] - 0s 378us/sample - loss: 1.0847e-07 - val_loss: 5.4230e-08\n",
            "Epoch 100/120\n",
            "95/95 [==============================] - 0s 337us/sample - loss: 9.9269e-08 - val_loss: 4.4328e-08\n",
            "Epoch 101/120\n",
            "95/95 [==============================] - 0s 329us/sample - loss: 9.8197e-08 - val_loss: 4.2965e-08\n",
            "Epoch 102/120\n",
            "95/95 [==============================] - 0s 359us/sample - loss: 1.0539e-07 - val_loss: 4.6034e-08\n",
            "Epoch 103/120\n",
            "95/95 [==============================] - 0s 325us/sample - loss: 1.0231e-07 - val_loss: 6.6631e-08\n",
            "Epoch 104/120\n",
            "95/95 [==============================] - 0s 364us/sample - loss: 1.0580e-07 - val_loss: 5.9603e-08\n",
            "Epoch 105/120\n",
            "95/95 [==============================] - 0s 362us/sample - loss: 1.0864e-07 - val_loss: 7.2445e-08\n",
            "Epoch 106/120\n",
            "95/95 [==============================] - 0s 344us/sample - loss: 1.0562e-07 - val_loss: 5.9667e-08\n",
            "Epoch 107/120\n",
            "95/95 [==============================] - 0s 372us/sample - loss: 1.0204e-07 - val_loss: 6.2200e-08\n",
            "Epoch 108/120\n",
            "95/95 [==============================] - 0s 362us/sample - loss: 1.0417e-07 - val_loss: 5.0756e-08\n",
            "Epoch 109/120\n",
            "95/95 [==============================] - 0s 354us/sample - loss: 9.1047e-08 - val_loss: 4.1754e-08\n",
            "Epoch 110/120\n",
            "95/95 [==============================] - 0s 369us/sample - loss: 8.3719e-08 - val_loss: 3.8181e-08\n",
            "Epoch 111/120\n",
            "95/95 [==============================] - 0s 370us/sample - loss: 8.2918e-08 - val_loss: 6.7839e-08\n",
            "Epoch 112/120\n",
            "95/95 [==============================] - 0s 426us/sample - loss: 8.4048e-08 - val_loss: 4.4864e-08\n",
            "Epoch 113/120\n",
            "95/95 [==============================] - 0s 459us/sample - loss: 8.5339e-08 - val_loss: 5.3460e-08\n",
            "Epoch 114/120\n",
            "95/95 [==============================] - 0s 415us/sample - loss: 8.5898e-08 - val_loss: 4.1493e-08\n",
            "Epoch 115/120\n",
            "95/95 [==============================] - 0s 394us/sample - loss: 8.4618e-08 - val_loss: 3.6494e-08\n",
            "Epoch 116/120\n",
            "95/95 [==============================] - 0s 357us/sample - loss: 8.5950e-08 - val_loss: 4.6202e-08\n",
            "Epoch 117/120\n",
            "95/95 [==============================] - 0s 344us/sample - loss: 7.5614e-08 - val_loss: 5.0722e-08\n",
            "Epoch 118/120\n",
            "95/95 [==============================] - 0s 503us/sample - loss: 8.4812e-08 - val_loss: 6.5679e-08\n",
            "Epoch 119/120\n",
            "95/95 [==============================] - 0s 411us/sample - loss: 8.4755e-08 - val_loss: 4.2967e-08\n",
            "Epoch 120/120\n",
            "95/95 [==============================] - 0s 462us/sample - loss: 8.6940e-08 - val_loss: 4.9681e-08\n"
          ],
          "name": "stdout"
        }
      ]
    },
    {
      "cell_type": "code",
      "metadata": {
        "id": "Xis140zhqN_J",
        "colab_type": "code",
        "outputId": "f9aac0a5-138c-467c-aeaa-7b564e0dc3cb",
        "colab": {
          "base_uri": "https://localhost:8080/",
          "height": 281
        }
      },
      "source": [
        "plt.plot(r_norm.history['loss'], Label= 'Loss')\n",
        "plt.plot(r_norm.history['val_loss'], Label= 'Val_Loss')\n",
        "plt.legend()\n",
        "plt.title('Loss per Epoch')\n",
        "plt.show()"
      ],
      "execution_count": 11,
      "outputs": [
        {
          "output_type": "display_data",
          "data": {
            "image/png": "[encoded data removed]",
            "text/plain": [
              "<Figure size 432x288 with 1 Axes>"
            ]
          },
          "metadata": {
            "tags": []
          }
        }
      ]
    },
    {
      "cell_type": "code",
      "metadata": {
        "colab_type": "code",
        "outputId": "07fc5ba9-23ce-4d38-b134-b6c2e47b539c",
        "id": "dPiwFrdeoP0e",
        "colab": {
          "base_uri": "https://localhost:8080/",
          "height": 281
        }
      },
      "source": [
        "plt.plot(r_noise.history['loss'], Label= 'Loss')\n",
        "plt.plot(r_noise.history['val_loss'], Label= 'Val_Loss')\n",
        "plt.legend()\n",
        "plt.title('Loss per Epoch')\n",
        "plt.show()"
      ],
      "execution_count": 12,
      "outputs": [
        {
          "output_type": "display_data",
          "data": {
            "image/png": "[encoded data removed]",
            "text/plain": [
              "<Figure size 432x288 with 1 Axes>"
            ]
          },
          "metadata": {
            "tags": []
          }
        }
      ]
    },
    {
      "cell_type": "code",
      "metadata": {
        "id": "dLf23_F1q5UC",
        "colab_type": "code",
        "colab": {}
      },
      "source": [
        "# Forecast future values using only self predictions for making future predictions,(Not using the true targets)\n",
        "validation_targets_norm = Y_norm[-N_norm//2:]\n",
        "validation_predictions_norm = []\n",
        "\n",
        "# Last Training input, begins where the validation set starts\n",
        "last_x = X_norm[-N_norm//2]\n",
        "\n",
        "while len(validation_predictions_norm) < len(validation_targets_norm):\n",
        "  p = model_norm.predict(last_x.reshape(1,T,1))[0,0] # Model.predct returns N=Samples by K=Output Nodes output in this case it returns a matrix [1,1] so the first position [0,0] must be indexed to get the value\n",
        "\n",
        "# Update Predictions List\n",
        "  validation_predictions_norm.append(p)\n",
        "\n",
        "# Make the New Input\n",
        "  last_x = np.roll(last_x, -1) # np.roll shifts the array. Negative values shift to the left, positive values shift to the right\n",
        "  last_x[-1] = p"
      ],
      "execution_count": 0,
      "outputs": []
    },
    {
      "cell_type": "code",
      "metadata": {
        "id": "4oARUtNXzG7w",
        "colab_type": "code",
        "outputId": "98f6dd82-7093-43a6-8a93-2d4901ed7245",
        "colab": {
          "base_uri": "https://localhost:8080/",
          "height": 265
        }
      },
      "source": [
        "plt.plot(validation_targets_norm, label ='Forecast Target')\n",
        "plt.plot(validation_predictions_norm, label='Forecast Prediction')\n",
        "plt.legend()\n",
        "plt.show()"
      ],
      "execution_count": 14,
      "outputs": [
        {
          "output_type": "display_data",
          "data": {
            "image/png": "[encoded data removed]",
            "text/plain": [
              "<Figure size 432x288 with 1 Axes>"
            ]
          },
          "metadata": {
            "tags": []
          }
        }
      ]
    },
    {
      "cell_type": "code",
      "metadata": {
        "colab_type": "code",
        "id": "sQu7bxyAo-DH",
        "colab": {}
      },
      "source": [
        "# Forecast future values using only self predictions for making future predictions,(Not using the true targets)\n",
        "validation_targets_noise = Y_noise[-N_noise//2:]\n",
        "validation_predictions_noise = []\n",
        "\n",
        "# Last Training input, begins where the validation set starts\n",
        "last_x = X_noise[-N_noise//2]\n",
        "\n",
        "while len(validation_predictions_noise) < len(validation_targets_noise):\n",
        "  p = model_noise.predict(last_x.reshape(1,T,1))[0,0] # Model.predct returns N=Samples by K=Output Nodes output in this case it returns a matrix [1,1] so the first position [0,0] must be indexed to get the value\n",
        "\n",
        "# Update Predictions List\n",
        "  validation_predictions_noise.append(p)\n",
        "\n",
        "# Make the New Input\n",
        "  last_x = np.roll(last_x, -1) # np.roll shifts the array. Negative values shift to the left, positive values shift to the right\n",
        "  last_x[-1] = p"
      ],
      "execution_count": 0,
      "outputs": []
    },
    {
      "cell_type": "code",
      "metadata": {
        "colab_type": "code",
        "outputId": "6295158b-1a2c-4239-de72-2b19e8a49b36",
        "id": "xL_U6uK-pNbs",
        "colab": {
          "base_uri": "https://localhost:8080/",
          "height": 265
        }
      },
      "source": [
        "plt.plot(validation_targets_noise, label ='Forecast Target')\n",
        "plt.plot(validation_predictions_noise, label='Forecast Prediction')\n",
        "plt.legend()\n",
        "plt.show()"
      ],
      "execution_count": 16,
      "outputs": [
        {
          "output_type": "display_data",
          "data": {
            "image/png": "[encoded data removed]",
            "text/plain": [
              "<Figure size 432x288 with 1 Axes>"
            ]
          },
          "metadata": {
            "tags": []
          }
        }
      ]
    }
  ]
}